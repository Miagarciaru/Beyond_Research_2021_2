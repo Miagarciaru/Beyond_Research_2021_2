{
 "cells": [
  {
   "cell_type": "markdown",
   "id": "8dfaf1a3",
   "metadata": {},
   "source": [
    "<CENTER><img src=\"../images/ATLASOD.gif\" style=\"width:50%\"></CENTER>"
   ]
  },
  {
   "cell_type": "markdown",
   "id": "e3acf3fe",
   "metadata": {},
   "source": [
    "# <CENTER><h1> Analysis of $H \\rightarrow ZZ$ process. Rediscovering the Higgs boson by yourself</h1></CENTER>"
   ]
  },
  {
   "cell_type": "markdown",
   "id": "1d1cd2ba",
   "metadata": {},
   "source": [
    "## Simple pyROOT notebook example\n",
    "<p> In this notebook you can find an easy set of commands that show the basic computing techniques commonly used in high energy  physics (HEP) analysis. It also shows how to create a histogram, fills it, draws it and uses a fit function on it. Moreover it is an introduction to [ROOT](https://root.cern.ch/) too. At the end you will get a plot with the invariant mass of the four leptons system, which represents the invariant mass of the Z boson.</p>\n",
    "\n",
    "<p> The Analysis is implemented by using some useful tools, such as pandas (to storage dataframes), numpy (the numerical library of python), uproot3 (to read root files), matplotlib (to plot our graphics) and math library (an additional library in python that allows you to use numerical functions)."
   ]
  },
  {
   "cell_type": "markdown",
   "id": "580fc0e3",
   "metadata": {},
   "source": [
    "First at all, we should verify that we have installed all need tools to perform our analysis. If we haven't, we can run the next code line:"
   ]
  },
  {
   "cell_type": "code",
   "execution_count": null,
   "id": "16e04f4c",
   "metadata": {},
   "outputs": [],
   "source": [
    "import sys\n",
    "!{sys.executable} -m pip install --upgrade --user pip # update the pip package installer\n",
    "!{sys.executable} -m pip install -U numpy pandas uproot3 matplotlib --user # install required packages"
   ]
  },
  {
   "cell_type": "markdown",
   "id": "f352bcd2",
   "metadata": {},
   "source": [
    "Now, we can import the tools that we are going to use (pandas, numpy, matplotlib, etc):"
   ]
  },
  {
   "cell_type": "code",
   "execution_count": 1,
   "id": "2c1e6a5d",
   "metadata": {},
   "outputs": [
    {
     "name": "stderr",
     "output_type": "stream",
     "text": [
      "/cvmfs/sft.cern.ch/lcg/views/LCG_101swan/x86_64-centos7-gcc10-opt/lib/python3.9/site-packages/uproot3/__init__.py:127: FutureWarning: Consider switching from 'uproot3' to 'uproot', since the new interface became the default in 2020.\n",
      "\n",
      "    pip install -U uproot\n",
      "\n",
      "In Python:\n",
      "\n",
      "    >>> import uproot\n",
      "    >>> with uproot.open(...) as file:\n",
      "    ...\n",
      "\n",
      "  warnings.warn(\n",
      "/cvmfs/sft.cern.ch/lcg/views/LCG_101swan/x86_64-centos7-gcc10-opt/lib/python3.9/site-packages/awkward0/__init__.py:12: FutureWarning: Consider switching from 'awkward0' to 'awkward', since the new interface became the default in 2020.\n",
      "\n",
      "    pip install -U awkward\n",
      "\n",
      "In Python:\n",
      "\n",
      "    >>> import awkward as ak\n",
      "    >>> new_style_array = ak.from_awkward0(old_style_array)\n",
      "    >>> old_style_array = ak.to_awkward0(new_style_array)\n",
      "\n",
      "  warnings.warn(\n"
     ]
    }
   ],
   "source": [
    "import pandas as pd # to store data as dataframes\n",
    "import numpy as np # for numerical calculations such as histogramming\n",
    "import math # for mathematical functions such as square root\n",
    "import uproot3 # to read .root files as dataframes\n",
    "import time # to measure time to analyse\n",
    "import matplotlib.pyplot as plt # for plotting\n",
    "from matplotlib.ticker import AutoMinorLocator # for minor ticks\n",
    "import infofile # local file containing info on cross-sections, sums of weights, dataset IDs"
   ]
  },
  {
   "cell_type": "markdown",
   "id": "84b42a8b",
   "metadata": {},
   "source": [
    "The root file which contains the events information is storaged in [4lep folder](https://atlas-opendata.web.cern.ch/atlas-opendata/samples/2020/4lep/). So we are going to define the \"path_file\" variable which contains the url and the name of the root file. The next code line also define a variable named \"lumi\", which represents the luminosity and it is equal to 10 $fb^{-1}$. If we want to run the analysis over a fraction of the whole data and MC samples, we can define another variable named \"fraction\", which will be defined equal to 1.0 as default. However, you can change this fraction value and see how this can affect the final result shown in the final plot:"
   ]
  },
  {
   "cell_type": "code",
   "execution_count": 2,
   "id": "c16b3761",
   "metadata": {},
   "outputs": [],
   "source": [
    "lumi = 10 # fb-1 # data_A,data_B,data_C,data_D\n",
    "\n",
    "fraction = 1.0 # reduce this is if you want the code to run quicker\n",
    "                                                                                                                                  \n",
    "#tuple_path = \"Input/4lep/\" ## for local folder, but you have to download all root files used in this analysis \n",
    "tuple_path = \"https://atlas-opendata.web.cern.ch/atlas-opendata/samples/2020/4lep/\" # web address"
   ]
  },
  {
   "cell_type": "markdown",
   "id": "8e872161",
   "metadata": {},
   "source": [
    "Now, we are going to make a list named \"samples\". In this samples list we are going to include data and background samples (including the signal we want to observe). In the next code line we can see all samples that are going to be used in the analysis and to what group they belong. If you want to add more samples, consider modify this code line too. "
   ]
  },
  {
   "cell_type": "code",
   "execution_count": 3,
   "id": "87c96547",
   "metadata": {},
   "outputs": [],
   "source": [
    "samples = {\n",
    "\n",
    "    'data': {\n",
    "        'list' : ['data_A','data_B','data_C','data_D'],\n",
    "    },\n",
    "\n",
    "    r'Background $Z,t\\bar{t}$' : { # Z + ttbar\n",
    "        'list' : ['Zee','Zmumu','ttbar_lep'],\n",
    "        'color' : \"#6b59d3\" # purple\n",
    "    },\n",
    "\n",
    "    r'Background $ZZ^*$' : { # ZZ\n",
    "        'list' : ['llll'],\n",
    "        'color' : \"#ff0000\" # red\n",
    "    },\n",
    "    \n",
    "    \n",
    "    r'Signal ($m_H$ = 125 GeV)' : { # H -> ZZ -> llll\n",
    "        'list' : ['ggH125_ZZ4lep','VBFH125_ZZ4lep','WH125_ZZ4lep','ZH125_ZZ4lep'],\n",
    "        'color' : \"#00cdff\" # light blue\n",
    "    },\n",
    "}"
   ]
  },
  {
   "cell_type": "markdown",
   "id": "efe89b63",
   "metadata": {},
   "source": [
    "The next function named \"get data from files\" return the events from data and MC samples that passed the selection criteria once we have applied all cuts. First, the function makes a for loop in the \"samples\" list and separates data from background in order to define an adequate path to open the root files. Then, it defines a temporary dataframe in which we save the events passing the criteria selection for each sample. Finally, it adds these temporary dataframes into a dictionary (named \"data\" in the next code line) for each sample group and returns this data dictionary with the information of all the events considered in the analysis that passed the criteria selection. At the end, this fucntion gives us the whole events information we need to create our final plot."
   ]
  },
  {
   "cell_type": "code",
   "execution_count": 4,
   "id": "ed613b3a",
   "metadata": {},
   "outputs": [],
   "source": [
    "def get_data_from_files():\n",
    "\n",
    "    data = {} # define empty dictionary to hold dataframes\n",
    "    for s in samples: # loop over samples\n",
    "        print('Processing '+s+' samples') # print which sample\n",
    "        frames = [] # define empty list to hold data\n",
    "        for val in samples[s]['list']: # loop over each file\n",
    "            if s == 'data': prefix = \"Data/\" # Data prefix\n",
    "            else: # MC prefix\n",
    "                prefix = \"MC/mc_\"+str(infofile.infos[val][\"DSID\"])+\".\"\n",
    "            fileString = tuple_path+prefix+val+\".4lep.root\" # file name to open\n",
    "            temp = read_file(fileString,val) # call the function read_file defined below\n",
    "            frames.append(temp) # append dataframe returned from read_file to list of dataframes\n",
    "            #print(temp['lep_pt'])\n",
    "            #print(temp['mllll'])\n",
    "        data[s] = pd.concat(frames) # dictionary entry is concatenated dataframes\n",
    "    \n",
    "    return data # return dictionary of dataframes"
   ]
  },
  {
   "cell_type": "markdown",
   "id": "d07e7e92",
   "metadata": {},
   "source": [
    "The \"calc_weight\" function calculates the total weight for each event taking into account the weight associated with the cross section and the efficiency of the detectors, the scale factors that consider the PILE UP and leptons triggers and the weight given by the algorithms used to create the MC samples. This function is only applied for MC samples and not for data."
   ]
  },
  {
   "cell_type": "code",
   "execution_count": 5,
   "id": "1beb4880",
   "metadata": {},
   "outputs": [],
   "source": [
    "def calc_weight(xsec_weight, mcWeight, scaleFactor_PILEUP,\n",
    "                scaleFactor_ELE, scaleFactor_MUON, \n",
    "                scaleFactor_LepTRIGGER ):\n",
    "    return (xsec_weight*mcWeight*scaleFactor_PILEUP*scaleFactor_ELE*scaleFactor_MUON*scaleFactor_LepTRIGGER)"
   ]
  },
  {
   "cell_type": "markdown",
   "id": "c2d4f14f",
   "metadata": {},
   "source": [
    "Now, we define a function that computes the factor weight due to the information in the infofile.py file. This function uses the event weight due to efficiency of the calorimeters, the sum of weights for MC and the cross section for samples. Of course, the data samples are not needed to be scaled, this only apply for MC samples:"
   ]
  },
  {
   "cell_type": "code",
   "execution_count": 6,
   "id": "6161b7ca",
   "metadata": {},
   "outputs": [],
   "source": [
    "def get_xsec_weight(sample):\n",
    "    info = infofile.infos[sample] # open infofile\n",
    "    xsec_weight = (lumi*1000*info[\"xsec\"])/(info[\"sumw\"]*info[\"red_eff\"]) #*1000 to go from fb-1 to pb-1\n",
    "    return xsec_weight # return cross-section weight"
   ]
  },
  {
   "cell_type": "markdown",
   "id": "def26524",
   "metadata": {},
   "source": [
    "The function that computes the mass of the four lepton system is defined below. It is needed the pT, $\\eta$, $\\phi$ and the energy of each lepton in order to get the invariant mass."
   ]
  },
  {
   "cell_type": "code",
   "execution_count": 7,
   "id": "ea0c51c0",
   "metadata": {},
   "outputs": [],
   "source": [
    "def calc_mllll(lep_pt, lep_eta, lep_phi, lep_E):\n",
    "    # first lepton is [0], 2nd lepton is [1] etc\n",
    "    px_0 = lep_pt[0]*math.cos(lep_phi[0]) # x-component of lepton[0] momentum\n",
    "    py_0 = lep_pt[0]*math.sin(lep_phi[0]) # y-component of lepton[0] momentum\n",
    "    pz_0 = lep_pt[0]*math.sinh(lep_eta[0]) # z-component of lepton[0] momentum\n",
    "    px_1 = lep_pt[1]*math.cos(lep_phi[1]) # x-component of lepton[1] momentum\n",
    "    py_1 = lep_pt[1]*math.sin(lep_phi[1]) # y-component of lepton[1] momentum\n",
    "    pz_1 = lep_pt[1]*math.sinh(lep_eta[1]) # z-component of lepton[1] momentum\n",
    "    px_2 = lep_pt[2]*math.cos(lep_phi[2]) # x-component of lepton[2] momentum\n",
    "    py_2 = lep_pt[2]*math.sin(lep_phi[2]) # y-component of lepton[2] momentum\n",
    "    pz_2 = lep_pt[2]*math.sinh(lep_eta[2]) # z-component of lepton[2] momentum\n",
    "    px_3 = lep_pt[3]*math.cos(lep_phi[3]) # x-component of lepton[3] momentum\n",
    "    py_3 = lep_pt[3]*math.sin(lep_phi[3]) # y-component of lepton[3] momentum\n",
    "    pz_3 = lep_pt[3]*math.sinh(lep_eta[3]) # z-component of lepton[3] momentum    \n",
    "    sumpx = px_0 + px_1 + px_2 + px_3 # x-component of momentum\n",
    "    sumpy = py_0 + py_1 + py_2 + py_3 # y-component of momentum\n",
    "    sumpz = pz_0 + pz_1 + pz_2 + pz_3 # z-component of momentum \n",
    "    sump = math.sqrt(sumpx**2 + sumpy**2 + sumpz**2) # magnitude of momentum \n",
    "    sumE = lep_E[0] + lep_E[1] + lep_E[2] + lep_E[3] # energy of dilepton system\n",
    "    return math.sqrt(sumE**2 - sump**2)/1000 #/1000 to go from MeV to GeV"
   ]
  },
  {
   "cell_type": "markdown",
   "id": "346ded41",
   "metadata": {},
   "source": [
    "## Changing a cut"
   ]
  },
  {
   "cell_type": "markdown",
   "id": "74468e47",
   "metadata": {},
   "source": [
    "For this analysis, we only apply two main cuts. These cuts are going to be defined as follow:"
   ]
  },
  {
   "cell_type": "markdown",
   "id": "f998cbc9",
   "metadata": {},
   "source": [
    "### Lepton charge cut"
   ]
  },
  {
   "cell_type": "markdown",
   "id": "ae81286a",
   "metadata": {},
   "source": [
    "This cut selects events in which the sum of the four lepton's charge is equal to zero. This is because the Z boson has an electric charge equal to zero and therefore, Z boson decays into two leptons of opposite charges. The events that fulfill this requirements returns True."
   ]
  },
  {
   "cell_type": "code",
   "execution_count": 8,
   "id": "b0954ac9",
   "metadata": {},
   "outputs": [],
   "source": [
    "def cut_lep_charge(lep_charge):     \n",
    "    return lep_charge[0] + lep_charge[1] + lep_charge[2] + lep_charge[3] == 0"
   ]
  },
  {
   "cell_type": "markdown",
   "id": "1019086d",
   "metadata": {},
   "source": [
    "### Lepton type cut"
   ]
  },
  {
   "cell_type": "markdown",
   "id": "b350efba",
   "metadata": {},
   "source": [
    "This cut needs the lepton type of each lepton, because we want to choose events that have two pairs of electrons, two pairs of muons or one pair of electrons and one pair of muons in the final state. If the event doesn't fulfill this requirement, the event is dropped."
   ]
  },
  {
   "cell_type": "code",
   "execution_count": 9,
   "id": "57a674ae",
   "metadata": {},
   "outputs": [],
   "source": [
    "def cut_lep_type(lep_type):\n",
    "    sum_lep_type = lep_type[0] + lep_type[1] + lep_type[2] + lep_type[3]\n",
    "    return (sum_lep_type == 44) or (sum_lep_type == 48) or (sum_lep_type == 52)"
   ]
  },
  {
   "cell_type": "markdown",
   "id": "878fd6e8",
   "metadata": {},
   "source": [
    "## Applying a cut"
   ]
  },
  {
   "cell_type": "markdown",
   "id": "e08755b3",
   "metadata": {},
   "source": [
    "Now, we can define a function that applies all cuts and the criteria selection. For this reason, we create a function named \"read_file\" that receives a string path and the name of the sample we want to analyze. In this function we print the number of initial events and the number of events that passed the cuts. We also compute the invariant mass of the four lepton system and save it in a column into the dataframe which contains all the selected events for each batch. At the end, it returns a dataframe with the selected events for the sample given as an argument of the function. "
   ]
  },
  {
   "cell_type": "code",
   "execution_count": 10,
   "id": "2780e715",
   "metadata": {},
   "outputs": [],
   "source": [
    "def read_file(path,sample):\n",
    "    start = time.time() # start the clock\n",
    "    print(\"\\tProcessing: \"+sample) # print which sample is being processed\n",
    "    data_all = pd.DataFrame() # define empty pandas DataFrame to hold all data for this sample\n",
    "    tree = uproot3.open(path)[\"mini\"] # open the tree called mini\n",
    "    numevents = uproot3.numentries(path, \"mini\") # number of events\n",
    "    if 'data' not in sample: xsec_weight = get_xsec_weight(sample) # get cross-section weight\n",
    "    for data in tree.iterate(['lep_charge','lep_type','lep_pt',\n",
    "                              'lep_eta','lep_phi','lep_E', \n",
    "                              'mcWeight','scaleFactor_PILEUP',\n",
    "                              'scaleFactor_ELE','scaleFactor_MUON',\n",
    "                              'scaleFactor_LepTRIGGER'], # variables to calculate Monte Carlo weight\n",
    "                             outputtype=pd.DataFrame, # choose output type as pandas DataFrame\n",
    "                             entrystop=numevents*fraction): # process up to numevents*fraction\n",
    "\n",
    "        nIn = len(data.index) # number of events in this batch\n",
    "        #print(data[['lep_pt', 'mcWeight']])\n",
    "        if 'data' not in sample: # only do this for Monte Carlo simulation files\n",
    "            # multiply all Monte Carlo weights and scale factors together to give total weight\n",
    "        \n",
    "            data['totalWeight'] = np.vectorize(calc_weight)(xsec_weight,\n",
    "                                                            data.mcWeight,\n",
    "                                                            data.scaleFactor_PILEUP,\n",
    "                                                            data.scaleFactor_ELE,\n",
    "                                                            data.scaleFactor_MUON,\n",
    "                                                            data.scaleFactor_LepTRIGGER)\n",
    "\n",
    "        # cut on lepton charge using the function cut_lep_charge defined above\n",
    "        data = data[ np.vectorize(cut_lep_charge)(data.lep_charge)]\n",
    "        \n",
    "        # cut on lepton type using the function cut_lep_type defined above\n",
    "        data = data[ np.vectorize(cut_lep_type)(data.lep_type)]        \n",
    "        \n",
    "        # calculation of 4-lepton invariant mass using the function calc_mllll defined above\n",
    "        data['mllll'] = np.vectorize(calc_mllll)(data.lep_pt,data.lep_eta,data.lep_phi,data.lep_E)\n",
    "        #data['lep_pt']\n",
    "        nOut = len(data.index) # number of events passing cuts in this batch\n",
    "        data_all = data_all.append(data) # append dataframe from this batch to the dataframe for the whole sample\n",
    "        #print(data[['lep_pt', 'mllll']])\n",
    "        elapsed = time.time() - start # time taken to process\n",
    "        print(\"\\t\\t nIn: \"+str(nIn)+\",\\t nOut: \\t\"+str(nOut)+\"\\t in \"+str(round(elapsed,1))+\"s\") # events before and after\n",
    "        \n",
    "    return data_all # return dataframe containing events passing all cuts"
   ]
  },
  {
   "cell_type": "markdown",
   "id": "05736e61",
   "metadata": {},
   "source": [
    "Now, we are ready to perform the analysis. Just run the next line code if you want to save the complete selected events for all samples in a dictionary of dataframe called \"data\". We will use this dictionary of dataframes to plot our final graph. "
   ]
  },
  {
   "cell_type": "code",
   "execution_count": 11,
   "id": "b20d65c4",
   "metadata": {},
   "outputs": [
    {
     "name": "stdout",
     "output_type": "stream",
     "text": [
      "Processing data samples\n",
      "\tProcessing: data_A\n",
      "\t\t nIn: 39,\t nOut: \t27\t in 0.3s\n",
      "\tProcessing: data_B\n",
      "\t\t nIn: 156,\t nOut: \t86\t in 0.2s\n",
      "\tProcessing: data_C\n",
      "\t\t nIn: 237,\t nOut: \t146\t in 0.3s\n",
      "\tProcessing: data_D\n",
      "\t\t nIn: 400,\t nOut: \t248\t in 0.3s\n",
      "Processing Background $Z,t\\bar{t}$ samples\n",
      "\tProcessing: Zee\n",
      "\t\t nIn: 898,\t nOut: \t243\t in 0.5s\n",
      "\tProcessing: Zmumu\n",
      "\t\t nIn: 684,\t nOut: \t257\t in 0.4s\n",
      "\tProcessing: ttbar_lep\n",
      "\t\t nIn: 1031,\t nOut: \t334\t in 0.6s\n",
      "Processing Background $ZZ^*$ samples\n",
      "\tProcessing: llll\n",
      "\t\t nIn: 106415,\t nOut: \t100522\t in 21.0s\n",
      "\t\t nIn: 106415,\t nOut: \t100595\t in 29.2s\n",
      "\t\t nIn: 106415,\t nOut: \t100580\t in 38.9s\n",
      "\t\t nIn: 106415,\t nOut: \t100618\t in 46.3s\n",
      "\t\t nIn: 106415,\t nOut: \t100655\t in 53.9s\n",
      "\t\t nIn: 22204,\t nOut: \t20987\t in 55.7s\n",
      "Processing Signal ($m_H$ = 125 GeV) samples\n",
      "\tProcessing: ggH125_ZZ4lep\n",
      "\t\t nIn: 104555,\t nOut: \t102484\t in 32.6s\n",
      "\t\t nIn: 60161,\t nOut: \t58967\t in 36.8s\n",
      "\tProcessing: VBFH125_ZZ4lep\n",
      "\t\t nIn: 102038,\t nOut: \t99807\t in 30.5s\n",
      "\t\t nIn: 89088,\t nOut: \t87063\t in 37.5s\n",
      "\tProcessing: WH125_ZZ4lep\n",
      "\t\t nIn: 15379,\t nOut: \t9772\t in 2.0s\n",
      "\tProcessing: ZH125_ZZ4lep\n",
      "\t\t nIn: 14485,\t nOut: \t11947\t in 2.2s\n",
      "Time taken: 137.2s\n"
     ]
    }
   ],
   "source": [
    "start = time.time() # time at start of whole processing\n",
    "data = get_data_from_files() # process all files\n",
    "elapsed = time.time() - start # time after whole processing\n",
    "print(\"Time taken: \"+str(round(elapsed,1))+\"s\") # print total time taken to process every file"
   ]
  },
  {
   "cell_type": "markdown",
   "id": "f385da94",
   "metadata": {},
   "source": [
    "Finally, we define a function that plots our final graphic. This function receives the data dictionary with the information of all selected events in our analysis and create histograms for each dataframe (which are the main sources of background, the signal and the data). The final plot is saved in a pdf file into the folder called \"plots\"."
   ]
  },
  {
   "cell_type": "code",
   "execution_count": 12,
   "id": "c7276750",
   "metadata": {},
   "outputs": [],
   "source": [
    "def plot_data(data):\n",
    "    GeV = 1.0\n",
    "    xmin = 80 * GeV\n",
    "    xmax = 250 * GeV\n",
    "    step_size = 5 * GeV\n",
    "\n",
    "    bin_edges = np.arange(start=xmin, # The interval includes this value\n",
    "                     stop=xmax+step_size, # The interval doesn't include this value\n",
    "                     step=step_size ) # Spacing between values\n",
    "    bin_centres = np.arange(start=xmin+step_size/2, # The interval includes this value\n",
    "                            stop=xmax+step_size/2, # The interval doesn't include this value\n",
    "                            step=step_size ) # Spacing between values\n",
    "\n",
    "    data_x,_ = np.histogram(data['data']['mllll'], \n",
    "                            bins=bin_edges ) # histogram the data\n",
    "    data_x_errors = np.sqrt( data_x ) # statistical error on the data\n",
    "\n",
    "    signal_x = data[r'Signal ($m_H$ = 125 GeV)']['mllll'] # histogram the signal\n",
    "    signal_weights = data[r'Signal ($m_H$ = 125 GeV)'].totalWeight # get the weights of the signal events\n",
    "    signal_color = samples[r'Signal ($m_H$ = 125 GeV)']['color'] # get the colour for the signal bar\n",
    "\n",
    "    mc_x = [] # define list to hold the Monte Carlo histogram entries\n",
    "    mc_weights = [] # define list to hold the Monte Carlo weights\n",
    "    mc_colors = [] # define list to hold the colors of the Monte Carlo bars\n",
    "    mc_labels = [] # define list to hold the legend labels of the Monte Carlo bars\n",
    "\n",
    "    for s in samples: # loop over samples\n",
    "        if s not in ['data', r'Signal ($m_H$ = 125 GeV)']: # if not data nor signal\n",
    "            mc_x.append( data[s]['mllll'] ) # append to the list of Monte Carlo histogram entries\n",
    "            mc_weights.append( data[s].totalWeight ) # append to the list of Monte Carlo weights\n",
    "            mc_colors.append( samples[s]['color'] ) # append to the list of Monte Carlo bar colors\n",
    "            mc_labels.append( s ) # append to the list of Monte Carlo legend labels\n",
    "    \n",
    "\n",
    "\n",
    "    # *************\n",
    "    # Main plot \n",
    "    # *************\n",
    "    main_axes = plt.gca() # get current axes\n",
    "    \n",
    "    # plot the data points\n",
    "    main_axes.errorbar(x=bin_centres, y=data_x, yerr=data_x_errors,\n",
    "                      fmt='ko', # 'k' means black and 'o' is for circles \n",
    "                      label='Data') \n",
    "    \n",
    "    # plot the Monte Carlo bars\n",
    "    mc_heights = main_axes.hist(mc_x, bins=bin_edges, \n",
    "                                weights=mc_weights, stacked=True, \n",
    "                                color=mc_colors, label=mc_labels )\n",
    "    \n",
    "    mc_x_tot = mc_heights[0][-1] # stacked background MC y-axis value\n",
    "    \n",
    "    # calculate MC statistical uncertainty: sqrt(sum w^2)\n",
    "    mc_x_err = np.sqrt(np.histogram(np.hstack(mc_x), bins=bin_edges, weights=np.hstack(mc_weights)**2)[0])\n",
    "    \n",
    "    # plot the signal bar\n",
    "    main_axes.hist(signal_x, bins=bin_edges, bottom=mc_x_tot, \n",
    "                   weights=signal_weights, color=signal_color,\n",
    "                   label=r'Signal ($m_H$ = 125 GeV)')\n",
    "    \n",
    "    # plot the statistical uncertainty\n",
    "    main_axes.bar(bin_centres, # x\n",
    "                  2*mc_x_err, # heights\n",
    "                  alpha=0.5, # half transparency\n",
    "                  bottom=mc_x_tot-mc_x_err, color='none', \n",
    "                  hatch=\"////\", width=step_size, label='Stat. Unc.' )\n",
    "\n",
    "    # set the x-limit of the main axes\n",
    "    main_axes.set_xlim( left=xmin, right=xmax ) \n",
    "    \n",
    "    # separation of x axis minor ticks\n",
    "    main_axes.xaxis.set_minor_locator( AutoMinorLocator() ) \n",
    "    \n",
    "    # set the axis tick parameters for the main axes\n",
    "    main_axes.tick_params(which='both', # ticks on both x and y axes\n",
    "                          direction='in', # Put ticks inside and outside the axes\n",
    "                          top=True, # draw ticks on the top axis\n",
    "                          right=True ) # draw ticks on right axis\n",
    "    \n",
    "    # x-axis label\n",
    "    main_axes.set_xlabel(r'4-lepton invariant mass $\\mathrm{m_{4l}}$ [GeV]',\n",
    "                        fontsize=13, x=1, horizontalalignment='right' )\n",
    "    \n",
    "    # write y-axis label for main axes\n",
    "    main_axes.set_ylabel('Events / '+str(step_size)+' GeV',\n",
    "                         y=1, horizontalalignment='right') \n",
    "    \n",
    "    # set y-axis limits for main axes\n",
    "    main_axes.set_ylim( bottom=0, top=np.amax(data_x)*1.6 )\n",
    "    \n",
    "    # add minor ticks on y-axis for main axes\n",
    "    main_axes.yaxis.set_minor_locator( AutoMinorLocator() ) \n",
    "\n",
    "    # Add text 'ATLAS Open Data' on plot\n",
    "    plt.text(0.05, # x\n",
    "             0.93, # y\n",
    "             'ATLAS Open Data', # text\n",
    "             transform=main_axes.transAxes, # coordinate system used is that of main_axes\n",
    "             fontsize=13 ) \n",
    "    \n",
    "    # Add text 'for education' on plot\n",
    "    plt.text(0.05, # x\n",
    "             0.88, # y\n",
    "             'for education', # text\n",
    "             transform=main_axes.transAxes, # coordinate system used is that of main_axes\n",
    "             style='italic',\n",
    "             fontsize=8 ) \n",
    "    \n",
    "    # Add energy and luminosity\n",
    "    lumi_used = str(lumi*fraction) # luminosity to write on the plot\n",
    "    plt.text(0.05, # x\n",
    "             0.82, # y\n",
    "             '$\\sqrt{s}$=13 TeV,$\\int$L dt = '+lumi_used+' fb$^{-1}$', # text\n",
    "             transform=main_axes.transAxes ) # coordinate system used is that of main_axes\n",
    "    \n",
    "    # Add a label for the analysis carried out\n",
    "    plt.text(0.05, # x\n",
    "             0.76, # y\n",
    "             r'$H \\rightarrow ZZ^* \\rightarrow 4\\ell$', # text \n",
    "             transform=main_axes.transAxes ) # coordinate system used is that of main_axes\n",
    "\n",
    "    # draw the legend\n",
    "    main_axes.legend( frameon=False ) # no box around the legend\n",
    "    plt.savefig('plots/HZZ_m4L.pdf')\n",
    "    return"
   ]
  },
  {
   "cell_type": "markdown",
   "id": "fea6cf51",
   "metadata": {},
   "source": [
    "Run the next line code if you want to see the final plot with the invariant mass of the Z boson."
   ]
  },
  {
   "cell_type": "code",
   "execution_count": 13,
   "id": "c60c5bdd",
   "metadata": {},
   "outputs": [
    {
     "data": {
      "image/png": "[encoded data removed]",
      "text/plain": [
       "<Figure size 432x288 with 1 Axes>"
      ]
     },
     "metadata": {
      "needs_background": "light"
     },
     "output_type": "display_data"
    }
   ],
   "source": [
    "plot_data(data)"
   ]
  }
 ],
 "metadata": {
  "kernelspec": {
   "display_name": "Python 3",
   "language": "python",
   "name": "python3"
  },
  "language_info": {
   "codemirror_mode": {
    "name": "ipython",
    "version": 3
   },
   "file_extension": ".py",
   "mimetype": "text/x-python",
   "name": "python",
   "nbconvert_exporter": "python",
   "pygments_lexer": "ipython3",
   "version": "3.9.6"
  }
 },
 "nbformat": 4,
 "nbformat_minor": 5
}
