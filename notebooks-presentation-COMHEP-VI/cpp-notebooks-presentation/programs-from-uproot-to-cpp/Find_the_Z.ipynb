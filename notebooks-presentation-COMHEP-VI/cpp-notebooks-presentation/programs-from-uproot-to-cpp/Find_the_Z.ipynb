{
 "cells": [
  {
   "cell_type": "code",
   "execution_count": 1,
   "id": "a3499b4d",
   "metadata": {},
   "outputs": [],
   "source": [
    "#include <TChain.h>\n",
    "#include <vector>\n",
    "#include <TFile.h>\n",
    "#include <iostream>\n",
    "#include <string>\n",
    "#include <stdio.h>"
   ]
  },
  {
   "cell_type": "code",
   "execution_count": 2,
   "id": "18a2ed57",
   "metadata": {},
   "outputs": [],
   "source": [
    "//Solo se usa un archivo root, pero hay 4 que se pueden usar con TChain.\n",
    "TFile *file = TFile::Open(\"https://atlas-opendata.web.cern.ch/atlas-opendata/samples/2020/exactly2lep/Data/data_A.exactly2lep.root\");"
   ]
  },
  {
   "cell_type": "code",
   "execution_count": 3,
   "id": "fe196465",
   "metadata": {},
   "outputs": [
    {
     "name": "stdout",
     "output_type": "stream",
     "text": [
      "664613\n"
     ]
    }
   ],
   "source": [
    "TTree *tree = (TTree*) file->Get(\"mini\");\n",
    "int nentries = tree->GetEntries();\n",
    "cout << nentries << endl;"
   ]
  },
  {
   "cell_type": "code",
   "execution_count": 4,
   "id": "7b232b88",
   "metadata": {},
   "outputs": [],
   "source": [
    "vector<float>   *lepton_pt;  //transverse momentum of the lepton\n",
    "vector<float>   *lepton_eta = 0;  //pseudorapidity of the lepton\n",
    "vector<float>   *lepton_phi = 0;  //azimuthal angle of the lepton\n",
    "vector<float>   *lepton_E   = 0;  //energy of the lepton"
   ]
  },
  {
   "cell_type": "code",
   "execution_count": 5,
   "id": "fb5d02d2",
   "metadata": {},
   "outputs": [],
   "source": [
    "tree->SetBranchAddress(\"lep_pt\",        &lepton_pt);    \n",
    "tree->SetBranchAddress(\"lep_eta\",       &lepton_eta);\n",
    "tree->SetBranchAddress(\"lep_phi\",       &lepton_phi);\n",
    "tree->SetBranchAddress(\"lep_E\",         &lepton_E);"
   ]
  },
  {
   "cell_type": "code",
   "execution_count": 6,
   "id": "dc1a3a61",
   "metadata": {},
   "outputs": [],
   "source": [
    "TCanvas *canvas = new TCanvas();\n",
    "TH1F *hist = new TH1F(\"Z_{ll}_invmass\",\"Finding the Z boson ; Invariant Mass m_{ll} [GeV] ; Events\",15,35,110);\n",
    "TGraphErrors *graph = new TGraphErrors(); "
   ]
  },
  {
   "cell_type": "code",
   "execution_count": 7,
   "id": "610a6315",
   "metadata": {},
   "outputs": [],
   "source": [
    "float calc_mll(vector<float> lep_pt, vector<float> lep_eta, vector<float> lep_phi, vector<float> lep_E)\n",
    "{\n",
    "    // 0th lepton is [0], next lepton is [1] etc\n",
    "    // get the energy of 0th lepton by lep_E[0]\n",
    "\n",
    "    float sumE = 0, px_0 = 0, px_1 = 0, py_0 = 0, py_1 = 0, pz_0 = 0, pz_1 = 0; \n",
    "    \n",
    "    sumE = lep_E[0] + lep_E[1];\n",
    "    \n",
    "    px_0 = lep_pt[0]*TMath::Cos(lep_phi[0]); // x-momentum of 0th lepton\n",
    "    px_1 = lep_pt[1]*TMath::Cos(lep_phi[1]); // x-momentum of 1st lepton\n",
    "    py_0 = lep_pt[0]*TMath::Sin(lep_phi[0]); // y-momentum of 0th lepton\n",
    "    py_1 = lep_pt[1]*TMath::Sin(lep_phi[1]); // y-momentum of 1st lepton\n",
    "    pz_0 = lep_pt[0]*TMath::SinH(lep_eta[0]); // z-momentum of 0th lepton\n",
    "    pz_1 = lep_pt[1]*TMath::SinH(lep_eta[1]); // z-momentum of 1st lepton\n",
    "    \n",
    "    float sumpx = 0, sumpy = 0, sumpz = 0, sump = 0;\n",
    "    \n",
    "    sumpx = px_0 + px_1; // sumpx = sum of x-momenta\n",
    "    sumpy = py_0 + py_1; // sumpy = sum of y-momenta\n",
    "    sumpz = pz_0 + pz_1; // sumpz = pz_0 + pz_1\n",
    "    sump = TMath::Sqrt(sumpx*sumpx + sumpy*sumpy + sumpz*sumpz); //sump = magnitude of total momentum vector. Remember it's a vector!\n",
    "    \n",
    "    float Mll = TMath::Sqrt(sumE*sumE - sump*sump)/1000.0; //divide by 1000 to go from MeV to GeV\n",
    "    \n",
    "    return Mll;\n",
    "}"
   ]
  },
  {
   "cell_type": "code",
   "execution_count": 8,
   "id": "292371a4",
   "metadata": {},
   "outputs": [],
   "source": [
    "float fraction = 0.001;\n",
    "float events_to_run = nentries*fraction;\n",
    "\n",
    "for (int ii=0; ii<events_to_run; ii++)\n",
    "{\n",
    "    tree->GetEntry(ii);\n",
    "    float Mll = calc_mll(*lepton_pt, *lepton_eta, *lepton_phi, *lepton_E);\n",
    "    hist->Fill(Mll);\n",
    "}"
   ]
  },
  {
   "cell_type": "code",
   "execution_count": 9,
   "id": "ee23f852",
   "metadata": {},
   "outputs": [
    {
     "data": {
      "image/png": "[encoded data removed]",
      "text/plain": [
       "<IPython.core.display.Image object>"
      ]
     },
     "metadata": {},
     "output_type": "display_data"
    }
   ],
   "source": [
    "hist->Draw();\n",
    "canvas->Draw();"
   ]
  },
  {
   "cell_type": "code",
   "execution_count": 10,
   "id": "bc6b595a",
   "metadata": {},
   "outputs": [],
   "source": [
    "float x = 37.5; // x center of the first bin\n",
    "int npoint = 1; // First point of the graph\n",
    "while (x < 110) // 110 is the maximum value of the X axis\n",
    "{\n",
    "    int bin = hist->FindBin(x); //Find the bin in which x should be\n",
    "    float y = hist->GetBinContent(bin); //Give the number of events in the bin determined by the x value\n",
    "    // statistical error on the data\n",
    "    float ex = 0.0; // No error on x values\n",
    "    float ey = TMath::Sqrt(y);\n",
    "    graph->SetPoint(npoint, x, y);\n",
    "    graph->SetPointError(npoint, ex, ey); // No errors in x values, only in the y values.\n",
    "    x += 5; // x values go between the middle point of each bin until reach the last one (107.5)\n",
    "    npoint += 1;\n",
    "}"
   ]
  },
  {
   "cell_type": "code",
   "execution_count": 11,
   "id": "b427f8ce",
   "metadata": {},
   "outputs": [
    {
     "data": {
      "image/png": "[encoded data removed]",
      "text/plain": [
       "<IPython.core.display.Image object>"
      ]
     },
     "metadata": {},
     "output_type": "display_data"
    }
   ],
   "source": [
    "// Title graph\n",
    "graph->SetTitle(\"Finding the Z Boson\");\n",
    "\n",
    "// x-axis label\n",
    "graph->GetXaxis()->SetTitle(\"M_{ll} [GeV]\");\n",
    "\n",
    "// y-axis label\n",
    "graph->GetYaxis()->SetTitle(\"Events\");\n",
    "\n",
    "// x-axis range\n",
    "//graph->GetXaxis()->SetRangeUser(30, 115);\n",
    "\n",
    "// y-axis range\n",
    "//graph->SetMinimum(0);\n",
    "\n",
    "//graph->SetMarkerSize(1);\n",
    "\n",
    "//graph->Draw(\"AP\");\n",
    "//canvas->SetLogy();\n",
    "\n",
    "// x-axis range\n",
    "graph->GetXaxis()->SetLimits(30, 115);\n",
    "\n",
    "// y-axis range\n",
    "graph->SetMinimum(-5);\n",
    "graph->SetMarkerStyle(4);\n",
    "graph->SetMarkerSize(0.5);\n",
    "graph->Draw(\"AP\");\n",
    "canvas->Draw();"
   ]
  },
  {
   "cell_type": "code",
   "execution_count": null,
   "id": "8dbfb6c2",
   "metadata": {},
   "outputs": [],
   "source": []
  }
 ],
 "metadata": {
  "kernelspec": {
   "display_name": "ROOT C++",
   "language": "c++",
   "name": "root"
  },
  "language_info": {
   "codemirror_mode": "text/x-c++src",
   "file_extension": ".C",
   "mimetype": " text/x-c++src",
   "name": "c++"
  }
 },
 "nbformat": 4,
 "nbformat_minor": 5
}
