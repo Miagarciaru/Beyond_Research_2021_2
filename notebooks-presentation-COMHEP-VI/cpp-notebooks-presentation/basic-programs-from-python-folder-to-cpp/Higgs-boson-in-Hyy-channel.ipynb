{
 "cells": [
  {
   "cell_type": "code",
   "execution_count": 1,
   "id": "646a426e",
   "metadata": {},
   "outputs": [],
   "source": [
    "#include <TChain.h>\n",
    "#include <vector>\n",
    "#include <TFile.h>\n",
    "#include <iostream>\n",
    "#include <string>\n",
    "#include <stdio.h>"
   ]
  },
  {
   "cell_type": "code",
   "execution_count": 2,
   "id": "a124813c",
   "metadata": {},
   "outputs": [],
   "source": [
    "TFile *file = TFile::Open(\"https://atlas-opendata.web.cern.ch/atlas-opendata/samples/2020/GamGam/Data/data_A.GamGam.root\");"
   ]
  },
  {
   "cell_type": "code",
   "execution_count": 3,
   "id": "a5047af0",
   "metadata": {},
   "outputs": [],
   "source": [
    "TCanvas *canvas = new TCanvas();"
   ]
  },
  {
   "cell_type": "code",
   "execution_count": 4,
   "id": "8ae60c7f",
   "metadata": {},
   "outputs": [
    {
     "name": "stdout",
     "output_type": "stream",
     "text": [
      "430344\n"
     ]
    }
   ],
   "source": [
    "TTree *tree = (TTree*) file->Get(\"mini\");\n",
    "int nentries = tree->GetEntries();\n",
    "cout << nentries << endl;"
   ]
  },
  {
   "cell_type": "code",
   "execution_count": 5,
   "id": "5187e9db",
   "metadata": {},
   "outputs": [],
   "source": [
    "UInt_t  photon_n = -1;  //number of preselected photons\n",
    "\n",
    "vector<float>   *photon_pt;  //transverse momentum of the photon\n",
    "vector<float>   *photon_eta = 0;  //pseudorapidity of the photon\n",
    "vector<float>   *photon_phi = 0;  //azimuthal angle of the photon\n",
    "vector<float>   *photon_E   = 0;  //energy of the photon\n",
    "vector<bool>    *photon_isTightID = 0;\n",
    "\n",
    "Bool_t          TrigP = 0;\n",
    "vector<float>   *photon_ptcone30 = 0;\n",
    "vector<float>   *photon_etcone20 = 0;"
   ]
  },
  {
   "cell_type": "code",
   "execution_count": 6,
   "id": "de6586e2",
   "metadata": {},
   "outputs": [],
   "source": [
    "tree->SetBranchAddress(\"photon_pt\",        &photon_pt);  \n",
    "tree->SetBranchAddress(\"photon_n\",         &photon_n);  \n",
    "tree->SetBranchAddress(\"photon_eta\",       &photon_eta);\n",
    "tree->SetBranchAddress(\"photon_phi\",       &photon_phi);\n",
    "tree->SetBranchAddress(\"photon_E\",         &photon_E);\n",
    "tree->SetBranchAddress(\"photon_isTightID\", &photon_isTightID);\n",
    "tree->SetBranchAddress(\"trigP\",            &TrigP);\n",
    "tree->SetBranchAddress(\"photon_ptcone30\",  &photon_ptcone30);\n",
    "tree->SetBranchAddress(\"photon_etcone20\",  &photon_etcone20);"
   ]
  },
  {
   "cell_type": "code",
   "execution_count": 7,
   "id": "43d9c444",
   "metadata": {},
   "outputs": [],
   "source": [
    "TH1F *hist = new TH1F(\"h_M_Hyy\",\"Diphoton invariant mass ; Invariant Mass m_{yy} [GeV] ; Events\",30,105,160);"
   ]
  },
  {
   "cell_type": "code",
   "execution_count": 8,
   "id": "a838e34a",
   "metadata": {},
   "outputs": [],
   "source": [
    "TLorentzVector Photon_1 = TLorentzVector();\n",
    "TLorentzVector Photon_2 = TLorentzVector();\n",
    "\n",
    "for (int ii=0; ii<nentries; ii++)\n",
    "{\n",
    "    tree->GetEntry(ii);\n",
    "    if(TrigP)\n",
    "    {\n",
    "        vector <int> goodphoton_index = {0, 0, 0, 0, 0};\n",
    "        int goodphoton_n = 0;\n",
    "        int photon_index = 0;\n",
    "        \n",
    "        for (unsigned jj=0; jj<photon_n; jj++)\n",
    "        {\n",
    "            if(photon_isTightID->at(jj))\n",
    "            {\n",
    "                if((photon_pt->at(jj) > 25000) && (TMath::Abs(photon_eta->at(jj)) < 2.37) && ((TMath::Abs(photon_eta->at(jj)) < 1.37) || (TMath::Abs(photon_eta->at(jj)) > 1.52)))\n",
    "                {\n",
    "                    goodphoton_n += 1;\n",
    "                    goodphoton_index[photon_index] = jj;\n",
    "                    photon_index += 1;\n",
    "                    //end Pt and eta pre-selection\n",
    "                // end on request of quality of the photon\n",
    "             // end looping photons in the current event\n",
    "                }    \n",
    "            }\n",
    "        }\n",
    "        \n",
    "        // Using the two selected photons\n",
    "        if(goodphoton_n == 2)\n",
    "        {\n",
    "            int goodphoton1_index = goodphoton_index[0];\n",
    "            int goodphoton2_index = goodphoton_index[1];\n",
    "            // Getting couple of photons with good isolation \n",
    "            if((photon_ptcone30->at(goodphoton1_index)/photon_pt->at(goodphoton1_index) < 0.065) && (photon_etcone20->at(goodphoton1_index)/photon_pt->at(goodphoton1_index) < 0.065))\n",
    "            {\n",
    "                if((photon_ptcone30->at(goodphoton2_index)/photon_pt->at(goodphoton2_index) < 0.065) && (photon_etcone20->at(goodphoton2_index)/photon_pt->at(goodphoton2_index) < 0.065))\n",
    "                {\n",
    "                    Photon_1.SetPtEtaPhiE(photon_pt->at(goodphoton1_index)/1000.0, photon_eta->at(goodphoton1_index), photon_phi->at(goodphoton1_index), photon_E->at(goodphoton1_index)/1000.0);\n",
    "                    Photon_2.SetPtEtaPhiE(photon_pt->at(goodphoton2_index)/1000.0, photon_eta->at(goodphoton2_index), photon_phi->at(goodphoton2_index), photon_E->at(goodphoton2_index)/1000.0);\n",
    "                    // Adding the two TLorentz vectors\n",
    "                    TLorentzVector Photon_12 = TLorentzVector();\n",
    "                    Photon_12 = Photon_1 + Photon_2;\n",
    "                    // Filling with the mass of the gamma-gamma system\n",
    "                    hist->Fill(Photon_12.M());\n",
    "                }\n",
    "            }\n",
    "        }\n",
    "    }\n",
    "}"
   ]
  },
  {
   "cell_type": "code",
   "execution_count": 11,
   "id": "0f547732",
   "metadata": {},
   "outputs": [
    {
     "data": {
      "image/png": "[encoded data removed]",
      "text/plain": [
       "<IPython.core.display.Image object>"
      ]
     },
     "metadata": {},
     "output_type": "display_data"
    }
   ],
   "source": [
    "hist->SetFillStyle(3001);\n",
    "hist->SetFillColorAlpha(kBlue, 0.5);\n",
    "\n",
    "TStyle *atlasStyle = new TStyle(\"ATLAS\",\"Atlas style\");\n",
    "Int_t icol=0; // WHITE\n",
    "atlasStyle->SetFrameBorderMode(icol);\n",
    "atlasStyle->SetFrameFillColor(icol);\n",
    "atlasStyle->SetCanvasBorderMode(icol);\n",
    "atlasStyle->SetCanvasColor(icol);\n",
    "atlasStyle->SetPadBorderMode(icol);\n",
    "atlasStyle->SetPadColor(icol);\n",
    "atlasStyle->SetStatColor(icol);\n",
    "atlasStyle->SetPaperSize(20,26);\n",
    "atlasStyle->SetPadTopMargin(0.05);\n",
    "atlasStyle->SetPadRightMargin(0.05); \n",
    "atlasStyle->SetPadBottomMargin(0.16);\n",
    "atlasStyle->SetPadLeftMargin(0.16); \n",
    "atlasStyle->SetTitleXOffset(1.4);\n",
    "atlasStyle->SetTitleYOffset(1.4);\n",
    "Int_t font=42; // Helvetica\n",
    "Double_t tsize=0.05;\n",
    "atlasStyle->SetTextFont(font);\n",
    "atlasStyle->SetTextSize(tsize);\n",
    "atlasStyle->SetLabelFont(font,\"x\");\n",
    "atlasStyle->SetTitleFont(font,\"x\");\n",
    "atlasStyle->SetLabelFont(font,\"y\");\n",
    "atlasStyle->SetTitleFont(font,\"y\");\n",
    "atlasStyle->SetLabelFont(font,\"z\");\n",
    "atlasStyle->SetTitleFont(font,\"z\");\n",
    "atlasStyle->SetLabelSize(tsize,\"x\");\n",
    "atlasStyle->SetTitleSize(tsize,\"x\");\n",
    "atlasStyle->SetLabelSize(tsize,\"y\");\n",
    "atlasStyle->SetTitleSize(tsize,\"y\");\n",
    "atlasStyle->SetLabelSize(tsize,\"z\");\n",
    "atlasStyle->SetTitleSize(tsize,\"z\");\n",
    "atlasStyle->SetMarkerStyle(20);\n",
    "atlasStyle->SetMarkerSize(1.2);\n",
    "atlasStyle->SetHistLineWidth(2.);\n",
    "atlasStyle->SetLineStyleString(2,\"[12 12]\"); // postscript dashes\n",
    "atlasStyle->SetEndErrorSize(0.);\n",
    "atlasStyle->SetOptTitle(0);\n",
    "atlasStyle->SetOptStat(0);\n",
    "atlasStyle->SetOptFit(0);\n",
    "atlasStyle->SetPadTickX(1);\n",
    "atlasStyle->SetPadTickY(1);\n",
    "\n",
    "TLatex l;\n",
    "l.SetNDC();\n",
    "l.SetTextFont(42);\n",
    "l.SetTextColor(kBlack);\n",
    "l.SetTextSize(0.045);  \n",
    "l.DrawLatex(0.50,0.6,\"ATLAS Preliminary Open Data\");\n",
    "\n",
    "TLatex o;\n",
    "o.SetNDC();\n",
    "o.SetTextFont(42);\n",
    "o.SetTextColor(kBlack);\n",
    "o.SetTextSize(0.03);\n",
    "double dely = 0.04; \n",
    "o.DrawLatex(0.50,0.6-dely, Form(\"#sqrt{s} = 13 TeV\"));\n",
    "o.DrawLatex(0.50,0.57-dely, Form(\"H #rightarrow #gamma #gamma\"));\n",
    "\n",
    "\n",
    "//hist->Draw();\n",
    "canvas->Draw();"
   ]
  },
  {
   "cell_type": "code",
   "execution_count": 10,
   "id": "f76255d6",
   "metadata": {},
   "outputs": [],
   "source": [
    "/*\n",
    "hist->SetMinimum(10);\n",
    "hist->Draw(\"E\");\n",
    "canvas->SetLogy();\n",
    "canvas->Draw();\n",
    "*/"
   ]
  },
  {
   "cell_type": "code",
   "execution_count": null,
   "id": "451ff4a5",
   "metadata": {},
   "outputs": [],
   "source": []
  }
 ],
 "metadata": {
  "kernelspec": {
   "display_name": "ROOT C++",
   "language": "c++",
   "name": "root"
  },
  "language_info": {
   "codemirror_mode": "text/x-c++src",
   "file_extension": ".C",
   "mimetype": " text/x-c++src",
   "name": "c++"
  }
 },
 "nbformat": 4,
 "nbformat_minor": 5
}
