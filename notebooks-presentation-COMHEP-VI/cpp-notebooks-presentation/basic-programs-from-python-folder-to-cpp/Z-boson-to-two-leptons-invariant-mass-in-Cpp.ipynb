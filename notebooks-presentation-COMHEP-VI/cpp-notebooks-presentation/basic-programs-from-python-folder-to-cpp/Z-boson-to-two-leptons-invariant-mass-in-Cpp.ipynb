{
 "cells": [
  {
   "cell_type": "code",
   "execution_count": 1,
   "id": "ae251407",
   "metadata": {},
   "outputs": [],
   "source": [
    "#include <TChain.h>\n",
    "#include <vector>\n",
    "#include <TFile.h>\n",
    "#include <iostream>\n",
    "#include <string>\n",
    "#include <stdio.h>"
   ]
  },
  {
   "cell_type": "code",
   "execution_count": 2,
   "id": "30f9c013",
   "metadata": {},
   "outputs": [],
   "source": [
    "TFile *file = TFile::Open(\"https://atlas-opendata.web.cern.ch/atlas-opendata/samples/2020/1largeRjet1lep/MC/mc_361106.Zee.1largeRjet1lep.root\");"
   ]
  },
  {
   "cell_type": "code",
   "execution_count": 3,
   "id": "75a899ce",
   "metadata": {},
   "outputs": [
    {
     "name": "stdout",
     "output_type": "stream",
     "text": [
      "53653\n"
     ]
    }
   ],
   "source": [
    "TTree *tree = (TTree*) file->Get(\"mini\");\n",
    "int nentries = tree->GetEntries();\n",
    "cout << nentries << endl;"
   ]
  },
  {
   "cell_type": "code",
   "execution_count": 4,
   "id": "b688d162",
   "metadata": {},
   "outputs": [],
   "source": [
    "UInt_t  lepton_n = -1;  //number of preselected leptons\n",
    "\n",
    "vector<float>   *lepton_charge;  \n",
    "vector<float>   *lepton_type;\n",
    "vector<float>   *lepton_pt = 0; //transverse momentum of the lepton\n",
    "vector<float>   *lepton_eta = 0; //pseudorapidity of the lepton\n",
    "vector<float>   *lepton_phi = 0;  //azimuthal angle of the lepton\n",
    "vector<float>   *lepton_E   = 0;  //energy of the lepton"
   ]
  },
  {
   "cell_type": "code",
   "execution_count": 5,
   "id": "dc425c9d",
   "metadata": {},
   "outputs": [
    {
     "name": "stdout",
     "output_type": "stream",
     "text": [
      "2\n",
      "169903\n",
      "-1\n"
     ]
    }
   ],
   "source": [
    "tree->SetBranchAddress(\"lep_n\",      &lepton_n);\n",
    "tree->SetBranchAddress(\"lep_charge\", &lepton_charge);\n",
    "tree->SetBranchAddress(\"lep_type\",   &lepton_type);\n",
    "tree->SetBranchAddress(\"lep_pt\",     &lepton_pt);\n",
    "tree->SetBranchAddress(\"lep_eta\",    &lepton_eta);\n",
    "tree->SetBranchAddress(\"lep_phi\",    &lepton_phi);\n",
    "tree->SetBranchAddress(\"lep_E\",    &lepton_E);\n",
    "tree->GetEntry(0);\n",
    "cout << lepton_n << endl;\n",
    "cout << lepton_pt->at(0) << endl;\n",
    "cout << lepton_charge->at(1) << endl;"
   ]
  },
  {
   "cell_type": "code",
   "execution_count": 6,
   "id": "ef389bb6",
   "metadata": {},
   "outputs": [
    {
     "name": "stdout",
     "output_type": "stream",
     "text": [
      "Total # events = 53653. Events to run = 53653 corresponding to 100% of total events!\n"
     ]
    }
   ],
   "source": [
    "float fraction_events = 1.0;\n",
    "float events_to_run = nentries*fraction_events;\n",
    "\n",
    "cout << \"Total # events = \"  << nentries\n",
    "     << \". Events to run = \" << events_to_run\n",
    "     << \" corresponding to \" << fraction_events*100\n",
    "     << \"% of total events!\" << endl;"
   ]
  },
  {
   "cell_type": "code",
   "execution_count": 7,
   "id": "54317460",
   "metadata": {},
   "outputs": [],
   "source": [
    "TLorentzVector leadLepton = TLorentzVector();\n",
    "TLorentzVector trailLepton = TLorentzVector();"
   ]
  },
  {
   "cell_type": "code",
   "execution_count": 8,
   "id": "62c253fd",
   "metadata": {},
   "outputs": [],
   "source": [
    "TCanvas *canvas = new TCanvas();\n",
    "TH1F *hist = new TH1F(\"variable\", \"Mass of the Z boson\", 30, 40, 140);"
   ]
  },
  {
   "cell_type": "code",
   "execution_count": 9,
   "id": "2ec4c24d",
   "metadata": {},
   "outputs": [],
   "source": [
    "int nevents = 0;\n",
    "for (int ii=0; ii<events_to_run; ii++)\n",
    "{\n",
    "    tree->GetEntry(ii);\n",
    "    nevents++;\n",
    "    // Cut #1: At least 2 leptons\n",
    "    \n",
    "    if (lepton_n >= 2)\n",
    "    {\n",
    "        // Cut #2: Leptons with opposite charge\n",
    "        if (lepton_charge->at(0) != lepton_charge->at(1))\n",
    "        {\n",
    "            // Cut #3: Leptons of the same family (2 electrons or 2 muons)\n",
    "            if (lepton_type->at(0) == lepton_type->at(1))\n",
    "            {\n",
    "                // Let's define one TLorentz vector for each, e.i. two vectors!\n",
    "                leadLepton.SetPtEtaPhiE(lepton_pt->at(0), lepton_eta->at(0), lepton_phi->at(0), lepton_E->at(0));\n",
    "                trailLepton.SetPtEtaPhiE(lepton_pt->at(1), lepton_eta->at(1), lepton_phi->at(1), lepton_E->at(1));\n",
    "                // Next line: addition of two TLorentz vectors above --> ask mass very easy (divide by 1000 to get value in GeV)\n",
    "                TLorentzVector invmass = TLorentzVector();\n",
    "                invmass = leadLepton + trailLepton;\n",
    "                float inv_mass_GeV = invmass.M()/1000.;\n",
    "                hist->Fill(inv_mass_GeV);\n",
    "            }\n",
    "        }\n",
    "    }\n",
    "    \n",
    "}"
   ]
  },
  {
   "cell_type": "code",
   "execution_count": 11,
   "id": "4f1df587",
   "metadata": {},
   "outputs": [
    {
     "data": {
      "image/png": "[encoded data removed]",
      "text/plain": [
       "<IPython.core.display.Image object>"
      ]
     },
     "metadata": {},
     "output_type": "display_data"
    }
   ],
   "source": [
    "hist->GetXaxis()->SetTitle(\"Mass [GeV]\");\n",
    "hist->GetYaxis()->SetTitle(\"Events\");\n",
    "//hist->SetStats(0);\n",
    "hist->SetFillColorAlpha(kBlue, 0.5); //Azúl con menor intensidad\n",
    "\n",
    "TLegend *leg = new TLegend(0.6, 0.25, 0.9, 0.4);\n",
    "leg->AddEntry(fit, \"Gaussian Fit Function\",\"l\");\n",
    "leg->SetBorderSize(0);\n",
    "//leg->AddEntry(hist_bkg_met, \"Background (WW)\",\"l\");\n",
    "\n",
    "TF1 *fit = new TF1(\"fit\", \"gaus\", 40, 140);\n",
    "fit->SetParameter(0, 13000);\n",
    "fit->SetParameter(1, 91);\n",
    "fit->SetParameter(2, 8);\n",
    "\n",
    "TStyle *atlasStyle = new TStyle(\"ATLAS\",\"Atlas style\");\n",
    "Int_t icol=0; // WHITE\n",
    "atlasStyle->SetFrameBorderMode(icol);\n",
    "atlasStyle->SetFrameFillColor(icol);\n",
    "atlasStyle->SetCanvasBorderMode(icol);\n",
    "atlasStyle->SetCanvasColor(icol);\n",
    "atlasStyle->SetPadBorderMode(icol);\n",
    "atlasStyle->SetPadColor(icol);\n",
    "atlasStyle->SetStatColor(icol);\n",
    "atlasStyle->SetPaperSize(20,26);\n",
    "atlasStyle->SetPadTopMargin(0.05);\n",
    "atlasStyle->SetPadRightMargin(0.05); \n",
    "atlasStyle->SetPadBottomMargin(0.16);\n",
    "atlasStyle->SetPadLeftMargin(0.16); \n",
    "atlasStyle->SetTitleXOffset(1.4);\n",
    "atlasStyle->SetTitleYOffset(1.4);\n",
    "Int_t font=42; // Helvetica\n",
    "Double_t tsize=0.05;\n",
    "atlasStyle->SetTextFont(font);\n",
    "atlasStyle->SetTextSize(tsize);\n",
    "atlasStyle->SetLabelFont(font,\"x\");\n",
    "atlasStyle->SetTitleFont(font,\"x\");\n",
    "atlasStyle->SetLabelFont(font,\"y\");\n",
    "atlasStyle->SetTitleFont(font,\"y\");\n",
    "atlasStyle->SetLabelFont(font,\"z\");\n",
    "atlasStyle->SetTitleFont(font,\"z\");\n",
    "atlasStyle->SetLabelSize(tsize,\"x\");\n",
    "atlasStyle->SetTitleSize(tsize,\"x\");\n",
    "atlasStyle->SetLabelSize(tsize,\"y\");\n",
    "atlasStyle->SetTitleSize(tsize,\"y\");\n",
    "atlasStyle->SetLabelSize(tsize,\"z\");\n",
    "atlasStyle->SetTitleSize(tsize,\"z\");\n",
    "atlasStyle->SetMarkerStyle(20);\n",
    "atlasStyle->SetMarkerSize(1.2);\n",
    "atlasStyle->SetHistLineWidth(2.);\n",
    "atlasStyle->SetLineStyleString(2,\"[12 12]\"); // postscript dashes\n",
    "atlasStyle->SetEndErrorSize(0.);\n",
    "atlasStyle->SetOptTitle(0);\n",
    "atlasStyle->SetOptStat(0);\n",
    "atlasStyle->SetOptFit(0);\n",
    "atlasStyle->SetPadTickX(1);\n",
    "atlasStyle->SetPadTickY(1);\n",
    "\n",
    "TLatex l;\n",
    "l.SetNDC();\n",
    "l.SetTextFont(42);\n",
    "l.SetTextColor(kBlack);\n",
    "l.SetTextSize(0.04);  \n",
    "l.DrawLatex(0.13,0.8,\"ATLAS work in progress\");\n",
    "\n",
    "TLatex o;\n",
    "o.SetNDC();\n",
    "o.SetTextFont(42);\n",
    "o.SetTextColor(kBlack);\n",
    "o.SetTextSize(0.03);\n",
    "double dely = 0.04; \n",
    "o.DrawLatex(0.13,0.8-dely, Form(\"#sqrt{s} = 13 TeV\"));\n",
    "o.DrawLatex(0.13,0.77-dely, Form(\"Z #rightarrow l^{+} l^{-}\"));\n",
    "\n",
    "double mean = fit->GetParameter(1);\n",
    "double std = fit->GetParameter(2);\n",
    "\n",
    "TLatex p;\n",
    "p.SetNDC();\n",
    "p.SetTextFont(42);\n",
    "p.SetTextColor(kBlack);\n",
    "p.SetTextSize(0.03);\n",
    "//double dely = 0.04; \n",
    "p.DrawLatex(0.6,0.25-dely, Form(\"#mu = 90.58 GeV\"));\n",
    "p.DrawLatex(0.6,0.22-dely, Form(\"#sigma = 3.28 GeV\"));\n",
    "\n",
    "//hist->Draw();\n",
    "//hist->Fit(\"fit\", \"R\");\n",
    "leg->Draw();\n",
    "c1->Draw();"
   ]
  },
  {
   "cell_type": "code",
   "execution_count": null,
   "id": "ceeef822",
   "metadata": {},
   "outputs": [],
   "source": []
  }
 ],
 "metadata": {
  "kernelspec": {
   "display_name": "ROOT C++",
   "language": "c++",
   "name": "root"
  },
  "language_info": {
   "codemirror_mode": "text/x-c++src",
   "file_extension": ".C",
   "mimetype": " text/x-c++src",
   "name": "c++"
  }
 },
 "nbformat": 4,
 "nbformat_minor": 5
}
