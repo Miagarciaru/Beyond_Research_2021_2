{
 "cells": [
  {
   "cell_type": "code",
   "execution_count": 1,
   "id": "60726a8f",
   "metadata": {},
   "outputs": [],
   "source": [
    "#include <TChain.h>\n",
    "#include <vector>\n",
    "#include <TFile.h>\n",
    "#include <iostream>\n",
    "#include <string>\n",
    "#include <stdio.h>"
   ]
  },
  {
   "cell_type": "code",
   "execution_count": 2,
   "id": "4d819872",
   "metadata": {},
   "outputs": [
    {
     "name": "stdout",
     "output_type": "stream",
     "text": [
      "628685\n"
     ]
    }
   ],
   "source": [
    "TFile *f_sig = TFile::Open(\"https://atlas-opendata.web.cern.ch/atlas-opendata/samples/2020/2lep/MC/mc_345324.ggH125_WW2lep.2lep.root\");\n",
    "TTree *t_sig = (TTree*)f_sig->Get(\"mini\");\n",
    "int n_sig_events = t_sig->GetEntries();\n",
    "cout << n_sig_events << endl;"
   ]
  },
  {
   "cell_type": "code",
   "execution_count": 3,
   "id": "a0afc5c0",
   "metadata": {},
   "outputs": [
    {
     "name": "stdout",
     "output_type": "stream",
     "text": [
      "3409043\n"
     ]
    }
   ],
   "source": [
    "TFile *f_bkg = TFile::Open(\"https://atlas-opendata.web.cern.ch/atlas-opendata/samples/2020/2lep/MC/mc_363492.llvv.2lep.root\");\n",
    "TTree *t_bkg = (TTree*)f_bkg->Get(\"mini\");\n",
    "int n_bkg_events = t_bkg->GetEntries();\n",
    "cout << n_bkg_events << endl;"
   ]
  },
  {
   "cell_type": "code",
   "execution_count": 4,
   "id": "2048f6a9",
   "metadata": {},
   "outputs": [],
   "source": [
    "//int_t jet_n_sig = -1; \n",
    "UInt_t jet_n_sig = -1;\n",
    "float_t met_et_sig = 0;\n",
    "\n",
    "t_sig->SetBranchAddress(\"jet_n\", &jet_n_sig);\n",
    "t_sig->SetBranchAddress(\"met_et\", &met_et_sig);"
   ]
  },
  {
   "cell_type": "code",
   "execution_count": 5,
   "id": "d9625a98",
   "metadata": {},
   "outputs": [],
   "source": [
    "//int_t jet_n_bkg = -1; \n",
    "UInt_t jet_n_bkg = -1;\n",
    "float_t met_et_bkg = 0;\n",
    "\n",
    "t_sig->SetBranchAddress(\"jet_n\", &jet_n_bkg);\n",
    "t_bkg->SetBranchAddress(\"met_et\", &met_et_bkg);"
   ]
  },
  {
   "cell_type": "code",
   "execution_count": 6,
   "id": "fd20d093",
   "metadata": {},
   "outputs": [],
   "source": [
    "//Definición de los histogramas\n",
    "\n",
    "TCanvas *canvas = new TCanvas();\n",
    "TH1F *hist_sig_met = new TH1F(\"h_sig_met\", \"Missing transverse energy; Met_et [GeV] ; Events\", 20, 0, 200);\n",
    "TH1F *hist_bkg_met = new TH1F(\"h_bkg_met\", \"Missing transverse energy; Met_et [GeV] ; Events\", 20, 0, 200);\n",
    "TH1F *hist_sig_jet_n = new TH1F(\"hist_sig_jet_n\",\"Example plot: Number of Jets\",10,0,10);\n",
    "TH1F *hist_bkg_jet_n = new TH1F(\"hist_bkg_jet_n\",\"Example plot: Number of Jets\",10,0,10);"
   ]
  },
  {
   "cell_type": "code",
   "execution_count": 7,
   "id": "8f4d525c",
   "metadata": {},
   "outputs": [
    {
     "name": "stdout",
     "output_type": "stream",
     "text": [
      "628685\n",
      "3409043\n",
      "Done!\n"
     ]
    }
   ],
   "source": [
    "int nentries_sig = 0;\n",
    "for (int ii=0; ii<n_sig_events; ii++)\n",
    "{\n",
    "    t_sig->GetEntry(ii);\n",
    "    hist_sig_met->Fill(met_et_sig/1000);\n",
    "    hist_sig_jet_n->Fill(jet_n_sig);\n",
    "    nentries_sig++;\n",
    "}\n",
    "\n",
    "int nentries_bkg = 0;\n",
    "for (int jj=0; jj<n_bkg_events; jj++)\n",
    "{\n",
    "    t_bkg->GetEntry(jj);\n",
    "    hist_bkg_met->Fill(met_et_bkg/1000);\n",
    "    hist_bkg_jet_n->Fill(jet_n_sig);\n",
    "    nentries_bkg++;\n",
    "}\n",
    "\n",
    "cout << nentries_sig << endl;\n",
    "cout << nentries_bkg << endl;\n",
    "cout << \"Done!\" << endl;"
   ]
  },
  {
   "cell_type": "code",
   "execution_count": 8,
   "id": "cf81d939",
   "metadata": {},
   "outputs": [
    {
     "data": {
      "image/png": "[encoded data removed]",
      "text/plain": [
       "<IPython.core.display.Image object>"
      ]
     },
     "metadata": {},
     "output_type": "display_data"
    },
    {
     "name": "stdout",
     "output_type": "stream",
     "text": [
      "625850\n",
      "3.29318e+06\n"
     ]
    }
   ],
   "source": [
    "Float_t scale_sig_met = hist_sig_met->Integral();\n",
    "hist_sig_met->Scale(1/scale_sig_met);\n",
    "\n",
    "Float_t scale_bkg_met = hist_bkg_met->Integral();\n",
    "hist_bkg_met->Scale(1/scale_bkg_met);\n",
    "\n",
    "cout << scale_sig_met << endl;\n",
    "cout << scale_bkg_met << endl;\n",
    "\n",
    "hist_sig_met->SetFillStyle(3003);\n",
    "hist_sig_met->SetFillColorAlpha(kRed, 0.35);\n",
    "hist_sig_met->SetLineColor(2);\n",
    "\n",
    "hist_bkg_met->SetFillStyle(3001);\n",
    "hist_bkg_met->SetFillColorAlpha(kBlue, 0.85);\n",
    "hist_bkg_met->SetLineColor(4);\n",
    "\n",
    "TLegend *leg = new TLegend(0.5, 0.7, 0.9, 0.9);\n",
    "leg->AddEntry(hist_sig_met, \"Signal (H #rightarrow WW)\",\"l\");\n",
    "leg->AddEntry(hist_bkg_met, \"Background (WW)\",\"l\");\n",
    "\n",
    "hist_sig_met->SetStats(0);\n",
    "hist_bkg_met->SetStats(0);\n",
    "\n",
    "hist_sig_met->Draw(\"hist\"); \n",
    "hist_bkg_met->Draw(\"histsame\"); //Para graficar ambos histogramas en el mismo canvas se pone \"histsame\"\n",
    "\n",
    "TStyle *atlasStyle = new TStyle(\"ATLAS\",\"Atlas style\");\n",
    "Int_t icol=0; // WHITE\n",
    "atlasStyle->SetFrameBorderMode(icol);\n",
    "atlasStyle->SetFrameFillColor(icol);\n",
    "atlasStyle->SetCanvasBorderMode(icol);\n",
    "atlasStyle->SetCanvasColor(icol);\n",
    "atlasStyle->SetPadBorderMode(icol);\n",
    "atlasStyle->SetPadColor(icol);\n",
    "atlasStyle->SetStatColor(icol);\n",
    "atlasStyle->SetPaperSize(20,26);\n",
    "atlasStyle->SetPadTopMargin(0.05);\n",
    "atlasStyle->SetPadRightMargin(0.05); \n",
    "atlasStyle->SetPadBottomMargin(0.16);\n",
    "atlasStyle->SetPadLeftMargin(0.16); \n",
    "atlasStyle->SetTitleXOffset(1.4);\n",
    "atlasStyle->SetTitleYOffset(1.4);\n",
    "Int_t font=42; // Helvetica\n",
    "Double_t tsize=0.05;\n",
    "atlasStyle->SetTextFont(font);\n",
    "atlasStyle->SetTextSize(tsize);\n",
    "atlasStyle->SetLabelFont(font,\"x\");\n",
    "atlasStyle->SetTitleFont(font,\"x\");\n",
    "atlasStyle->SetLabelFont(font,\"y\");\n",
    "atlasStyle->SetTitleFont(font,\"y\");\n",
    "atlasStyle->SetLabelFont(font,\"z\");\n",
    "atlasStyle->SetTitleFont(font,\"z\");\n",
    "atlasStyle->SetLabelSize(tsize,\"x\");\n",
    "atlasStyle->SetTitleSize(tsize,\"x\");\n",
    "atlasStyle->SetLabelSize(tsize,\"y\");\n",
    "atlasStyle->SetTitleSize(tsize,\"y\");\n",
    "atlasStyle->SetLabelSize(tsize,\"z\");\n",
    "atlasStyle->SetTitleSize(tsize,\"z\");\n",
    "atlasStyle->SetMarkerStyle(20);\n",
    "atlasStyle->SetMarkerSize(1.2);\n",
    "atlasStyle->SetHistLineWidth(2.);\n",
    "atlasStyle->SetLineStyleString(2,\"[12 12]\"); // postscript dashes\n",
    "atlasStyle->SetEndErrorSize(0.);\n",
    "atlasStyle->SetOptTitle(0);\n",
    "atlasStyle->SetOptStat(0);\n",
    "atlasStyle->SetOptFit(0);\n",
    "atlasStyle->SetPadTickX(1);\n",
    "atlasStyle->SetPadTickY(1);\n",
    "\n",
    "TLatex l;\n",
    "l.SetNDC();\n",
    "l.SetTextFont(42);\n",
    "l.SetTextColor(kBlack);\n",
    "l.SetTextSize(0.05);  \n",
    "l.DrawLatex(0.45,0.5,\"ATLAS work in progress\");\n",
    "\n",
    "TLatex o;\n",
    "o.SetNDC();\n",
    "o.SetTextFont(42);\n",
    "o.SetTextColor(kBlack);\n",
    "o.SetTextSize(0.04);\n",
    "double dely = 0.05; \n",
    "o.DrawLatex(0.45,0.5-dely, Form(\"#sqrt{s} = 13 TeV\"));\n",
    "o.DrawLatex(0.45,0.45-dely, Form(\"H #rightarrow WW\"));\n",
    "//o.DrawLatex(0.4,0.5-dely,\"#it{for education} $m_{\\gamma}$\");\n",
    "//l2.DrawLatex(0.18,0.79, Form(\"#sqrt{s} = 13 TeV, 10 fb^{-1}\"));\n",
    "\n",
    "leg->Draw();\n",
    "canvas->Draw();"
   ]
  },
  {
   "cell_type": "code",
   "execution_count": 9,
   "id": "e09cfec8",
   "metadata": {},
   "outputs": [
    {
     "data": {
      "image/png": "[encoded data removed]",
      "text/plain": [
       "<IPython.core.display.Image object>"
      ]
     },
     "metadata": {},
     "output_type": "display_data"
    },
    {
     "name": "stdout",
     "output_type": "stream",
     "text": [
      "0\n",
      "0\n"
     ]
    }
   ],
   "source": [
    "Float_t scale_sig_jet_n = hist_sig_jet_n->Integral();\n",
    "hist_sig_jet_n->Scale(1/scale_sig_jet_n);\n",
    "\n",
    "Float_t scale_bkg_jet_n = hist_bkg_jet_n->Integral();\n",
    "hist_bkg_jet_n->Scale(1/scale_bkg_jet_n);\n",
    "\n",
    "cout << scale_sig_jet_n << endl;\n",
    "cout << scale_bkg_jet_n << endl;\n",
    "\n",
    "hist_sig_jet_n->SetFillStyle(3003);\n",
    "hist_sig_jet_n->SetFillColorAlpha(kRed, 0.35);\n",
    "hist_sig_jet_n->SetLineColor(2);\n",
    "\n",
    "hist_bkg_jet_n->SetFillStyle(3001);\n",
    "hist_bkg_jet_n->SetFillColorAlpha(kBlue, 0.45);\n",
    "hist_bkg_jet_n->SetLineColor(4);\n",
    "\n",
    "TLegend *leg = new TLegend(0.5, 0.7, 0.9, 0.9);\n",
    "leg->AddEntry(hist_sig_jet_n, \"Signal (H #rightarrow WW)\",\"l\");\n",
    "leg->AddEntry(hist_bkg_jet_n, \"Background (WW)\",\"l\");\n",
    "\n",
    "hist_sig_jet_n->SetStats(0);\n",
    "hist_bkg_jet_n->SetStats(0);\n",
    "\n",
    "hist_sig_jet_n->Draw(\"hist\"); //\n",
    "hist_bkg_jet_n->Draw(\"histsame\"); //Para graficar ambos histogramas en el mismo canvas se pone \"histsame\"\n",
    "leg->Draw();\n",
    "canvas->Draw();"
   ]
  },
  {
   "cell_type": "code",
   "execution_count": null,
   "id": "343ab240",
   "metadata": {},
   "outputs": [],
   "source": []
  }
 ],
 "metadata": {
  "kernelspec": {
   "display_name": "ROOT C++",
   "language": "c++",
   "name": "root"
  },
  "language_info": {
   "codemirror_mode": "text/x-c++src",
   "file_extension": ".C",
   "mimetype": " text/x-c++src",
   "name": "c++"
  }
 },
 "nbformat": 4,
 "nbformat_minor": 5
}
