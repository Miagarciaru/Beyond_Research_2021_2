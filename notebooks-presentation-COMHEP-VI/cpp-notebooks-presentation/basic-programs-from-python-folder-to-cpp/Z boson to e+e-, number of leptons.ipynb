{
 "cells": [
  {
   "cell_type": "code",
   "execution_count": 9,
   "id": "604da6d4",
   "metadata": {},
   "outputs": [],
   "source": [
    "#include <TChain.h>\n",
    "#include <vector>\n",
    "#include <TFile.h>\n",
    "#include <iostream>\n",
    "#include <string>\n",
    "#include <stdio.h>"
   ]
  },
  {
   "cell_type": "code",
   "execution_count": 10,
   "id": "94bd6539",
   "metadata": {},
   "outputs": [],
   "source": [
    "TFile *file = TFile::Open(\"https://atlas-opendata.web.cern.ch/atlas-opendata/samples/2020/1largeRjet1lep/MC/mc_361106.Zee.1largeRjet1lep.root\");"
   ]
  },
  {
   "cell_type": "code",
   "execution_count": 11,
   "id": "9205ca1f",
   "metadata": {},
   "outputs": [],
   "source": [
    "TCanvas *canvas = new TCanvas();"
   ]
  },
  {
   "cell_type": "code",
   "execution_count": 12,
   "id": "cdff1512",
   "metadata": {},
   "outputs": [
    {
     "name": "stdout",
     "output_type": "stream",
     "text": [
      "53653\n"
     ]
    }
   ],
   "source": [
    "TTree *tree = (TTree*) file->Get(\"mini\");\n",
    "int nentries = tree->GetEntries();\n",
    "cout << nentries << endl;"
   ]
  },
  {
   "cell_type": "code",
   "execution_count": 13,
   "id": "40d31169",
   "metadata": {},
   "outputs": [],
   "source": [
    "UInt_t lep_n = -1;\n",
    "tree->SetBranchAddress(\"lep_n\", &lep_n);"
   ]
  },
  {
   "cell_type": "code",
   "execution_count": 14,
   "id": "86f432c3",
   "metadata": {},
   "outputs": [],
   "source": [
    "TH1F *hist = new TH1F(\"variable\",\"Example plot: Number of leptons; Number of leptons ; Events \",5,-0.5,4.5);"
   ]
  },
  {
   "cell_type": "code",
   "execution_count": 15,
   "id": "16538023",
   "metadata": {},
   "outputs": [
    {
     "name": "stdout",
     "output_type": "stream",
     "text": [
      "Done!\n"
     ]
    }
   ],
   "source": [
    "for (int ii=0; ii<nentries; ii++)\n",
    "{\n",
    "    tree->GetEntry(ii);\n",
    "    hist->Fill(lep_n);\n",
    "}\n",
    "cout << \"Done!\" << endl;"
   ]
  },
  {
   "cell_type": "code",
   "execution_count": 16,
   "id": "5b09c4c5",
   "metadata": {},
   "outputs": [
    {
     "data": {
      "image/png": "[encoded data removed]",
      "text/plain": [
       "<IPython.core.display.Image object>"
      ]
     },
     "metadata": {},
     "output_type": "display_data"
    }
   ],
   "source": [
    "hist->SetLineColor(4);\n",
    "hist->SetFillStyle(3001);\n",
    "hist->SetFillColorAlpha(kRed, 0.85);\n",
    "float_t scale = hist->Integral();\n",
    "hist->Scale(1.0/scale);\n",
    "hist->Draw();\n",
    "canvas->Draw();"
   ]
  }
 ],
 "metadata": {
  "kernelspec": {
   "display_name": "ROOT C++",
   "language": "c++",
   "name": "root"
  },
  "language_info": {
   "codemirror_mode": "text/x-c++src",
   "file_extension": ".C",
   "mimetype": " text/x-c++src",
   "name": "c++"
  }
 },
 "nbformat": 4,
 "nbformat_minor": 5
}
