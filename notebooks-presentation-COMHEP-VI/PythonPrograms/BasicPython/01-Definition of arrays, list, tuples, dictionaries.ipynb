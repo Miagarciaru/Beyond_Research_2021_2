{
 "cells": [
  {
   "cell_type": "markdown",
   "id": "4eed52b3",
   "metadata": {},
   "source": [
    "# Using Numpy for first time"
   ]
  },
  {
   "cell_type": "markdown",
   "id": "b6042a1f",
   "metadata": {},
   "source": [
    "Using for first time NumPy. Here we load numpy as np for practical uses. If we can find a detailed information of loading data files we can click on:\n",
    "https://swcarpentry.github.io/r-novice-inflammation/01-starting-with-data/"
   ]
  },
  {
   "cell_type": "code",
   "execution_count": 1,
   "id": "64c9ca8a",
   "metadata": {},
   "outputs": [],
   "source": [
    "import numpy as np"
   ]
  },
  {
   "cell_type": "markdown",
   "id": "f91e333c",
   "metadata": {},
   "source": [
    "Numpy has a module called loadtxt which lets us to use data from a file (txt, cvs, etc) and read it. We can comment a line in python with the simbol #. The second argument, related with the delimiter, do mention about the separation symbol of data in our file. It means that if you have a file with numbers separated with a coma, you have to include de delimiter=',' in the second argument of module in order to avoid an error compilation."
   ]
  },
  {
   "cell_type": "code",
   "execution_count": 2,
   "id": "a290a030",
   "metadata": {},
   "outputs": [],
   "source": [
    "data = np.loadtxt(\"data/inflammation-01.csv\", delimiter=',')"
   ]
  },
  {
   "cell_type": "code",
   "execution_count": 3,
   "id": "2a521051",
   "metadata": {},
   "outputs": [
    {
     "data": {
      "text/plain": [
       "array([[ 0.,  0.,  1.,  3.,  1.,  2.,  4.,  7.,  8.,  3.,  3.,  3., 10.,\n",
       "         5.,  7.,  4.,  7.,  7., 12., 18.,  6., 13., 11., 11.,  7.,  7.,\n",
       "         4.,  6.,  8.,  8.,  4.,  4.,  5.,  7.,  3.,  4.,  2.,  3.,  0.,\n",
       "         0.],\n",
       "       [ 0.,  1.,  2.,  1.,  2.,  1.,  3.,  2.,  2.,  6., 10., 11.,  5.,\n",
       "         9.,  4.,  4.,  7., 16.,  8.,  6., 18.,  4., 12.,  5., 12.,  7.,\n",
       "        11.,  5., 11.,  3.,  3.,  5.,  4.,  4.,  5.,  5.,  1.,  1.,  0.,\n",
       "         1.],\n",
       "       [ 0.,  1.,  1.,  3.,  3.,  2.,  6.,  2.,  5.,  9.,  5.,  7.,  4.,\n",
       "         5.,  4., 15.,  5., 11.,  9., 10., 19., 14., 12., 17.,  7., 12.,\n",
       "        11.,  7.,  4.,  2., 10.,  5.,  4.,  2.,  2.,  3.,  2.,  2.,  1.,\n",
       "         1.],\n",
       "       [ 0.,  0.,  2.,  0.,  4.,  2.,  2.,  1.,  6.,  7., 10.,  7.,  9.,\n",
       "        13.,  8.,  8., 15., 10., 10.,  7., 17.,  4.,  4.,  7.,  6., 15.,\n",
       "         6.,  4.,  9., 11.,  3.,  5.,  6.,  3.,  3.,  4.,  2.,  3.,  2.,\n",
       "         1.],\n",
       "       [ 0.,  1.,  1.,  3.,  3.,  1.,  3.,  5.,  2.,  4.,  4.,  7.,  6.,\n",
       "         5.,  3., 10.,  8., 10.,  6., 17.,  9., 14.,  9.,  7., 13.,  9.,\n",
       "        12.,  6.,  7.,  7.,  9.,  6.,  3.,  2.,  2.,  4.,  2.,  0.,  1.,\n",
       "         1.]])"
      ]
     },
     "execution_count": 3,
     "metadata": {},
     "output_type": "execute_result"
    }
   ],
   "source": [
    "data"
   ]
  },
  {
   "cell_type": "markdown",
   "id": "98c8da71",
   "metadata": {},
   "source": [
    "If we need information about how to use a module of numpy, we can type the command help(np.name_of_module) such as:"
   ]
  },
  {
   "cell_type": "code",
   "execution_count": 4,
   "id": "627ba217",
   "metadata": {},
   "outputs": [
    {
     "name": "stdout",
     "output_type": "stream",
     "text": [
      "Help on function loadtxt in module numpy:\n",
      "\n",
      "loadtxt(fname, dtype=<class 'float'>, comments='#', delimiter=None, converters=None, skiprows=0, usecols=None, unpack=False, ndmin=0, encoding='bytes', max_rows=None, *, like=None)\n",
      "    Load data from a text file.\n",
      "    \n",
      "    Each row in the text file must have the same number of values.\n",
      "    \n",
      "    Parameters\n",
      "    ----------\n",
      "    fname : file, str, or pathlib.Path\n",
      "        File, filename, or generator to read.  If the filename extension is\n",
      "        ``.gz`` or ``.bz2``, the file is first decompressed. Note that\n",
      "        generators should return byte strings.\n",
      "    dtype : data-type, optional\n",
      "        Data-type of the resulting array; default: float.  If this is a\n",
      "        structured data-type, the resulting array will be 1-dimensional, and\n",
      "        each row will be interpreted as an element of the array.  In this\n",
      "        case, the number of columns used must match the number of fields in\n",
      "        the data-type.\n",
      "    comments : str or sequence of str, optional\n",
      "        The characters or list of characters used to indicate the start of a\n",
      "        comment. None implies no comments. For backwards compatibility, byte\n",
      "        strings will be decoded as 'latin1'. The default is '#'.\n",
      "    delimiter : str, optional\n",
      "        The string used to separate values. For backwards compatibility, byte\n",
      "        strings will be decoded as 'latin1'. The default is whitespace.\n",
      "    converters : dict, optional\n",
      "        A dictionary mapping column number to a function that will parse the\n",
      "        column string into the desired value.  E.g., if column 0 is a date\n",
      "        string: ``converters = {0: datestr2num}``.  Converters can also be\n",
      "        used to provide a default value for missing data (but see also\n",
      "        `genfromtxt`): ``converters = {3: lambda s: float(s.strip() or 0)}``.\n",
      "        Default: None.\n",
      "    skiprows : int, optional\n",
      "        Skip the first `skiprows` lines, including comments; default: 0.\n",
      "    usecols : int or sequence, optional\n",
      "        Which columns to read, with 0 being the first. For example,\n",
      "        ``usecols = (1,4,5)`` will extract the 2nd, 5th and 6th columns.\n",
      "        The default, None, results in all columns being read.\n",
      "    \n",
      "        .. versionchanged:: 1.11.0\n",
      "            When a single column has to be read it is possible to use\n",
      "            an integer instead of a tuple. E.g ``usecols = 3`` reads the\n",
      "            fourth column the same way as ``usecols = (3,)`` would.\n",
      "    unpack : bool, optional\n",
      "        If True, the returned array is transposed, so that arguments may be\n",
      "        unpacked using ``x, y, z = loadtxt(...)``.  When used with a\n",
      "        structured data-type, arrays are returned for each field.\n",
      "        Default is False.\n",
      "    ndmin : int, optional\n",
      "        The returned array will have at least `ndmin` dimensions.\n",
      "        Otherwise mono-dimensional axes will be squeezed.\n",
      "        Legal values: 0 (default), 1 or 2.\n",
      "    \n",
      "        .. versionadded:: 1.6.0\n",
      "    encoding : str, optional\n",
      "        Encoding used to decode the inputfile. Does not apply to input streams.\n",
      "        The special value 'bytes' enables backward compatibility workarounds\n",
      "        that ensures you receive byte arrays as results if possible and passes\n",
      "        'latin1' encoded strings to converters. Override this value to receive\n",
      "        unicode arrays and pass strings as input to converters.  If set to None\n",
      "        the system default is used. The default value is 'bytes'.\n",
      "    \n",
      "        .. versionadded:: 1.14.0\n",
      "    max_rows : int, optional\n",
      "        Read `max_rows` lines of content after `skiprows` lines. The default\n",
      "        is to read all the lines.\n",
      "    \n",
      "        .. versionadded:: 1.16.0\n",
      "    like : array_like\n",
      "        Reference object to allow the creation of arrays which are not\n",
      "        NumPy arrays. If an array-like passed in as ``like`` supports\n",
      "        the ``__array_function__`` protocol, the result will be defined\n",
      "        by it. In this case, it ensures the creation of an array object\n",
      "        compatible with that passed in via this argument.\n",
      "    \n",
      "        .. note::\n",
      "            The ``like`` keyword is an experimental feature pending on\n",
      "            acceptance of :ref:`NEP 35 <NEP35>`.\n",
      "    \n",
      "        .. versionadded:: 1.20.0\n",
      "    \n",
      "    Returns\n",
      "    -------\n",
      "    out : ndarray\n",
      "        Data read from the text file.\n",
      "    \n",
      "    See Also\n",
      "    --------\n",
      "    load, fromstring, fromregex\n",
      "    genfromtxt : Load data with missing values handled as specified.\n",
      "    scipy.io.loadmat : reads MATLAB data files\n",
      "    \n",
      "    Notes\n",
      "    -----\n",
      "    This function aims to be a fast reader for simply formatted files.  The\n",
      "    `genfromtxt` function provides more sophisticated handling of, e.g.,\n",
      "    lines with missing values.\n",
      "    \n",
      "    .. versionadded:: 1.10.0\n",
      "    \n",
      "    The strings produced by the Python float.hex method can be used as\n",
      "    input for floats.\n",
      "    \n",
      "    Examples\n",
      "    --------\n",
      "    >>> from io import StringIO   # StringIO behaves like a file object\n",
      "    >>> c = StringIO(\"0 1\\n2 3\")\n",
      "    >>> np.loadtxt(c)\n",
      "    array([[0., 1.],\n",
      "           [2., 3.]])\n",
      "    \n",
      "    >>> d = StringIO(\"M 21 72\\nF 35 58\")\n",
      "    >>> np.loadtxt(d, dtype={'names': ('gender', 'age', 'weight'),\n",
      "    ...                      'formats': ('S1', 'i4', 'f4')})\n",
      "    array([(b'M', 21, 72.), (b'F', 35, 58.)],\n",
      "          dtype=[('gender', 'S1'), ('age', '<i4'), ('weight', '<f4')])\n",
      "    \n",
      "    >>> c = StringIO(\"1,0,2\\n3,0,4\")\n",
      "    >>> x, y = np.loadtxt(c, delimiter=',', usecols=(0, 2), unpack=True)\n",
      "    >>> x\n",
      "    array([1., 3.])\n",
      "    >>> y\n",
      "    array([2., 4.])\n",
      "    \n",
      "    This example shows how `converters` can be used to convert a field\n",
      "    with a trailing minus sign into a negative number.\n",
      "    \n",
      "    >>> s = StringIO('10.01 31.25-\\n19.22 64.31\\n17.57- 63.94')\n",
      "    >>> def conv(fld):\n",
      "    ...     return -float(fld[:-1]) if fld.endswith(b'-') else float(fld)\n",
      "    ...\n",
      "    >>> np.loadtxt(s, converters={0: conv, 1: conv})\n",
      "    array([[ 10.01, -31.25],\n",
      "           [ 19.22,  64.31],\n",
      "           [-17.57,  63.94]])\n",
      "\n"
     ]
    }
   ],
   "source": [
    "help(np.loadtxt)"
   ]
  },
  {
   "cell_type": "markdown",
   "id": "c0701dd9",
   "metadata": {},
   "source": [
    "The function shape can gives us the number of rows and columns of our file:"
   ]
  },
  {
   "cell_type": "code",
   "execution_count": 5,
   "id": "8a2f405c",
   "metadata": {},
   "outputs": [
    {
     "data": {
      "text/plain": [
       "(5, 40)"
      ]
     },
     "execution_count": 5,
     "metadata": {},
     "output_type": "execute_result"
    }
   ],
   "source": [
    "data.shape"
   ]
  },
  {
   "cell_type": "markdown",
   "id": "0058c079",
   "metadata": {},
   "source": [
    "If we need to save these numbers we can use the code:"
   ]
  },
  {
   "cell_type": "code",
   "execution_count": 6,
   "id": "0f64fee5",
   "metadata": {},
   "outputs": [],
   "source": [
    "nrows, ncolumns = data.shape"
   ]
  },
  {
   "cell_type": "code",
   "execution_count": 7,
   "id": "72e2db9f",
   "metadata": {},
   "outputs": [
    {
     "name": "stdout",
     "output_type": "stream",
     "text": [
      "5\n"
     ]
    }
   ],
   "source": [
    "print(nrows)"
   ]
  },
  {
   "cell_type": "code",
   "execution_count": 8,
   "id": "c2f18744",
   "metadata": {},
   "outputs": [
    {
     "name": "stdout",
     "output_type": "stream",
     "text": [
      "40\n"
     ]
    }
   ],
   "source": [
    "print(ncolumns)"
   ]
  },
  {
   "cell_type": "markdown",
   "id": "87ad953e",
   "metadata": {},
   "source": [
    "Although our data are integer numbers, the module loadtxt save them as float of 64 bits. We can confirm this by typing:"
   ]
  },
  {
   "cell_type": "code",
   "execution_count": 9,
   "id": "663b5260",
   "metadata": {},
   "outputs": [
    {
     "name": "stdout",
     "output_type": "stream",
     "text": [
      "float64\n"
     ]
    }
   ],
   "source": [
    "print(data.dtype)"
   ]
  },
  {
   "cell_type": "markdown",
   "id": "6e1cf278",
   "metadata": {},
   "source": [
    "We also can access to some data from our file, taking into account that our data is an array, using the command:"
   ]
  },
  {
   "cell_type": "code",
   "execution_count": 10,
   "id": "a632b2ce",
   "metadata": {},
   "outputs": [
    {
     "data": {
      "text/plain": [
       "array([ 0.,  0.,  1.,  3.,  1.,  2.,  4.,  7.,  8.,  3.,  3.,  3., 10.,\n",
       "        5.,  7.,  4.,  7.,  7., 12., 18.,  6., 13., 11., 11.,  7.,  7.,\n",
       "        4.,  6.,  8.,  8.,  4.,  4.,  5.,  7.,  3.,  4.,  2.,  3.,  0.,\n",
       "        0.])"
      ]
     },
     "execution_count": 10,
     "metadata": {},
     "output_type": "execute_result"
    }
   ],
   "source": [
    "data[0]"
   ]
  },
  {
   "cell_type": "markdown",
   "id": "a18e4721",
   "metadata": {},
   "source": [
    "which prints the first row of the array, o we can access an especific data by: "
   ]
  },
  {
   "cell_type": "code",
   "execution_count": 11,
   "id": "4e2c80b9",
   "metadata": {},
   "outputs": [
    {
     "data": {
      "text/plain": [
       "2.0"
      ]
     },
     "execution_count": 11,
     "metadata": {},
     "output_type": "execute_result"
    }
   ],
   "source": [
    "data[0,5]"
   ]
  },
  {
   "cell_type": "markdown",
   "id": "5195cc47",
   "metadata": {},
   "source": [
    "Also, we can access to a determine range in our data by using \":\" and the range from the first number to the last number plus one (it doesn't include the last number). "
   ]
  },
  {
   "cell_type": "code",
   "execution_count": 12,
   "id": "8d65f44d",
   "metadata": {},
   "outputs": [
    {
     "data": {
      "text/plain": [
       "array([0., 0., 1., 3., 1., 2., 4., 7.])"
      ]
     },
     "execution_count": 12,
     "metadata": {},
     "output_type": "execute_result"
    }
   ],
   "source": [
    "data[0, 0:8]"
   ]
  },
  {
   "cell_type": "markdown",
   "id": "4106462a",
   "metadata": {},
   "source": [
    "Finally, we can access by two (or three, or four, etc) data instead of one per one with:"
   ]
  },
  {
   "cell_type": "code",
   "execution_count": 13,
   "id": "5f51ee6e",
   "metadata": {},
   "outputs": [
    {
     "data": {
      "text/plain": [
       "array([0., 1., 1., 4.])"
      ]
     },
     "execution_count": 13,
     "metadata": {},
     "output_type": "execute_result"
    }
   ],
   "source": [
    "data[0, 0:8:2]"
   ]
  },
  {
   "cell_type": "code",
   "execution_count": 14,
   "id": "c6198769",
   "metadata": {},
   "outputs": [
    {
     "data": {
      "text/plain": [
       "array([0., 3., 4.])"
      ]
     },
     "execution_count": 14,
     "metadata": {},
     "output_type": "execute_result"
    }
   ],
   "source": [
    "data[0, 0:8:3]"
   ]
  },
  {
   "cell_type": "markdown",
   "id": "c71ad049",
   "metadata": {},
   "source": [
    "If we want to make an average of the data, we can use:"
   ]
  },
  {
   "cell_type": "code",
   "execution_count": 15,
   "id": "5fc92ef4",
   "metadata": {},
   "outputs": [
    {
     "name": "stdout",
     "output_type": "stream",
     "text": [
      "5.685\n"
     ]
    }
   ],
   "source": [
    "print(np.mean(data))"
   ]
  },
  {
   "cell_type": "markdown",
   "id": "338c9897",
   "metadata": {},
   "source": [
    "This code calculate the average of all numbers in our file, but if we need the average of only the row or the column we have to be more explicity:"
   ]
  },
  {
   "cell_type": "code",
   "execution_count": 16,
   "id": "afbf02ca",
   "metadata": {},
   "outputs": [
    {
     "name": "stdout",
     "output_type": "stream",
     "text": [
      "5 40\n",
      "[5.45  5.425 6.1   5.9   5.55 ]\n"
     ]
    }
   ],
   "source": [
    "print(nrows, ncolumns)\n",
    "print(np.mean(data, axis=1))"
   ]
  },
  {
   "cell_type": "markdown",
   "id": "0f124ae3",
   "metadata": {},
   "source": [
    "As we can see, this code printed the average of each column because when we use axis=1 we tell to numpy that make an average over the columns and consider the rows constants. If we want to make an average over rows we can change axis=1 by axis=0:"
   ]
  },
  {
   "cell_type": "code",
   "execution_count": 17,
   "id": "68deef91",
   "metadata": {},
   "outputs": [
    {
     "name": "stdout",
     "output_type": "stream",
     "text": [
      "5 40\n",
      "[ 0.   0.6  1.4  2.   2.6  1.6  3.6  3.4  4.6  5.8  6.4  7.   6.8  7.4\n",
      "  5.2  8.2  8.4 10.8  9.  11.6 13.8  9.8  9.6  9.4  9.  10.   8.8  5.6\n",
      "  7.8  6.2  5.8  5.   4.4  3.6  3.   4.   1.8  1.8  0.8  0.8]\n"
     ]
    }
   ],
   "source": [
    "print(nrows, ncolumns)\n",
    "print(np.mean(data, axis=0))"
   ]
  },
  {
   "cell_type": "markdown",
   "id": "ae7727bd",
   "metadata": {},
   "source": [
    "# List, Tuples and sets."
   ]
  },
  {
   "cell_type": "markdown",
   "id": "9d1936bd",
   "metadata": {},
   "source": [
    "## List"
   ]
  },
  {
   "cell_type": "markdown",
   "id": "d0ca5a6f",
   "metadata": {},
   "source": [
    "Consider a list of subjects called courses, in which we are gonig to put five subjects as follow:"
   ]
  },
  {
   "cell_type": "code",
   "execution_count": 18,
   "id": "ff6321e4",
   "metadata": {},
   "outputs": [],
   "source": [
    "courses = ['History', 'Math', 'Chemistry', 'Physics', 'Biology']"
   ]
  },
  {
   "cell_type": "markdown",
   "id": "6c65a21f",
   "metadata": {},
   "source": [
    "If we want to know the number of elements into the array courses, or their size, we can use:"
   ]
  },
  {
   "cell_type": "code",
   "execution_count": 19,
   "id": "54a0dd62",
   "metadata": {},
   "outputs": [
    {
     "name": "stdout",
     "output_type": "stream",
     "text": [
      "5\n"
     ]
    }
   ],
   "source": [
    "print(len(courses))"
   ]
  },
  {
   "cell_type": "markdown",
   "id": "fadc7806",
   "metadata": {},
   "source": [
    "If we want to access to an specific element of the array, we have to put their position counting from the position cero (i.e for the first element the position is cero, the second one is the position one and so on). Also, if we want to access to the last element, we can use the label -1 (note that is equivalent to put [4] and [-1] in this example): "
   ]
  },
  {
   "cell_type": "code",
   "execution_count": 20,
   "id": "0870a8a7",
   "metadata": {},
   "outputs": [
    {
     "name": "stdout",
     "output_type": "stream",
     "text": [
      "History\n",
      "Biology\n",
      "Biology\n"
     ]
    }
   ],
   "source": [
    "print(courses[0])\n",
    "print(courses[4])\n",
    "print(courses[-1])"
   ]
  },
  {
   "cell_type": "markdown",
   "id": "01a2d1c2",
   "metadata": {},
   "source": [
    "We can specify any range we want with the symbol : like in the next examples:"
   ]
  },
  {
   "cell_type": "code",
   "execution_count": 21,
   "id": "5bd3a4cc",
   "metadata": {},
   "outputs": [
    {
     "name": "stdout",
     "output_type": "stream",
     "text": [
      "['History', 'Math']\n",
      "['History', 'Math']\n",
      "['Chemistry', 'Physics']\n",
      "['Chemistry', 'Physics', 'Biology']\n"
     ]
    }
   ],
   "source": [
    "print(courses[0:2])\n",
    "print(courses[:2])\n",
    "print(courses[2:-1])\n",
    "print(courses[2:])"
   ]
  },
  {
   "cell_type": "markdown",
   "id": "a7195d5a",
   "metadata": {},
   "source": [
    "To add a subject to courses array, we could use some functions that allows to include it into the array by putting it at last position (append), at first position (insert) or at determined position:"
   ]
  },
  {
   "cell_type": "code",
   "execution_count": 22,
   "id": "4e2720b5",
   "metadata": {},
   "outputs": [
    {
     "name": "stdout",
     "output_type": "stream",
     "text": [
      "['History', 'Math', 'Chemistry', 'Physics', 'Biology', 'Art']\n",
      "['Music', 'History', 'Math', 'Chemistry', 'Physics', 'Biology', 'Art']\n",
      "['Music', 'History', 'Math', 'Literature', 'Chemistry', 'Physics', 'Biology', 'Art']\n"
     ]
    }
   ],
   "source": [
    "courses.append('Art')\n",
    "print(courses)\n",
    "courses.insert(0, 'Music')\n",
    "print(courses)\n",
    "courses.insert(3, 'Literature')\n",
    "print(courses)"
   ]
  },
  {
   "cell_type": "code",
   "execution_count": 23,
   "id": "ddccdbdd",
   "metadata": {},
   "outputs": [
    {
     "name": "stdout",
     "output_type": "stream",
     "text": [
      "['Music', 'History', 'Math', 'Literature', 'Chemistry', 'Physics', 'Biology', 'Art', 'Electrodynamics', 'Quantum Mechanics']\n"
     ]
    }
   ],
   "source": [
    "courses_2 = ['Electrodynamics', 'Quantum Mechanics']\n",
    "courses.extend(courses_2)\n",
    "print(courses)"
   ]
  },
  {
   "cell_type": "markdown",
   "id": "e3e64fc4",
   "metadata": {},
   "source": [
    "If we want to remove an element, we have the next options:"
   ]
  },
  {
   "cell_type": "code",
   "execution_count": 24,
   "id": "2ad88614",
   "metadata": {},
   "outputs": [
    {
     "name": "stdout",
     "output_type": "stream",
     "text": [
      "['Music', 'History', 'Math', 'Literature', 'Chemistry', 'Physics', 'Art', 'Electrodynamics', 'Quantum Mechanics']\n",
      "['Music', 'History', 'Math', 'Literature', 'Chemistry', 'Physics', 'Art', 'Electrodynamics']\n"
     ]
    }
   ],
   "source": [
    "courses.remove('Biology')\n",
    "print(courses)\n",
    "courses.pop()\n",
    "print(courses)"
   ]
  },
  {
   "cell_type": "markdown",
   "id": "a274d076",
   "metadata": {},
   "source": [
    "We have the option reverse, which organizes our array from the last element to the fist one, and the option sort, which organizes our array in alphabetic order:"
   ]
  },
  {
   "cell_type": "code",
   "execution_count": 25,
   "id": "4fbf88e6",
   "metadata": {},
   "outputs": [
    {
     "name": "stdout",
     "output_type": "stream",
     "text": [
      "['Electrodynamics', 'Art', 'Physics', 'Chemistry', 'Literature', 'Math', 'History', 'Music']\n",
      "['Art', 'Chemistry', 'Electrodynamics', 'History', 'Literature', 'Math', 'Music', 'Physics']\n"
     ]
    }
   ],
   "source": [
    "courses.reverse()\n",
    "print(courses)\n",
    "courses.sort()\n",
    "print(courses)"
   ]
  },
  {
   "cell_type": "code",
   "execution_count": 26,
   "id": "06452893",
   "metadata": {},
   "outputs": [
    {
     "name": "stdout",
     "output_type": "stream",
     "text": [
      "['Physics', 'Music', 'Math', 'Literature', 'History', 'Electrodynamics', 'Chemistry', 'Art']\n"
     ]
    }
   ],
   "source": [
    "courses.sort(reverse=True)\n",
    "print(courses)"
   ]
  },
  {
   "cell_type": "markdown",
   "id": "aeface6b",
   "metadata": {},
   "source": [
    "If we want to print a chain of string using the elements of the array courses, we can create a variable course_str and print the elements of courses with a separation of symbol - using the function join(). This prints a chain of strings which isn't an array. The opposite can be done by using the function split() and specifying the symbol separation used in the chain of strings, such as follow:"
   ]
  },
  {
   "cell_type": "code",
   "execution_count": 27,
   "id": "1c2fa4a6",
   "metadata": {},
   "outputs": [
    {
     "name": "stdout",
     "output_type": "stream",
     "text": [
      "Physics - Music - Math - Literature - History - Electrodynamics - Chemistry - Art\n",
      "['Physics', 'Music', 'Math', 'Literature', 'History', 'Electrodynamics', 'Chemistry', 'Art']\n"
     ]
    }
   ],
   "source": [
    "course_str = ' - '.join(courses)\n",
    "print(course_str)\n",
    "new_list = course_str.split(' - ')\n",
    "print(new_list)"
   ]
  },
  {
   "cell_type": "markdown",
   "id": "f41c98c2",
   "metadata": {},
   "source": [
    "As an little example of a loop using for to print the courses in the array, we can type the next command line:"
   ]
  },
  {
   "cell_type": "code",
   "execution_count": 31,
   "id": "f67016e9",
   "metadata": {},
   "outputs": [
    {
     "name": "stdout",
     "output_type": "stream",
     "text": [
      "1 Physics\n",
      "2 Music\n",
      "3 Math\n",
      "4 Literature\n",
      "5 History\n",
      "6 Electrodynamics\n",
      "7 Chemistry\n",
      "8 Art\n"
     ]
    }
   ],
   "source": [
    "for index, course in enumerate(courses, start=1):\n",
    "    print(index, course)"
   ]
  },
  {
   "cell_type": "markdown",
   "id": "ccf2ad07",
   "metadata": {},
   "source": [
    "## Tuples"
   ]
  },
  {
   "cell_type": "markdown",
   "id": "1b213972",
   "metadata": {},
   "source": [
    "Consider an array which is a list. In this case, we can use the same array courses but now we are going to call it as list_1. Lets define another list called list_2 as follow:"
   ]
  },
  {
   "cell_type": "code",
   "execution_count": 33,
   "id": "10f42794",
   "metadata": {},
   "outputs": [
    {
     "name": "stdout",
     "output_type": "stream",
     "text": [
      "['History', 'Math', 'Physics', 'CompScy']\n",
      "['History', 'Math', 'Physics', 'CompScy']\n"
     ]
    }
   ],
   "source": [
    "list_1 = ['History', 'Math', 'Physics', 'CompScy']\n",
    "list_2 = list_1\n",
    "print(list_1)\n",
    "print(list_2)"
   ]
  },
  {
   "cell_type": "markdown",
   "id": "8737f60e",
   "metadata": {},
   "source": [
    "As you can see, list_1 and list_2 are exactly the same array. If we want to modify an element of the list list_1, for example the first one, the first element of the list_2 is also modified:"
   ]
  },
  {
   "cell_type": "code",
   "execution_count": 34,
   "id": "e937ca84",
   "metadata": {},
   "outputs": [
    {
     "name": "stdout",
     "output_type": "stream",
     "text": [
      "['Art', 'Math', 'Physics', 'CompScy']\n",
      "['Art', 'Math', 'Physics', 'CompScy']\n"
     ]
    }
   ],
   "source": [
    "list_1[0] = 'Art'\n",
    "print(list_1)\n",
    "print(list_2)"
   ]
  },
  {
   "cell_type": "markdown",
   "id": "97b00ae6",
   "metadata": {},
   "source": [
    "If you don't want to happen this, you can use a Tuple instead of list. The structure of a tuple is quite similar to the list but you have to use brackets () instead of []. If we do a similar procedure using tuples, the terminal will show an error because it is not posible to modify an element of a tuple as we do in a list: "
   ]
  },
  {
   "cell_type": "code",
   "execution_count": 38,
   "id": "916eb668",
   "metadata": {},
   "outputs": [
    {
     "name": "stdout",
     "output_type": "stream",
     "text": [
      "('Art', 'Math', 'Physics', 'CompScy')\n",
      "('Art', 'Math', 'Physics', 'CompScy')\n"
     ]
    },
    {
     "ename": "TypeError",
     "evalue": "'tuple' object does not support item assignment",
     "output_type": "error",
     "traceback": [
      "\u001b[0;31m---------------------------------------------------------------------------\u001b[0m",
      "\u001b[0;31mTypeError\u001b[0m                                 Traceback (most recent call last)",
      "\u001b[0;32m<ipython-input-38-c40795ad8773>\u001b[0m in \u001b[0;36m<module>\u001b[0;34m\u001b[0m\n\u001b[1;32m      4\u001b[0m \u001b[0mprint\u001b[0m\u001b[0;34m(\u001b[0m\u001b[0mTuple_2\u001b[0m\u001b[0;34m)\u001b[0m\u001b[0;34m\u001b[0m\u001b[0;34m\u001b[0m\u001b[0m\n\u001b[1;32m      5\u001b[0m \u001b[0;34m\u001b[0m\u001b[0m\n\u001b[0;32m----> 6\u001b[0;31m \u001b[0mTuple_1\u001b[0m\u001b[0;34m[\u001b[0m\u001b[0;36m0\u001b[0m\u001b[0;34m]\u001b[0m \u001b[0;34m=\u001b[0m \u001b[0;34m'Art'\u001b[0m\u001b[0;34m\u001b[0m\u001b[0;34m\u001b[0m\u001b[0m\n\u001b[0m\u001b[1;32m      7\u001b[0m \u001b[0;34m\u001b[0m\u001b[0m\n\u001b[1;32m      8\u001b[0m \u001b[0mprint\u001b[0m\u001b[0;34m(\u001b[0m\u001b[0mTuple_1\u001b[0m\u001b[0;34m)\u001b[0m\u001b[0;34m\u001b[0m\u001b[0;34m\u001b[0m\u001b[0m\n",
      "\u001b[0;31mTypeError\u001b[0m: 'tuple' object does not support item assignment"
     ]
    }
   ],
   "source": [
    "Tuple_1 = ('Art', 'Math', 'Physics', 'CompScy')\n",
    "Tuple_2 = Tuple_1\n",
    "print(Tuple_1)\n",
    "print(Tuple_2)\n",
    "\n",
    "Tuple_1[0] = 'Art'\n",
    "\n",
    "print(Tuple_1)\n",
    "print(Tuple_2)"
   ]
  },
  {
   "cell_type": "markdown",
   "id": "54a79c1d",
   "metadata": {},
   "source": [
    "## Sets"
   ]
  },
  {
   "cell_type": "markdown",
   "id": "5834acab",
   "metadata": {},
   "source": [
    "We can use sets using the brackets {}, and his elements can be printed in diferents orders because in a set doesn't matter the order of their elements. Also, we can add a repeated element and this will print only once per repeated element:"
   ]
  },
  {
   "cell_type": "code",
   "execution_count": 45,
   "id": "02149a52",
   "metadata": {},
   "outputs": [
    {
     "name": "stdout",
     "output_type": "stream",
     "text": [
      "{'Math', 'CompScy', 'Physics', 'History'}\n",
      "{'Math', 'CompScy', 'Physics', 'History'}\n"
     ]
    }
   ],
   "source": [
    "cs_courses = {'History', 'Math', 'Physics', 'CompScy', 'Math'}\n",
    "print(cs_courses)\n",
    "print(cs_courses)"
   ]
  },
  {
   "cell_type": "markdown",
   "id": "5792e475",
   "metadata": {},
   "source": [
    "We can also use common operations between sets as union, intersection, etc. Lets define another set and see how to works this operations:"
   ]
  },
  {
   "cell_type": "code",
   "execution_count": 47,
   "id": "c577d523",
   "metadata": {},
   "outputs": [
    {
     "name": "stdout",
     "output_type": "stream",
     "text": [
      "{'History', 'Math'}\n",
      "{'CompScy', 'Physics'}\n",
      "{'Design', 'Art', 'History', 'CompScy', 'Physics', 'Math'}\n"
     ]
    }
   ],
   "source": [
    "art_courses = {'History', 'Math', 'Art', 'Design'}\n",
    "print(cs_courses.intersection(art_courses))\n",
    "print(cs_courses.difference(art_courses))\n",
    "print(cs_courses.union(art_courses))"
   ]
  },
  {
   "cell_type": "markdown",
   "id": "12ac6ad2",
   "metadata": {},
   "source": [
    "# Dictionaries: Working with key-values pairs"
   ]
  },
  {
   "cell_type": "markdown",
   "id": "1c080084",
   "metadata": {},
   "source": [
    "If you want to create a determined object which has diferent information about itself, you can use Dictionaries that uses Key-Values pairs. For example, we have objects called \"student\" and we want to provide it a name, an age and the courses. Thus, we have to type something like this:"
   ]
  },
  {
   "cell_type": "code",
   "execution_count": 14,
   "id": "7a3884c3",
   "metadata": {},
   "outputs": [
    {
     "name": "stdout",
     "output_type": "stream",
     "text": [
      "{'name': 'John', 'age': 25, 'courses': ['Math', 'Physics'], 'Semester': '8'}\n",
      "John\n"
     ]
    }
   ],
   "source": [
    "student = {'name': 'John', 'age': 25, 'courses': ['Math', 'Physics'], 'Semester': '8'}\n",
    "print(student)\n",
    "print(student['name'])"
   ]
  },
  {
   "cell_type": "markdown",
   "id": "a00d67c3",
   "metadata": {},
   "source": [
    "As you can see, we printed all the information and the name of the student. In any case, we can specify the key that we want to know or we can only access to all keys of the student. If we try to access to a key that is not define, as \"phone\", we would observe an error. If we want to avoid this error, we can use the function get() and this will print the message \"None\" by default:"
   ]
  },
  {
   "cell_type": "code",
   "execution_count": 15,
   "id": "1176d3a7",
   "metadata": {},
   "outputs": [
    {
     "name": "stdout",
     "output_type": "stream",
     "text": [
      "John\n",
      "None\n"
     ]
    }
   ],
   "source": [
    "print(student.get('name'))\n",
    "print(student.get('phone'))"
   ]
  },
  {
   "cell_type": "markdown",
   "id": "1cba9229",
   "metadata": {},
   "source": [
    "If we want to print a different message, like \"Not Found\", we can also specify it inside the function get():"
   ]
  },
  {
   "cell_type": "code",
   "execution_count": 16,
   "id": "a9a07893",
   "metadata": {},
   "outputs": [
    {
     "name": "stdout",
     "output_type": "stream",
     "text": [
      "Not Found\n"
     ]
    }
   ],
   "source": [
    "print(student.get('phone', 'Not Found'))"
   ]
  },
  {
   "cell_type": "markdown",
   "id": "f0ed62b1",
   "metadata": {},
   "source": [
    "Also, we can add the key \"phone\" and his value by typing as follow:"
   ]
  },
  {
   "cell_type": "code",
   "execution_count": 17,
   "id": "174a8363",
   "metadata": {},
   "outputs": [
    {
     "name": "stdout",
     "output_type": "stream",
     "text": [
      "555-5555\n"
     ]
    }
   ],
   "source": [
    "student['phone'] = '555-5555'\n",
    "print(student.get('phone', 'Not Found'))"
   ]
  },
  {
   "cell_type": "markdown",
   "id": "cd7ab3d6",
   "metadata": {},
   "source": [
    "Sometimes, we will need to change a value, so we can change it using the brackects []:"
   ]
  },
  {
   "cell_type": "code",
   "execution_count": 18,
   "id": "3375eb77",
   "metadata": {},
   "outputs": [
    {
     "name": "stdout",
     "output_type": "stream",
     "text": [
      "{'name': 'Jane', 'age': 25, 'courses': ['Math', 'Physics'], 'Semester': '8', 'phone': '555-5555'}\n"
     ]
    }
   ],
   "source": [
    "student['name'] = 'Jane'\n",
    "print(student)"
   ]
  },
  {
   "cell_type": "markdown",
   "id": "ad0440d4",
   "metadata": {},
   "source": [
    "It is usually used the function update() instead of [] to change some values of objects:"
   ]
  },
  {
   "cell_type": "code",
   "execution_count": 19,
   "id": "e7d1a5c2",
   "metadata": {},
   "outputs": [
    {
     "name": "stdout",
     "output_type": "stream",
     "text": [
      "{'name': 'Julie', 'age': '26', 'courses': ['Math', 'Physics'], 'Semester': '8', 'phone': '555-5555'}\n"
     ]
    }
   ],
   "source": [
    "student.update({'name': 'Julie', 'age': '26', 'phone': '555-5555'})\n",
    "print(student)"
   ]
  },
  {
   "cell_type": "markdown",
   "id": "9986df60",
   "metadata": {},
   "source": [
    "We can delete a key by using the command \"del\" that means delete something:"
   ]
  },
  {
   "cell_type": "code",
   "execution_count": 20,
   "id": "8d0bc40d",
   "metadata": {},
   "outputs": [
    {
     "name": "stdout",
     "output_type": "stream",
     "text": [
      "{'name': 'Julie', 'age': '26', 'courses': ['Math', 'Physics'], 'phone': '555-5555'}\n"
     ]
    }
   ],
   "source": [
    "del student['Semester']\n",
    "print(student)"
   ]
  },
  {
   "cell_type": "markdown",
   "id": "93f9b4a6",
   "metadata": {},
   "source": [
    "If we decide to remove a key but save the value, we can use the function pop as follow:"
   ]
  },
  {
   "cell_type": "code",
   "execution_count": 21,
   "id": "c5c72b08",
   "metadata": {},
   "outputs": [
    {
     "name": "stdout",
     "output_type": "stream",
     "text": [
      "{'name': 'Julie', 'courses': ['Math', 'Physics'], 'phone': '555-5555'}\n",
      "26\n"
     ]
    }
   ],
   "source": [
    "age = student.pop('age')\n",
    "print(student)\n",
    "print(age)"
   ]
  },
  {
   "cell_type": "code",
   "execution_count": 23,
   "id": "85e6ed96",
   "metadata": {},
   "outputs": [
    {
     "name": "stdout",
     "output_type": "stream",
     "text": [
      "dict_keys(['name', 'courses', 'phone'])\n",
      "dict_values(['Julie', ['Math', 'Physics'], '555-5555'])\n",
      "dict_items([('name', 'Julie'), ('courses', ['Math', 'Physics']), ('phone', '555-5555')])\n"
     ]
    }
   ],
   "source": [
    "print(student.keys())\n",
    "print(student.values())\n",
    "print(student.items())"
   ]
  },
  {
   "cell_type": "code",
   "execution_count": 24,
   "id": "7e5ac2c0",
   "metadata": {},
   "outputs": [
    {
     "name": "stdout",
     "output_type": "stream",
     "text": [
      "name\n",
      "courses\n",
      "phone\n"
     ]
    }
   ],
   "source": [
    "for key in student:\n",
    "    print(key)"
   ]
  },
  {
   "cell_type": "code",
   "execution_count": 26,
   "id": "80852ff8",
   "metadata": {},
   "outputs": [
    {
     "name": "stdout",
     "output_type": "stream",
     "text": [
      "name Julie\n",
      "courses ['Math', 'Physics']\n",
      "phone 555-5555\n"
     ]
    }
   ],
   "source": [
    "for key, value in student.items():\n",
    "    print(key, value)"
   ]
  },
  {
   "cell_type": "code",
   "execution_count": null,
   "id": "2fe29e6a",
   "metadata": {},
   "outputs": [],
   "source": []
  }
 ],
 "metadata": {
  "kernelspec": {
   "display_name": "Python 3",
   "language": "python",
   "name": "python3"
  },
  "language_info": {
   "codemirror_mode": {
    "name": "ipython",
    "version": 3
   },
   "file_extension": ".py",
   "mimetype": "text/x-python",
   "name": "python",
   "nbconvert_exporter": "python",
   "pygments_lexer": "ipython3",
   "version": "3.9.6"
  }
 },
 "nbformat": 4,
 "nbformat_minor": 5
}
