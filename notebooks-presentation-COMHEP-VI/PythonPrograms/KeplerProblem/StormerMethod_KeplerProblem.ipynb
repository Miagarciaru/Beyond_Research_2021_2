{
 "cells": [
  {
   "cell_type": "code",
   "execution_count": 1,
   "id": "344773d9",
   "metadata": {},
   "outputs": [],
   "source": [
    "import numpy as np # for numerical calculations such as histogramming\n",
    "import matplotlib.pyplot as plt# for plotting"
   ]
  },
  {
   "cell_type": "code",
   "execution_count": 2,
   "id": "61a4050b",
   "metadata": {},
   "outputs": [],
   "source": [
    "N = 2 # Dimensions\n",
    "h = 0.0005\n",
    "e = 0.6\n",
    "PI = np.pi"
   ]
  },
  {
   "cell_type": "code",
   "execution_count": 3,
   "id": "6255b7ec",
   "metadata": {},
   "outputs": [],
   "source": [
    "def function (t, q, ii):\n",
    "    f = -q[ii]/np.power(q[0]*q[0] + q[1]*q[1], 1.5)\n",
    "    return f"
   ]
  },
  {
   "cell_type": "code",
   "execution_count": 4,
   "id": "f8ce5ab7",
   "metadata": {},
   "outputs": [],
   "source": [
    "def Stormer (t, h, q, p):\n",
    "    pm = [0]*N\n",
    "    ii = 0\n",
    "    # p(n+1/2) = p(n) + h/2*f(q(n))\n",
    "    for ii in range (0, N):\n",
    "        pm[ii] = p[ii] + (h/2.0)*function(t, q, ii)\n",
    "    \n",
    "    jj = 0\n",
    "    # q(n+1) = q(n) + h*p(n+1/2)\n",
    "    for jj in range (0, N):\n",
    "        q[jj] = q[jj] + h*pm[jj]\n",
    "        \n",
    "    kk = 0\n",
    "    # p(n+1) = p(n+1/2) + h/2*f(q(n+1))\n",
    "    for kk in range (0, N):\n",
    "        p[kk] = pm[kk] + (h/2.0)*function(t, q, kk)"
   ]
  },
  {
   "cell_type": "code",
   "execution_count": 5,
   "id": "3947f08b",
   "metadata": {},
   "outputs": [],
   "source": [
    "q = [1.0-e, 0]\n",
    "p = [0, np.sqrt((1.0 + e)/(1.0 - e))]\n",
    "\n",
    "x = []\n",
    "y = []\n",
    "\n",
    "t = 0\n",
    "while t <= 200*PI:\n",
    "    # Energía Total\n",
    "    H = (1.0/2.0)*(p[0]*p[0] + p[1]*p[1]) - 1.0/np.sqrt(q[0]*q[0] + q[1]*q[1])\n",
    "    # Momento Angular\n",
    "    L = q[0]*p[1] - q[1]*p[0]\n",
    "    #print(q[0], q[1], H, L)\n",
    "    x.append(q[0])\n",
    "    y.append(q[1])\n",
    "    Stormer(t, h, q, p)\n",
    "    t += h"
   ]
  },
  {
   "cell_type": "code",
   "execution_count": 6,
   "id": "b0c1c1bc",
   "metadata": {},
   "outputs": [
    {
     "data": {
      "text/plain": [
       "<matplotlib.legend.Legend at 0x7f71f2a3b2e0>"
      ]
     },
     "execution_count": 6,
     "metadata": {},
     "output_type": "execute_result"
    },
    {
     "data": {
      "image/png": "[encoded data removed]",
      "text/plain": [
       "<Figure size 432x288 with 1 Axes>"
      ]
     },
     "metadata": {
      "needs_background": "light"
     },
     "output_type": "display_data"
    }
   ],
   "source": [
    "plt.plot(x, y, label = 'Trajectory')\n",
    "plt.xlabel('q_[0]')\n",
    "plt.ylabel('q_[1]')\n",
    "plt.title(\"Stormer Method\")\n",
    "plt.legend()"
   ]
  }
 ],
 "metadata": {
  "kernelspec": {
   "display_name": "Python 3",
   "language": "python",
   "name": "python3"
  },
  "language_info": {
   "codemirror_mode": {
    "name": "ipython",
    "version": 3
   },
   "file_extension": ".py",
   "mimetype": "text/x-python",
   "name": "python",
   "nbconvert_exporter": "python",
   "pygments_lexer": "ipython3",
   "version": "3.9.6"
  }
 },
 "nbformat": 4,
 "nbformat_minor": 5
}
