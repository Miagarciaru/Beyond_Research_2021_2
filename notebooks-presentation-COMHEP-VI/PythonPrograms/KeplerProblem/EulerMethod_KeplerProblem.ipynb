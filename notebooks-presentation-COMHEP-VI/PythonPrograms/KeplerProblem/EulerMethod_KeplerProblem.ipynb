{
 "cells": [
  {
   "cell_type": "code",
   "execution_count": 1,
   "id": "ebc57af9",
   "metadata": {},
   "outputs": [],
   "source": [
    "import numpy as np # for numerical calculations such as histogramming\n",
    "import matplotlib.pyplot as plt# for plotting"
   ]
  },
  {
   "cell_type": "code",
   "execution_count": 2,
   "id": "c4333b4d",
   "metadata": {},
   "outputs": [],
   "source": [
    "N = 2 # Dimensions\n",
    "h = 0.0005\n",
    "e = 0.6\n",
    "PI = np.pi"
   ]
  },
  {
   "cell_type": "code",
   "execution_count": 3,
   "id": "99778693",
   "metadata": {},
   "outputs": [],
   "source": [
    "def function (t, q, ii):\n",
    "    f = -q[ii]/np.power(q[0]*q[0] + q[1]*q[1], 1.5)\n",
    "    return f"
   ]
  },
  {
   "cell_type": "code",
   "execution_count": 4,
   "id": "abd63868",
   "metadata": {},
   "outputs": [],
   "source": [
    "def Euler (t, h, q, p):\n",
    "    qn = [0]*N\n",
    "    pn = [0]*N\n",
    "    ii = 0\n",
    "    # q(n+1) = q(n) + h*p(n)\n",
    "    for ii in range (0, N):\n",
    "        qn[ii] = q[ii] + h*p[ii]\n",
    "\n",
    "    jj = 0\n",
    "    # p(n+1) = p(n) + h*f(t(n), q(n))\n",
    "    for jj in range (0, N):\n",
    "        pn[ii] = p[ii] + h*function(t, q, jj)\n",
    "    \n",
    "    kk = 0\n",
    "    # Actualización nuevos valores\n",
    "    for kk in range (0, N):\n",
    "        q[kk] = qn[kk]\n",
    "        p[kk] = pn[kk]\n",
    "        \n",
    "  for (ii = 0; ii < N; ++ii) {\n",
    "    pn[ii] = p[ii] + h*f(t, q, ii);\n",
    "  }\n",
    "  // Actualización nuevos valores\n",
    "  for (ii = 0; ii < N; ++ii) {\n",
    "    q[ii] = qn[ii];\n",
    "    p[ii] = pn[ii];\n",
    "  }\n",
    "}        "
   ]
  },
  {
   "cell_type": "code",
   "execution_count": 8,
   "id": "bbfd1a14",
   "metadata": {},
   "outputs": [],
   "source": [
    "q = [1.0-e, 0]\n",
    "p = [0, np.sqrt((1.0 + e)/(1.0 - e))]\n",
    "\n",
    "x = []\n",
    "y = []\n",
    "\n",
    "t = 0\n",
    "while t <= 20*PI:\n",
    "    # Energía Total\n",
    "    H = (1.0/2.0)*(p[0]*p[0] + p[1]*p[1]) - 1.0/np.sqrt(q[0]*q[0] + q[1]*q[1])\n",
    "    # Momento Angular\n",
    "    L = q[0]*p[1] - q[1]*p[0]\n",
    "    #print(q[0], q[1], H, L)\n",
    "    x.append(q[0])\n",
    "    y.append(q[1])\n",
    "    Euler(t, h, q, p)\n",
    "    t += h"
   ]
  },
  {
   "cell_type": "code",
   "execution_count": 14,
   "id": "1c4808d6",
   "metadata": {},
   "outputs": [
    {
     "data": {
      "text/plain": [
       "<matplotlib.legend.Legend at 0x7f06a455bf10>"
      ]
     },
     "execution_count": 14,
     "metadata": {},
     "output_type": "execute_result"
    },
    {
     "data": {
      "image/png": "[encoded data removed]",
      "text/plain": [
       "<Figure size 432x288 with 1 Axes>"
      ]
     },
     "metadata": {
      "needs_background": "light"
     },
     "output_type": "display_data"
    }
   ],
   "source": [
    "plt.plot(x, y, label = 'Trajectory')\n",
    "plt.xlabel('q_[0]')\n",
    "plt.ylabel('q_[1]')\n",
    "plt.title(\"Euler Method\")\n",
    "plt.legend()"
   ]
  },
  {
   "cell_type": "code",
   "execution_count": null,
   "id": "4f688a02",
   "metadata": {},
   "outputs": [],
   "source": []
  }
 ],
 "metadata": {
  "kernelspec": {
   "display_name": "Python 3",
   "language": "python",
   "name": "python3"
  },
  "language_info": {
   "codemirror_mode": {
    "name": "ipython",
    "version": 3
   },
   "file_extension": ".py",
   "mimetype": "text/x-python",
   "name": "python",
   "nbconvert_exporter": "python",
   "pygments_lexer": "ipython3",
   "version": "3.9.6"
  }
 },
 "nbformat": 4,
 "nbformat_minor": 5
}
