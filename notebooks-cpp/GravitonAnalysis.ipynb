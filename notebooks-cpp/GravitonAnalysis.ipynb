{
 "cells": [
  {
   "cell_type": "markdown",
   "id": "41e78bec",
   "metadata": {},
   "source": [
    "<CENTER>\n",
    "    <a href=\"http://opendata.atlas.cern/release/2020/documentation/notebooks/intro.html\" class=\"icons\"><img src=\"../images/ATLASOD.gif\" style=\"width:40%\"></a>\n",
    "</CENTER>"
   ]
  },
  {
   "cell_type": "markdown",
   "id": "570ef60b",
   "metadata": {},
   "source": [
    "# Searching the Graviton"
   ]
  },
  {
   "cell_type": "markdown",
   "id": "d22dcb31",
   "metadata": {},
   "source": [
    "This notebook provides the analysis of the Graviton decaying into two Z bosons. This analysis implement two main cuts, which are applied in the lepton type and lepton charge of the four leptons in the final state. At the end of this analysis, you will be able to get a normalized plot with the mass of the four lepton system, being able to compare data and MC sample. Here you can find many tools to preform the desired selection of events, how to declarate histograms, variables, read ROOT files and so on. "
   ]
  },
  {
   "cell_type": "markdown",
   "id": "ae04e458",
   "metadata": {},
   "source": [
    "Our analysis requires that the final state contains 4 leptons, which can be put in pairs with opposite charges and same flavours. That means we will expect two pairs of electrons, muons or one pair of electrons and one pair of muons such as the Feynman Diagram shows below: "
   ]
  },
  {
   "cell_type": "markdown",
   "id": "8f63bf7b",
   "metadata": {},
   "source": [
    "$G \\rightarrow ZZ \\rightarrow e^{+} e^{-} e^{+} e^{-}$ | $G \\rightarrow ZZ \\rightarrow \\mu^{+} \\mu^{-} \\mu^{+} \\mu^{-}$ |$G \\rightarrow ZZ \\rightarrow e^{+} e^{-} \\mu^{+} \\mu^{-}$\n",
    ":-------------------------:|:-------------------------:|:-------------------------:\n",
    "![Gravitational Lensing Diagram](images/Dark_Matter/GravLensingCaltech.png)  |  ![Gravitational Lensing Photo](images/Dark_Matter/A_Horseshoe_Einstein_Ring_from_Hubble.png) |  ![Gravitational Lensing Photo](images/Dark_Matter/A_Horseshoe_Einstein_Ring_from_Hubble.png)"
   ]
  },
  {
   "cell_type": "markdown",
   "id": "461e2bf3",
   "metadata": {},
   "source": [
    "The first step is to load some basic libraries of c++:"
   ]
  },
  {
   "cell_type": "code",
   "execution_count": 1,
   "id": "3f2a3db7",
   "metadata": {},
   "outputs": [],
   "source": [
    "#include <TChain.h>\n",
    "#include <vector>\n",
    "#include <TFile.h>\n",
    "#include <iostream>\n",
    "#include <string>\n",
    "#include <stdio.h>\n",
    "#include <fstream>"
   ]
  },
  {
   "cell_type": "markdown",
   "id": "b7c6f570",
   "metadata": {},
   "source": [
    "The data we want to use to perform our analysis can be found in [folder 4 lep](https://atlas-opendata.web.cern.ch/atlas-opendata/samples/2020/4lep/). Here you will see the data and MC samples that corresponds to 4 leptons in the final state. We also define a variable named lumi, which represents the luminosity and it is equal to 10 $fb^{-1}$. If we want to run the analyisis over a fraction of the whole data and MC samples, we can define another variable named fraction, which will be defined equal to 1.0 as default. However, you can change this fraction value and see how this can affect the final result shown in the final plot:"
   ]
  },
  {
   "cell_type": "code",
   "execution_count": 1,
   "id": "63c73102",
   "metadata": {},
   "outputs": [],
   "source": [
    "float lumi = 10.;\n",
    "float fraction = 1.0;\n",
    "TString path = \"https://atlas-opendata.web.cern.ch/atlas-opendata/samples/2020/4lep/\";  "
   ]
  },
  {
   "cell_type": "markdown",
   "id": "e48442c5",
   "metadata": {},
   "source": [
    "Next, we define some chains which will be representing the main groups of background and the data in our analysis. These chains will contain the information storaged in the trees named \"mini\" in each ROOT file. Basically, there is a main group of backgrounds that we have to take into account:\n",
    "\n",
    "* z_ttbar: This background contains the Z going to ee, mumu and the ttbar decaying in the leptonic channel MC samples.\n",
    "* ttbar_v: This background contains the ttbar decaying into W bosons, ee and mumu MC samples.  \n",
    "* zz: This background contains the diboson ZZ decaying into 4 leptons.\n",
    "* graviton_signal: This contains the signal we want to search.\n",
    "\n",
    "In the following code lines you will see how to add ROOT files to a TChain and also, you will see the number of entries in each chain of samples."
   ]
  },
  {
   "cell_type": "code",
   "execution_count": 4,
   "id": "3beb6f86",
   "metadata": {},
   "outputs": [
    {
     "name": "stdout",
     "output_type": "stream",
     "text": [
      "832\n"
     ]
    }
   ],
   "source": [
    "TChain *data_chain = new TChain(\"mini\");\n",
    "\n",
    "data_chain->AddFile(path+\"Data/data_A.4lep.root\");\n",
    "data_chain->AddFile(path+\"Data/data_B.4lep.root\");\n",
    "data_chain->AddFile(path+\"Data/data_C.4lep.root\");\n",
    "data_chain->AddFile(path+\"Data/data_D.4lep.root\");\n",
    "\n",
    "int data_entries = (Int_t)data_chain->GetEntries();\n",
    "cout << data_entries << endl;"
   ]
  },
  {
   "cell_type": "code",
   "execution_count": 5,
   "id": "d9140ed2",
   "metadata": {},
   "outputs": [
    {
     "name": "stdout",
     "output_type": "stream",
     "text": [
      "2613\n"
     ]
    }
   ],
   "source": [
    "TChain *z_ttbar_chain = new TChain(\"mini\");\n",
    "\n",
    "z_ttbar_chain->AddFile(path+\"MC/mc_361106.Zee.4lep.root\"); //898 entries\n",
    "z_ttbar_chain->AddFile(path+\"MC/mc_361107.Zmumu.4lep.root\"); //684 entries\n",
    "z_ttbar_chain->AddFile(path+\"MC/mc_410000.ttbar_lep.4lep.root\"); //1031 entries\n",
    "\n",
    "int z_ttbar_entries = (Int_t)z_ttbar_chain->GetEntries();\n",
    "cout << z_ttbar_entries << endl;"
   ]
  },
  {
   "cell_type": "code",
   "execution_count": 6,
   "id": "115a000d",
   "metadata": {},
   "outputs": [
    {
     "name": "stdout",
     "output_type": "stream",
     "text": [
      "60104\n"
     ]
    }
   ],
   "source": [
    "TChain *ttbar_v_chain = new TChain(\"mini\");\n",
    "\n",
    "ttbar_v_chain->AddFile(path+\"MC/mc_410155.ttW.4lep.root\"); // 1373 entries\n",
    "ttbar_v_chain->AddFile(path+\"MC/mc_410218.ttee.4lep.root\"); // 32092 entries\n",
    "ttbar_v_chain->AddFile(path+\"MC/mc_410219.ttmumu.4lep.root\"); // 26639\n",
    "\n",
    "int ttbar_v_entries = (Int_t)ttbar_v_chain->GetEntries();\n",
    "cout << ttbar_v_entries << endl;"
   ]
  },
  {
   "cell_type": "code",
   "execution_count": 7,
   "id": "b5322c09",
   "metadata": {},
   "outputs": [
    {
     "name": "stdout",
     "output_type": "stream",
     "text": [
      "554279\n"
     ]
    }
   ],
   "source": [
    "TChain *zz_chain = new TChain(\"mini\");\n",
    "\n",
    "zz_chain->AddFile(path+\"MC/mc_363490.llll.4lep.root\"); // 554279 entries\n",
    "\n",
    "int zz_entries = (Int_t)zz_chain->GetEntries();\n",
    "cout << zz_entries << endl;"
   ]
  },
  {
   "cell_type": "code",
   "execution_count": 8,
   "id": "37f37030",
   "metadata": {},
   "outputs": [
    {
     "name": "stdout",
     "output_type": "stream",
     "text": [
      "6496\n"
     ]
    }
   ],
   "source": [
    "TChain *graviton_chain = new TChain(\"mini\");\n",
    "\n",
    "graviton_chain->AddFile(path+\"MC/mc_307434.RS_G_ZZ_llll_c10_m0500.4lep.root\"); // 6496 entries\n",
    "\n",
    "int graviton_entries = (Int_t)graviton_chain->GetEntries();\n",
    "cout << graviton_entries << endl;"
   ]
  },
  {
   "cell_type": "markdown",
   "id": "7688bd7a",
   "metadata": {},
   "source": [
    "In order to save the information storaged in the ROOT files, we define all variables we are going to use in the next code line:"
   ]
  },
  {
   "cell_type": "code",
   "execution_count": 9,
   "id": "1a4669d0",
   "metadata": {},
   "outputs": [],
   "source": [
    "Float_t         mcWeight;\n",
    "Float_t         scaleFactor_PILEUP;\n",
    "Float_t         scaleFactor_ELE;\n",
    "Float_t         scaleFactor_MUON;\n",
    "Float_t         scaleFactor_LepTRIGGER;\n",
    "Bool_t          trigE;\n",
    "Bool_t          trigM;\n",
    "UInt_t          lep_n;\n",
    "vector<float>   *lep_pt;\n",
    "vector<float>   *lep_eta;\n",
    "vector<float>   *lep_phi;\n",
    "vector<float>   *lep_E;\n",
    "vector<float>   *lep_z0;\n",
    "vector<int>     *lep_charge;\n",
    "vector<unsigned int> *lep_type;\n",
    "vector<bool>    *lep_isTightID;\n",
    "vector<float>   *lep_ptcone30;\n",
    "vector<float>   *lep_etcone20;\n",
    "vector<float>   *lep_trackd0pvunbiased;\n",
    "vector<float>   *lep_tracksigd0pvunbiased;\n",
    "Float_t         met_et;\n",
    "Float_t         met_phi;\n",
    "UInt_t          jet_n;\n",
    "vector<float>   *jet_pt;\n",
    "vector<float>   *jet_eta;\n",
    "vector<float>   *jet_phi;\n",
    "vector<float>   *jet_E;\n",
    "vector<float>   *jet_jvt;\n",
    "vector<float>   *jet_MV2c10;"
   ]
  },
  {
   "cell_type": "markdown",
   "id": "07420669",
   "metadata": {},
   "source": [
    "For all chains we use, we have to rewrite the variables defined previously, so we create a function that receive the name of the chain. This function rewrites the variables we previously defined above."
   ]
  },
  {
   "cell_type": "code",
   "execution_count": 10,
   "id": "41a8830e",
   "metadata": {},
   "outputs": [],
   "source": [
    "void set_branch_address(TString name_sample)\n",
    "{\n",
    "    TChain *name_chain = new TChain();\n",
    "    if(name_sample == \"data\"){\n",
    "        name_chain = data_chain;\n",
    "    }\n",
    "    if(name_sample == \"z_ttbar\"){\n",
    "        name_chain = z_ttbar_chain;\n",
    "    }\n",
    "    if(name_sample == \"ttbar_v\"){\n",
    "        name_chain = ttbar_v_chain;\n",
    "    }    \n",
    "    if(name_sample == \"zz\"){\n",
    "        name_chain = zz_chain;\n",
    "    }    \n",
    "    if(name_sample == \"graviton\"){\n",
    "        name_chain = graviton_chain;\n",
    "    }\n",
    "    \n",
    "    name_chain->SetBranchAddress(\"trigE\", &trigE); \n",
    "    name_chain->SetBranchAddress(\"trigM\", &trigM); \n",
    "    name_chain->SetBranchAddress(\"lep_isTightID\", &lep_isTightID); \n",
    "    name_chain->SetBranchAddress(\"lep_pt\", &lep_pt); \n",
    "    name_chain->SetBranchAddress(\"lep_eta\", &lep_eta); \n",
    "    name_chain->SetBranchAddress(\"lep_phi\", &lep_phi); \n",
    "    name_chain->SetBranchAddress(\"lep_E\", &lep_E); \n",
    "    name_chain->SetBranchAddress(\"lep_n\", &lep_n); \n",
    "    name_chain->SetBranchAddress(\"lep_type\", &lep_type); \n",
    "    name_chain->SetBranchAddress(\"lep_ptcone30\", &lep_ptcone30); \n",
    "    name_chain->SetBranchAddress(\"lep_etcone20\", &lep_etcone20);\n",
    "    name_chain->SetBranchAddress(\"lep_trackd0pvunbiased\", &lep_trackd0pvunbiased); \n",
    "    name_chain->SetBranchAddress(\"lep_tracksigd0pvunbiased\", &lep_tracksigd0pvunbiased); \n",
    "    name_chain->SetBranchAddress(\"lep_z0\", &lep_z0); \n",
    "    name_chain->SetBranchAddress(\"lep_type\", &lep_type); \n",
    "    name_chain->SetBranchAddress(\"lep_charge\", &lep_charge); \n",
    "    name_chain->SetBranchAddress(\"met_et\", &met_et); \n",
    "    name_chain->SetBranchAddress(\"jet_n\", &jet_n);\n",
    "    name_chain->SetBranchAddress(\"jet_pt\", &jet_pt); \n",
    "    name_chain->SetBranchAddress(\"jet_eta\", &jet_eta);\n",
    "    name_chain->SetBranchAddress(\"jet_jvt\", &jet_jvt); \n",
    "    name_chain->SetBranchAddress(\"jet_MV2c10\", &jet_MV2c10); \n",
    "    \n",
    "    name_chain->SetBranchAddress(\"mcWeight\", &mcWeight); \n",
    "    name_chain->SetBranchAddress(\"scaleFactor_PILEUP\", &scaleFactor_PILEUP); \n",
    "    name_chain->SetBranchAddress(\"scaleFactor_ELE\", &scaleFactor_ELE); \n",
    "    name_chain->SetBranchAddress(\"scaleFactor_MUON\", &scaleFactor_MUON); \n",
    "    name_chain->SetBranchAddress(\"scaleFactor_LepTRIGGER\", &scaleFactor_LepTRIGGER); \n",
    "    \n",
    "}"
   ]
  },
  {
   "cell_type": "markdown",
   "id": "944f6e99",
   "metadata": {},
   "source": [
    "We can start by defining the histograms we are going to fill with the mass of the four lepton system for data and MC samples."
   ]
  },
  {
   "cell_type": "code",
   "execution_count": 11,
   "id": "f0d7685f",
   "metadata": {},
   "outputs": [],
   "source": [
    "//data samples\n",
    "TH1F *data_hist_mllll = new TH1F(\"data_hist_m4l\", \"Normalized Mass of four lepton system; m_{4l} [GeV];Events\", 30, 130, 1230);\n",
    "\n",
    "//mc samples\n",
    "TH1F *mc_hist_mllll = new TH1F(\"mc_hist_m4l\", \"Normalized Mass of four lepton system; m_{4l} [GeV];Events\", 30, 130, 1230);"
   ]
  },
  {
   "cell_type": "markdown",
   "id": "079bf466",
   "metadata": {},
   "source": [
    "Now, we define a function named \"fill histograms\", which will fill the invariant mass of the four lepton system depending on the name of the chain in order to separate Data and MC histograms."
   ]
  },
  {
   "cell_type": "code",
   "execution_count": 12,
   "id": "6a882e1a",
   "metadata": {},
   "outputs": [],
   "source": [
    "void fill_histograms(TString name_sample, float weight, float mllll)\n",
    "{\n",
    "    if(name_sample == \"data\"){\n",
    "        data_hist_mllll->Fill(mllll, weight);\n",
    "    }\n",
    "    if(name_sample == \"z_ttbar\"){\n",
    "        z_ttbar_hist_mllll->Fill(mllll, weight);\n",
    "        mc_hist_mllll->Fill(mllll, weight);\n",
    "    }\n",
    "    if(name_sample == \"ttbar_v\"){\n",
    "        ttbar_v_hist_mllll->Fill(mllll, weight);\n",
    "        mc_hist_mllll->Fill(mllll, weight);\n",
    "    }\n",
    "    if(name_sample == \"zz\"){\n",
    "        zz_hist_mllll->Fill(mllll, weight);\n",
    "        mc_hist_mllll->Fill(mllll, weight);\n",
    "    }   \n",
    "    if(name_sample == \"graviton\")\n",
    "    {\n",
    "        graviton_hist_mllll->Fill(mllll, weight);\n",
    "        mc_hist_mllll->Fill(mllll, weight);\n",
    "    }\n",
    "}"
   ]
  },
  {
   "cell_type": "markdown",
   "id": "90ef62a2",
   "metadata": {},
   "source": [
    "Now, we define a function that computes the factor weight due to the information in the samples.txt file. Altough this proccess was done manually, you could edit it in order to read information for the sample.txt automatically by using the library fstream. We didn't use it in order to save time for the analysis. If you need to add samples, you will have to look for their information in the samples.txt file."
   ]
  },
  {
   "cell_type": "code",
   "execution_count": 13,
   "id": "4da9d035",
   "metadata": {},
   "outputs": [],
   "source": [
    "void get_xsec_weight(vector<float> &xsec_weight)\n",
    "{\n",
    "    // sample - xsec - red_eff - sumw - nevt; look for the sample.txt if you add a sample to the analysis\n",
    "    float xsec=0, red_eff=0, sumw=0; \n",
    "        \n",
    "    //z_ttbar\n",
    "         \n",
    "    //Zee\t\t1950.5295\t\t1\t\t150277594200\t\t79045597\n",
    "    xsec=1950.5295, red_eff=1.0, sumw=150277594200;\n",
    "    xsec_weight[0] = xsec/(red_eff*sumw);\n",
    "\n",
    "    //Zmumu\t\t1950.6321\t\t1\t\t147334691090\t\t77497800\n",
    "    xsec=1950.6321, red_eff=1.0, sumw=147334691090;\n",
    "    xsec_weight[1] = xsec/(red_eff*sumw);\n",
    "        \n",
    "    //ttbar_lep\t\t452.693559\t\t1\t\t49386600\t\t49386600\n",
    "    xsec=452.693559, red_eff=1.0, sumw=49386600;\n",
    "    xsec_weight[2] = xsec/(red_eff*sumw);\n",
    " \n",
    "    //ttbar_v\n",
    "    \n",
    "    //ttW\t\t0.60084912\t\t1\t\t4075279.75386\t\tNone\n",
    "    xsec=0.60084912, red_eff=1.0, sumw=4075279.75386;\n",
    "    xsec_weight[3] = xsec/(red_eff*sumw);\n",
    "        \n",
    "    //ttee\t\t0.0412888\t\t1\t\t51968.9384584\t\tNone\n",
    "    xsec=0.0412888, red_eff=1.0, sumw=51968.9384584;\n",
    "    xsec_weight[4] = xsec/(red_eff*sumw);\n",
    "    \n",
    "    //ttmumu\t\t0.04129216\t\t1\t\t52007.5311319\t\tNone\n",
    "    xsec=0.04129216, red_eff=1.0, sumw=52007.5311319;\n",
    "    xsec_weight[5] = xsec/(red_eff*sumw);\n",
    "        \n",
    "    //zz\n",
    "    \n",
    "    //llll\t\t1.2578\t\t1\t\t7538705.8077\t\t17825300\n",
    "    xsec=1.2578, red_eff=1.0, sumw=7538705.8077;\n",
    "    xsec_weight[6] = xsec/(red_eff*sumw);\n",
    "        \n",
    "    //graviton\n",
    "    \n",
    "    //RS_G_ZZ_llll_c10_m0500\t\t0.02373\t\t1\t\t27000\t\t27000\n",
    "    xsec=0.02373, red_eff=1.0, sumw=27000;\n",
    "    xsec_weight[7] = xsec/(red_eff*sumw); \n",
    "}"
   ]
  },
  {
   "cell_type": "markdown",
   "id": "cf775d66",
   "metadata": {},
   "source": [
    "Now, we could "
   ]
  },
  {
   "cell_type": "code",
   "execution_count": 14,
   "id": "1a851e2c",
   "metadata": {},
   "outputs": [],
   "source": [
    "TString getfilename(TString name_chain, unsigned int ii)\n",
    "{\n",
    "    float nbytes = 0;\n",
    "    TString namefile;\n",
    "    \n",
    "    if(name_chain==\"z_ttbar\"){\n",
    "    \n",
    "        nbytes = z_ttbar_chain->GetEntry(ii);\n",
    "        TFile *file_sample = z_ttbar_chain->GetFile();\n",
    "        TTree *tree = (TTree*) file_sample->Get(\"mini\");\n",
    "        \n",
    "        if(tree->GetEntries()==898){\n",
    "            namefile = \"Zee\";\n",
    "            //cout << \"File Zee\" << endl;\n",
    "        }\n",
    "        if(tree->GetEntries()==684){\n",
    "            namefile = \"Zmumu\";\n",
    "            //cout << \"File Zmumu\" << endl;\n",
    "        }        \n",
    "        if(tree->GetEntries()==1031){\n",
    "            namefile = \"ttbar_lep\";\n",
    "            //cout << \"File ttbar lep\" << endl;\n",
    "        }\n",
    "    }\n",
    "    \n",
    "    if(name_chain==\"ttbar_v\"){\n",
    "        //weight = 1.0; // Make difference between data and MC\n",
    "        nbytes = ttbar_v_chain->GetEntry(ii);\n",
    "        TFile *file_sample = ttbar_v_chain->GetFile();\n",
    "        TTree *tree = (TTree*) file_sample->Get(\"mini\");\n",
    "        \n",
    "        if(tree->GetEntries()==1373){\n",
    "            namefile = \"ttW\";\n",
    "            //cout << \"File ttW\" << endl;\n",
    "        }\n",
    "        if(tree->GetEntries()==32092){\n",
    "            namefile = \"ttee\";\n",
    "            //cout << \"File ttee\" << endl;\n",
    "        }        \n",
    "        if(tree->GetEntries()==26639){\n",
    "            namefile = \"ttmumu\";\n",
    "            //cout << \"File ttmumu\" << endl;\n",
    "        }\n",
    "    }\n",
    "\n",
    "    if(name_chain==\"zz\"){\n",
    "        //weight = 1.0; // Make difference between data and MC\n",
    "        nbytes = zz_chain->GetEntry(ii);\n",
    "        TFile *file_sample = zz_chain->GetFile();\n",
    "        TTree *tree = (TTree*) file_sample->Get(\"mini\");\n",
    "        \n",
    "        if(tree->GetEntries()==554279){\n",
    "            namefile = \"llll\";\n",
    "            //cout << \"File llll\" << endl;\n",
    "        }\n",
    "    }\n",
    "    \n",
    "    if(name_chain==\"graviton\"){\n",
    "        //weight = 1.0; // Make difference between data and MC\n",
    "        nbytes = graviton_chain->GetEntry(ii);\n",
    "        TFile *file_sample = graviton_chain->GetFile();\n",
    "        TTree *tree = (TTree*) file_sample->Get(\"mini\");\n",
    "        \n",
    "        if(tree->GetEntries()==6496){\n",
    "            namefile = \"RS_G_ZZ_llll_c10_m0500\";\n",
    "            //cout << \"File RS_G_ZZ_llll_c10_m0500\" << endl;\n",
    "        }\n",
    "    }\n",
    "    \n",
    "    return namefile;\n",
    "}"
   ]
  },
  {
   "cell_type": "code",
   "execution_count": 15,
   "id": "dbfbdf5c",
   "metadata": {},
   "outputs": [],
   "source": [
    "float calc_weight(TString name_chain, unsigned int entry, float mcWeight, float scaleFactor_PILEUP, \n",
    "                  float scaleFactor_ELE, float scaleFactor_MUON, float scaleFactor_LepTRIGGER, vector<float> xsec_w)\n",
    "{\n",
    "    float SF = scaleFactor_PILEUP*scaleFactor_ELE*scaleFactor_MUON*scaleFactor_LepTRIGGER;\n",
    "    float weight = 0;\n",
    "    TString namefile = getfilename(name_chain, entry);\n",
    "    \n",
    "    if(name_chain==\"z_ttbar\"){ \n",
    "        if(namefile==\"Zee\"){ weight = xsec_w[0]*mcWeight*SF; } // Zee\n",
    "        if(namefile==\"Zmumu\"){ weight = xsec_w[1]*mcWeight*SF; } // Zmumu\n",
    "        if(namefile==\"ttbar_lep\"){ weight = xsec_w[2]*mcWeight*SF; } // ttbar lep\n",
    "    }\n",
    "\n",
    "    if(name_chain==\"ttbar_v\"){\n",
    "        if(namefile==\"ttW\"){ weight = xsec_w[3]*mcWeight*SF; } // ttW\n",
    "        if(namefile==\"ttee\"){ weight = xsec_w[4]*mcWeight*SF; } // ttee\n",
    "        if(namefile==\"ttmumu\"){ weight = xsec_w[5]*mcWeight*SF; } // ttmumu\n",
    "    }\n",
    "  \n",
    "    if(name_chain==\"zz\"){\n",
    "        if(namefile==\"llll\"){ weight = xsec_w[6]*mcWeight*SF; } // llll\n",
    "    }\n",
    "\n",
    "    if(name_chain==\"graviton\"){\n",
    "        if(namefile==\"RS_G_ZZ_llll_c10_m0500\"){ weight = xsec_w[7]*mcWeight*SF; } // RS_G_ZZ_llll_c10_m0500\n",
    "    } \n",
    "    \n",
    "    return weight;\n",
    "}"
   ]
  },
  {
   "cell_type": "code",
   "execution_count": 16,
   "id": "4406abef",
   "metadata": {},
   "outputs": [],
   "source": [
    "float calc_mllll(vector<float> lep_pt, vector<float> lep_eta, vector<float> lep_phi, vector<float>lep_E)\n",
    "{\n",
    "    float px_0 = lep_pt[0]*TMath::Cos(lep_phi[0]); // x-component of lep[0] momentum\n",
    "    float py_0 = lep_pt[0]*TMath::Sin(lep_phi[0]); // y-component of lep[0] momentum\n",
    "    float pz_0 = lep_pt[0]*TMath::SinH(lep_eta[0]); // z-component of lep[0] momentum\n",
    "    float px_1 = lep_pt[1]*TMath::Cos(lep_phi[1]); // x-component of lep[1] momentum\n",
    "    float py_1 = lep_pt[1]*TMath::Sin(lep_phi[1]); // y-component of lep[1] momentum\n",
    "    float pz_1 = lep_pt[1]*TMath::SinH(lep_eta[1]); // z-component of lep[1] momentum\n",
    "    float px_2 = lep_pt[2]*TMath::Cos(lep_phi[2]); // x-component of lep[2] momentum\n",
    "    float py_2 = lep_pt[2]*TMath::Sin(lep_phi[2]); // y-component of lep[2] momentum\n",
    "    float pz_2 = lep_pt[2]*TMath::SinH(lep_eta[2]); // z-component of lep[3] momentum\n",
    "    float px_3 = lep_pt[3]*TMath::Cos(lep_phi[3]); // x-component of lep[3] momentum\n",
    "    float py_3 = lep_pt[3]*TMath::Sin(lep_phi[3]); // y-component of lep[3] momentum\n",
    "    float pz_3 = lep_pt[3]*TMath::SinH(lep_eta[3]); // z-component of lep[3] momentum\n",
    "    float sumpx = px_0 + px_1 + px_2 + px_3; // x-component of 4-lepton momentum\n",
    "    float sumpy = py_0 + py_1 + py_2 + py_3; // y-component of 4-lepton momentum\n",
    "    float sumpz = pz_0 + pz_1 + pz_2 + pz_3; // z-component of 4-lepton momentum\n",
    "    float sumE = lep_E[0] + lep_E[1] + lep_E[2] + lep_E[3]; // energy of 4-lepton system\n",
    "    return TMath::Sqrt(sumE*sumE - sumpx*sumpx - sumpy*sumpy - sumpz*sumpz)/1000; // /1000 to go from MeV to GeV\n",
    "}"
   ]
  },
  {
   "cell_type": "code",
   "execution_count": 17,
   "id": "95b5d359",
   "metadata": {},
   "outputs": [],
   "source": [
    "// cut on lepton charge\n",
    "// paper: \"selecting two pairs of isolated leptons, each of which is comprised of two leptons with the same flavour and opposite charge\"\n",
    "bool cut_lep_charge(vector<int> lep_charge)\n",
    "{\n",
    "    // throw away when sum of lepton charges is not equal to 0\n",
    "    // first lepton is [0], 2nd lepton is [1] etc\n",
    "    if( lep_charge[0]+lep_charge[1]+lep_charge[2]+lep_charge[3]!=0 ){return false;}\n",
    "    return true;\n",
    "}"
   ]
  },
  {
   "cell_type": "code",
   "execution_count": 18,
   "id": "20a1a5ec",
   "metadata": {},
   "outputs": [],
   "source": [
    "// cut on lepton type\n",
    "// paper: \"selecting two pairs of isolated leptons, each of which is comprised of two leptons with the same flavour and opposite charge\"\n",
    "bool cut_lep_type(vector<unsigned int> lep_type)\n",
    "{\n",
    "    // for an electron lep_type is 11\n",
    "    // for a muon lep_type is 13\n",
    "    // throw away when none of eeee, mumumumu, eemumu\n",
    "    \n",
    "    float sum_lep_type = lep_type[0] + lep_type[1] + lep_type[2] + lep_type[3];\n",
    "    \n",
    "    if(sum_lep_type!=44 && sum_lep_type!=48 && sum_lep_type!=52){ return false;}\n",
    "    return true;\n",
    "}"
   ]
  },
  {
   "cell_type": "code",
   "execution_count": 19,
   "id": "d33def7f",
   "metadata": {},
   "outputs": [],
   "source": [
    "void analysis_of_samples(TString name_sample, vector<float> xsec_w)\n",
    "{\n",
    "    int nbytes = 0;\n",
    "    int pass = 0;\n",
    "    \n",
    "    set_branch_address(name_sample);\n",
    "    int nentries = 0;\n",
    "    TChain *new_chain = new TChain();\n",
    "    float weight = 0;\n",
    "    float fraction = 1.0;\n",
    "\n",
    "    if(name_sample == \"data\"){\n",
    "        new_chain = data_chain;\n",
    "        weight = 1.0;\n",
    "    }\n",
    "    if(name_sample == \"z_ttbar\"){\n",
    "        new_chain = z_ttbar_chain;\n",
    "    }\n",
    "    if(name_sample == \"ttbar_v\"){\n",
    "        new_chain = ttbar_v_chain;\n",
    "    }    \n",
    "    if(name_sample == \"zz\"){\n",
    "        new_chain = zz_chain;\n",
    "    }   \n",
    "    if(name_sample == \"graviton\"){\n",
    "        new_chain = graviton_chain;\n",
    "    }   \n",
    "    \n",
    "    nentries = (Int_t)new_chain->GetEntries();\n",
    "    cout << \"Processing: \"+name_sample << endl;\n",
    "\n",
    "    for(int ii=0; ii<nentries*fraction; ii++)\n",
    "    {\n",
    "        nbytes = new_chain->GetEntry(ii);\n",
    "        \n",
    "        if(name_sample!=\"data\"){\n",
    "            //Total weight\n",
    "            weight = calc_weight(name_sample, ii, mcWeight, scaleFactor_PILEUP, scaleFactor_ELE, scaleFactor_MUON, \n",
    "                             scaleFactor_LepTRIGGER, xsec_w);\n",
    "        }\n",
    "        \n",
    "        if(cut_lep_charge(*lep_charge)==false) continue;\n",
    "    \n",
    "        if(cut_lep_type(*lep_type)==false) continue;\n",
    "    \n",
    "        float mllll = 0;\n",
    "        mllll = calc_mllll(*lep_pt, *lep_eta, *lep_phi, *lep_E);  \n",
    "        \n",
    "        fill_histograms(name_sample, weight, mllll);\n",
    "\n",
    "        pass++;\n",
    "    }\n",
    "\n",
    "    cout << \"nInt: \" << nentries << \"\\t\" << \"nOut: \" << pass << endl;\n",
    "\n",
    "}"
   ]
  },
  {
   "cell_type": "code",
   "execution_count": 20,
   "id": "4c3d80fb",
   "metadata": {},
   "outputs": [],
   "source": [
    "void graviton_analysis()\n",
    "{\n",
    "    vector<float> xsec_w(8); // All elements are zero at the beginning\n",
    "    get_xsec_weight(xsec_w); // Compute the xsec from samples.txt\n",
    "    \n",
    "    vector<TString> name_chains = {\"data\", \"z_ttbar\", \"ttbar_v\", \"zz\", \"graviton\"};\n",
    "\n",
    "    for(int ii=0; ii<name_chains.size(); ii++){\n",
    "    analysis_of_samples(name_chains[ii], xsec_w);\n",
    "    }\n",
    "}"
   ]
  },
  {
   "cell_type": "code",
   "execution_count": 21,
   "id": "af629a2c",
   "metadata": {},
   "outputs": [
    {
     "name": "stdout",
     "output_type": "stream",
     "text": [
      "Processing: data\n",
      "nInt: 832\tnOut: 507\n",
      "Processing: z_ttbar\n",
      "nInt: 2613\tnOut: 834\n",
      "Processing: ttbar_v\n",
      "nInt: 60104\tnOut: 25102\n",
      "Processing: zz\n",
      "nInt: 554279\tnOut: 523957\n",
      "Processing: graviton\n",
      "nInt: 6496\tnOut: 6002\n"
     ]
    }
   ],
   "source": [
    "graviton_analysis();"
   ]
  },
  {
   "cell_type": "code",
   "execution_count": 22,
   "id": "0f326844",
   "metadata": {},
   "outputs": [],
   "source": [
    "//TCanvas *canvas = new TCanvas();"
   ]
  },
  {
   "cell_type": "code",
   "execution_count": 23,
   "id": "08143f0f",
   "metadata": {},
   "outputs": [],
   "source": [
    "void plot_histogram(TString name_hist)\n",
    "{\n",
    "    TCanvas *canvas = new TCanvas();\n",
    "    TH1F *data_name_hist = new TH1F();\n",
    "    TH1F *mc_name_hist = new TH1F();\n",
    "    \n",
    "    if(name_hist == \"mllll\"){\n",
    "        data_name_hist = data_hist_mllll;\n",
    "        mc_name_hist = mc_hist_mllll;\n",
    "    }\n",
    "\n",
    "    TLegend *leg = new TLegend(0.6, 0.7, 0.85, 0.8); // Declares a legend to the function fit and his position in canvas\n",
    "    data_name_hist->SetMarkerStyle(20);\n",
    "    data_name_hist->SetMarkerColor(kBlack);\n",
    "    data_name_hist->SetStats(0);\n",
    "    //mc_name_hist->SetFillStyle(3454);\n",
    "    mc_name_hist->SetFillColorAlpha(kBlue, 0.45);\n",
    "    mc_name_hist->SetLineColor(kBlue);\n",
    "    mc_name_hist->SetStats(0);\n",
    "    mc_name_hist->SetLineWidth(2);\n",
    "\n",
    "    data_name_hist->DrawNormalized(\"P\");\n",
    "    mc_name_hist->DrawNormalized(\"sameH\");\n",
    "\n",
    "    leg->AddEntry(data_name_hist, \"Data\", \"lep\");\n",
    "    leg->AddEntry(mc_name_hist, \"MC samples\", \"l\");\n",
    "    leg->SetBorderSize();\n",
    "    leg->Draw();\n",
    "    \n",
    "    TLatex l;\n",
    "    l.SetNDC();\n",
    "    l.SetTextFont(42);\n",
    "    l.SetTextColor(kBlack);\n",
    "    l.SetTextSize(0.04);  \n",
    "    l.DrawLatex(0.55,0.6,\"ATLAS Preliminary Open Data\");\n",
    "\n",
    "    TLatex o;\n",
    "    o.SetNDC();\n",
    "    o.SetTextFont(42);\n",
    "    o.SetTextColor(kBlack);\n",
    "    o.SetTextSize(0.03);\n",
    "    double dely = 0.04; \n",
    "    o.DrawLatex(0.55,0.6-dely, Form(\"#sqrt{s} = 13 TeV, 10 fb^{-1}\"));\n",
    "    o.DrawLatex(0.55,0.57-dely, Form(\"G #rightarrow Z Z^{*} #rightarrow l^{+} l^{-} l^{+} l^{-}\"));\n",
    "    \n",
    "    canvas->Draw();\n",
    "    canvas->Print(\"Graviton_mllll_DataMC.pdf\");\n",
    "}"
   ]
  },
  {
   "cell_type": "code",
   "execution_count": 24,
   "id": "a7e5e709",
   "metadata": {},
   "outputs": [
    {
     "data": {
      "image/png": "[encoded data removed]",
      "text/plain": [
       "<IPython.core.display.Image object>"
      ]
     },
     "metadata": {},
     "output_type": "display_data"
    },
    {
     "name": "stderr",
     "output_type": "stream",
     "text": [
      "Info in <TCanvas::Print>: pdf file Graviton_mllll_DataMC.pdf has been created\n"
     ]
    }
   ],
   "source": [
    "plot_histogram(\"mllll\");"
   ]
  },
  {
   "cell_type": "code",
   "execution_count": null,
   "id": "00858925",
   "metadata": {},
   "outputs": [],
   "source": []
  }
 ],
 "metadata": {
  "kernelspec": {
   "display_name": "ROOT C++",
   "language": "c++",
   "name": "root"
  },
  "language_info": {
   "codemirror_mode": "text/x-c++src",
   "file_extension": ".C",
   "mimetype": " text/x-c++src",
   "name": "c++"
  }
 },
 "nbformat": 4,
 "nbformat_minor": 5
}
