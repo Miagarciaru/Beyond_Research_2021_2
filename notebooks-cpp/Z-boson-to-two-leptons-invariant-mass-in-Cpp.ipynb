{
 "cells": [
  {
   "cell_type": "markdown",
   "id": "0778e1d0",
   "metadata": {},
   "source": [
    "<CENTER>\n",
    "    <a href=\"http://opendata.atlas.cern/release/2020/documentation/notebooks/intro.html\" class=\"icons\"><img src=\"../images/ATLASOD.gif\" style=\"width:40%\"></a>\n",
    "</CENTER>"
   ]
  },
  {
   "cell_type": "markdown",
   "id": "008f51d9",
   "metadata": {},
   "source": [
    "# <CENTER><h1> Reconstruction of invariant mass of Z boson decaying into two leptons </h1></CENTER>\n",
    "\n",
    "## C++ notebook example"
   ]
  },
  {
   "cell_type": "markdown",
   "id": "b4dc50b1",
   "metadata": {},
   "source": [
    "This notebook provides the analysis of Z boson decaying into two leptons. This analysis shows you how to use diferent tools to perform the analysis, such as:\n",
    "\n",
    "* TFile: It is useful to open and read ROOT files.\n",
    "* TTree: Used to create a tree with the information of each event \n",
    "* TH1F: This allows us to define our histograms.\n",
    "* TF1: We use it to create a function to fit our histogram.\n",
    "* TLegend: Which lets us put a legend to identify signal from background in the final plot.\n",
    "* TLatex: It is used to put Latex text in our plots.\n",
    "\n",
    "At the end of this analysis, you will be able to get a plot with the invariant mass of Z boson computed from the two lepton final system. This plot will show you the gaussian fit function on our histogram. Here you can find many tools to perform the desired selection of events, how to declarate histograms, variables, read ROOT files and so on."
   ]
  },
  {
   "cell_type": "markdown",
   "id": "6dc6b7b7",
   "metadata": {},
   "source": [
    "The first step is to load some basic libraries of c++:"
   ]
  },
  {
   "cell_type": "code",
   "execution_count": 1,
   "id": "ae251407",
   "metadata": {},
   "outputs": [],
   "source": [
    "#include <TChain.h>\n",
    "#include <vector>\n",
    "#include <TFile.h>\n",
    "#include <iostream>\n",
    "#include <string>\n",
    "#include <stdio.h>"
   ]
  },
  {
   "cell_type": "markdown",
   "id": "de1a8e6b",
   "metadata": {},
   "source": [
    "The data we want to use to perform our analysis can be found in [folder 1largeRjet1lep/MC](https://atlas-opendata.web.cern.ch/atlas-opendata/samples/2020/1largeRjet1lep/MC/) and the name of the root file that we are going to use is called \"mc_361106.Zee.1largeRjet1lep.root\". Due to we only will use one root file, we can use TFile instead of TChain to extract the information of the file mentioned above:"
   ]
  },
  {
   "cell_type": "code",
   "execution_count": 2,
   "id": "30f9c013",
   "metadata": {},
   "outputs": [],
   "source": [
    "TFile *file = TFile::Open(\"https://atlas-opendata.web.cern.ch/atlas-opendata/samples/2020/1largeRjet1lep/MC/mc_361106.Zee.1largeRjet1lep.root\");"
   ]
  },
  {
   "cell_type": "markdown",
   "id": "f9b65d46",
   "metadata": {},
   "source": [
    "Now, we can define a tree in which we are going to save the information of \"mini\" tree of the root file, and also create a variable called nentries that contains the total number of events stored in the root file:"
   ]
  },
  {
   "cell_type": "code",
   "execution_count": 3,
   "id": "75a899ce",
   "metadata": {},
   "outputs": [
    {
     "name": "stdout",
     "output_type": "stream",
     "text": [
      "53653\n"
     ]
    }
   ],
   "source": [
    "TTree *tree = (TTree*) file->Get(\"mini\");\n",
    "int nentries = tree->GetEntries();\n",
    "cout << nentries << endl;"
   ]
  },
  {
   "cell_type": "markdown",
   "id": "69681313",
   "metadata": {},
   "source": [
    "Once we have defined our tree, we can create different variables that we will use to perform the analysis. Some of these variables are integers or vectors that contains data of float type. The idea is to save the information of the events of each entry, which is contained in our tree, in the new variables we have just created:"
   ]
  },
  {
   "cell_type": "code",
   "execution_count": 4,
   "id": "dc425c9d",
   "metadata": {},
   "outputs": [],
   "source": [
    "UInt_t  lepton_n = -1;  //number of preselected leptons\n",
    "\n",
    "vector<float>   *lepton_charge;  \n",
    "vector<float>   *lepton_type;\n",
    "vector<float>   *lepton_pt = 0; //transverse momentum of the lepton\n",
    "vector<float>   *lepton_eta = 0; //pseudorapidity of the lepton\n",
    "vector<float>   *lepton_phi = 0;  //azimuthal angle of the lepton\n",
    "vector<float>   *lepton_E   = 0;  //energy of the lepton\n",
    "\n",
    "tree->SetBranchAddress(\"lep_n\",      &lepton_n);\n",
    "tree->SetBranchAddress(\"lep_charge\", &lepton_charge);\n",
    "tree->SetBranchAddress(\"lep_type\",   &lepton_type);\n",
    "tree->SetBranchAddress(\"lep_pt\",     &lepton_pt);\n",
    "tree->SetBranchAddress(\"lep_eta\",    &lepton_eta);\n",
    "tree->SetBranchAddress(\"lep_phi\",    &lepton_phi);\n",
    "tree->SetBranchAddress(\"lep_E\",    &lepton_E);"
   ]
  },
  {
   "cell_type": "markdown",
   "id": "2793dfa8",
   "metadata": {},
   "source": [
    "If we only want to use a fraction of all events, we can define a variable called \"fraction_events\" as follow:"
   ]
  },
  {
   "cell_type": "code",
   "execution_count": 5,
   "id": "ef389bb6",
   "metadata": {},
   "outputs": [
    {
     "name": "stdout",
     "output_type": "stream",
     "text": [
      "Total # events = 53653. Events to run = 53653 corresponding to 100% of total events!\n"
     ]
    }
   ],
   "source": [
    "float fraction_events = 1.0;\n",
    "float events_to_run = nentries*fraction_events;\n",
    "\n",
    "cout << \"Total # events = \"  << nentries\n",
    "     << \". Events to run = \" << events_to_run\n",
    "     << \" corresponding to \" << fraction_events*100\n",
    "     << \"% of total events!\" << endl;"
   ]
  },
  {
   "cell_type": "markdown",
   "id": "7f84ccdf",
   "metadata": {},
   "source": [
    "The main information of the two leptons will be stored into 2 TLorentzVector (pT, eta, phi and E of the lead and trail leptons):"
   ]
  },
  {
   "cell_type": "code",
   "execution_count": 6,
   "id": "54317460",
   "metadata": {},
   "outputs": [],
   "source": [
    "TLorentzVector leadLepton = TLorentzVector();\n",
    "TLorentzVector trailLepton = TLorentzVector();"
   ]
  },
  {
   "cell_type": "markdown",
   "id": "535ecb9a",
   "metadata": {},
   "source": [
    "Next, we define the canvas, which allows us to visualize the graphics, and the histogram in which we are going to save the invariant mass of each event: "
   ]
  },
  {
   "cell_type": "code",
   "execution_count": 7,
   "id": "62c253fd",
   "metadata": {},
   "outputs": [],
   "source": [
    "TCanvas *canvas = new TCanvas();\n",
    "TH1F *hist = new TH1F(\"variable\", \"Mass of the Z boson\", 30, 40, 140);"
   ]
  },
  {
   "cell_type": "markdown",
   "id": "e254916e",
   "metadata": {},
   "source": [
    "The next line of the code will make the corresponding analysis of the reconstruction of the invariant mass of Z boson. Some cuts will be implemented in order to get the events we want to consider. There will be three cuts: The first cut selects the events in which we can find at leats two leptons (no matters if they are electrons or muons). The second one selects the events in which we find leptons with opposite charge, and the third one choose the events with leptons of the same flavour. When all cuts are applied, the code computes the invariant mass using the information of each lepton (their pT, eta, phi and E) and fill the invariant mass calculated in GeV into the histogram we had created:"
   ]
  },
  {
   "cell_type": "code",
   "execution_count": 8,
   "id": "2ec4c24d",
   "metadata": {},
   "outputs": [],
   "source": [
    "int nbytes = 0;\n",
    "for (int ii=0; ii<events_to_run; ii++)\n",
    "{\n",
    "    nbytes = (Int_t)tree->GetEntry(ii);\n",
    "\n",
    "    // Cut #1: At least 2 leptons\n",
    "    \n",
    "    if (lepton_n >= 2)\n",
    "    {\n",
    "        // Cut #2: Leptons with opposite charge\n",
    "        if (lepton_charge->at(0) != lepton_charge->at(1))\n",
    "        {\n",
    "            // Cut #3: Leptons of the same family (2 electrons or 2 muons)\n",
    "            if (lepton_type->at(0) == lepton_type->at(1))\n",
    "            {\n",
    "                // Let's define one TLorentz vector for each, e.i. two vectors!\n",
    "                leadLepton.SetPtEtaPhiE(lepton_pt->at(0), lepton_eta->at(0), lepton_phi->at(0), lepton_E->at(0));\n",
    "                trailLepton.SetPtEtaPhiE(lepton_pt->at(1), lepton_eta->at(1), lepton_phi->at(1), lepton_E->at(1));\n",
    "                // Next line: addition of two TLorentz vectors above --> ask mass very easy (divide by 1000 to get value in GeV)\n",
    "                TLorentzVector invmass = TLorentzVector();\n",
    "                invmass = leadLepton + trailLepton;\n",
    "                float inv_mass_GeV = invmass.M()/1000.;\n",
    "                hist->Fill(inv_mass_GeV);\n",
    "            }\n",
    "        }\n",
    "    }\n",
    "    \n",
    "}"
   ]
  },
  {
   "cell_type": "code",
   "execution_count": 9,
   "id": "2046c392",
   "metadata": {},
   "outputs": [
    {
     "data": {
      "image/png": "[encoded data removed]",
      "text/plain": [
       "<IPython.core.display.Image object>"
      ]
     },
     "metadata": {},
     "output_type": "display_data"
    }
   ],
   "source": [
    "hist->GetXaxis()->SetTitle(\"Mass [GeV]\");\n",
    "hist->GetYaxis()->SetTitle(\"Events\");\n",
    "hist->SetFillColorAlpha(kBlue, 0.5); //Fill the histogram with color blue but with less intensity\n",
    "hist->Draw();\n",
    "c1->Draw();"
   ]
  },
  {
   "cell_type": "markdown",
   "id": "91f4b4fa",
   "metadata": {},
   "source": [
    "If we want to improve our analysis, we can fit our data to a determined function. For example, we are goint to fit this histogram to a Gaussian function using TF1 as follow: "
   ]
  },
  {
   "cell_type": "code",
   "execution_count": 10,
   "id": "ed84dc95",
   "metadata": {},
   "outputs": [],
   "source": [
    "TF1 *fit = new TF1(\"fit\", \"gaus\", 40, 140);\n",
    "fit->SetParameter(0, 13000); // Set a initial guess value to the amplitud of the Gauss function\n",
    "fit->SetParameter(1, 91); // Set a initial guess value to the mean of the Gauss function\n",
    "fit->SetParameter(2, 8); // Set a initial guess value to the standard deviation of the Gauss function"
   ]
  },
  {
   "cell_type": "markdown",
   "id": "35a802d8",
   "metadata": {},
   "source": [
    "The function SetParameter could help us to converge the fit more easily if we have information about these parameters (amplitud, mean and std deviation). As we know, the mass of Z boson is around 91 GeV approximately, and according to the stats given by the histograms in the latest graphic, the std deviation was around 7.9, so we can use these values as an initial guess of the Gaussian function fit. However, if you want, you can comment these lines and verify that the fit has to converge to the same results anyway. "
   ]
  },
  {
   "cell_type": "code",
   "execution_count": 11,
   "id": "4f1df587",
   "metadata": {},
   "outputs": [
    {
     "data": {
      "image/png": "[encoded data removed]",
      "text/plain": [
       "<IPython.core.display.Image object>"
      ]
     },
     "metadata": {},
     "output_type": "display_data"
    },
    {
     "name": "stdout",
     "output_type": "stream",
     "text": [
      " FCN=4566.46 FROM MIGRAD    STATUS=CONVERGED     117 CALLS         118 TOTAL\n",
      "                     EDM=3.81273e-09    STRATEGY= 1      ERROR MATRIX ACCURATE \n",
      "  EXT PARAMETER                                   STEP         FIRST   \n",
      "  NO.   NAME      VALUE            ERROR          SIZE      DERIVATIVE \n",
      "   1  Constant     1.17175e+04   1.07117e+02   2.27502e+00  -5.86083e-07\n",
      "   2  Mean         9.05837e+01   1.93654e-02   6.36473e-04  -8.60466e-04\n",
      "   3  Sigma        3.27786e+00   2.29218e-02   3.07557e-05  -8.62874e-02\n"
     ]
    }
   ],
   "source": [
    "TLegend *leg = new TLegend(0.6, 0.25, 0.85, 0.4); // Declares a legend to the function fit and his position in canvas\n",
    "leg->AddEntry(fit, \"Gaussian Fit Function\",\"l\"); // Gives a name to the legend and use a line \"l\" to show the fit\n",
    "\n",
    "hist->Draw();\n",
    "hist->Fit(\"fit\", \"R\"); \n",
    "leg->Draw();\n",
    "\n",
    "c1->Draw();"
   ]
  },
  {
   "cell_type": "markdown",
   "id": "b356293b",
   "metadata": {},
   "source": [
    "When we need to use these parameters, we can save them into new variables such as follow:"
   ]
  },
  {
   "cell_type": "code",
   "execution_count": 12,
   "id": "d5a7eaa1",
   "metadata": {},
   "outputs": [
    {
     "name": "stdout",
     "output_type": "stream",
     "text": [
      "amplitude: 11717.5\n",
      "mean: 90.5837\n",
      "standard deviation: 3.27786\n"
     ]
    }
   ],
   "source": [
    "double amplitude = fit->GetParameter(0);\n",
    "double mean = fit->GetParameter(1);\n",
    "double std = fit->GetParameter(2);\n",
    "\n",
    "cout << \"amplitude: \" << amplitude << endl;\n",
    "cout << \"mean: \" << mean << endl;\n",
    "cout << \"standard deviation: \"<< std << endl;"
   ]
  },
  {
   "cell_type": "markdown",
   "id": "7251534e",
   "metadata": {},
   "source": [
    "Finally, we can beautify our plots adding some text latex using TLatex and print the parameters of the gaussian function fit in the plot:"
   ]
  },
  {
   "cell_type": "code",
   "execution_count": 13,
   "id": "ceeef822",
   "metadata": {},
   "outputs": [
    {
     "data": {
      "image/png": "[encoded data removed]",
      "text/plain": [
       "<IPython.core.display.Image object>"
      ]
     },
     "metadata": {},
     "output_type": "display_data"
    },
    {
     "name": "stdout",
     "output_type": "stream",
     "text": [
      " FCN=4566.46 FROM MIGRAD    STATUS=CONVERGED     117 CALLS         118 TOTAL\n",
      "                     EDM=3.61443e-09    STRATEGY= 1      ERROR MATRIX ACCURATE \n",
      "  EXT PARAMETER                                   STEP         FIRST   \n",
      "  NO.   NAME      VALUE            ERROR          SIZE      DERIVATIVE \n",
      "   1  Constant     1.17175e+04   1.07117e+02   2.27502e+00  -5.67520e-07\n",
      "   2  Mean         9.05837e+01   1.93654e-02   6.36474e-04  -8.54564e-04\n",
      "   3  Sigma        3.27786e+00   2.29218e-02   3.07557e-05  -8.38868e-02\n"
     ]
    },
    {
     "name": "stderr",
     "output_type": "stream",
     "text": [
      "Info in <TCanvas::Print>: pdf file plots/Mass_of_Z_boson_fit.pdf has been created\n"
     ]
    }
   ],
   "source": [
    "hist->Draw();\n",
    "hist->Fit(\"fit\", \"R\"); \n",
    "leg->SetBorderSize(0);\n",
    "leg->Draw();\n",
    "\n",
    "TLatex l;\n",
    "l.SetNDC();\n",
    "l.SetTextFont(42); \n",
    "l.SetTextColor(kBlack); \n",
    "l.SetTextSize(0.04);  \n",
    "l.DrawLatex(0.13,0.8,\"ATLAS work in progress\"); // The first two arguments give the initial point of the text in the canvas\n",
    "\n",
    "TLatex o;\n",
    "o.SetNDC();\n",
    "o.SetTextFont(42);\n",
    "o.SetTextColor(kBlack);\n",
    "o.SetTextSize(0.03);\n",
    "double dely = 0.04; \n",
    "o.DrawLatex(0.13,0.8-dely, Form(\"#sqrt{s} = 13 TeV\")); // The first two arguments give the initial point of the text in the canvas\n",
    "o.DrawLatex(0.13,0.77-dely, Form(\"Z #rightarrow l^{+} l^{-}\")); // The first two arguments give the initial point of the text in the canvas\n",
    "\n",
    "TLatex p;\n",
    "p.SetNDC();\n",
    "p.SetTextFont(42);\n",
    "p.SetTextColor(kBlack);\n",
    "p.SetTextSize(0.03);\n",
    "p.DrawLatex(0.6,0.25-dely, Form(\"#mu = 90.58 GeV\")); // The first two arguments give the initial point of the text in the canvas\n",
    "p.DrawLatex(0.6,0.22-dely, Form(\"#sigma = 3.28 GeV\")); // The first two arguments give the initial point of the text in the canvas\n",
    "\n",
    "c1->Draw();\n",
    "c1->Print(\"plots/Mass_of_Z_boson_fit.pdf\");"
   ]
  }
 ],
 "metadata": {
  "kernelspec": {
   "display_name": "ROOT C++",
   "language": "c++",
   "name": "root"
  },
  "language_info": {
   "codemirror_mode": "text/x-c++src",
   "file_extension": ".C",
   "mimetype": " text/x-c++src",
   "name": "c++"
  }
 },
 "nbformat": 4,
 "nbformat_minor": 5
}
