{
 "cells": [
  {
   "cell_type": "markdown",
   "id": "0f648ad4",
   "metadata": {},
   "source": [
    "<CENTER>\n",
    "    <a href=\"http://opendata.atlas.cern/release/2020/documentation/notebooks/intro.html\" class=\"icons\"><img src=\"../images/ATLASOD.gif\" style=\"width:40%\"></a>\n",
    "</CENTER>"
   ]
  },
  {
   "cell_type": "markdown",
   "id": "54130002",
   "metadata": {},
   "source": [
    "# <CENTER><h1> $H \\rightarrow WW$ in comparison between others production processes of WW dibosons </h1></CENTER>\n",
    "\n",
    "## C++ notebook example"
   ]
  },
  {
   "cell_type": "markdown",
   "id": "542c3556",
   "metadata": {},
   "source": [
    "This notebook provides the analysis of Higgs boson decaying into two W bosons. This analysis shows you how to use diferent tools to perform the analysis, such as:\n",
    "\n",
    "* TFile: It is useful to open and read ROOT files.\n",
    "* TTree: Used to create a tree with the information of each event \n",
    "* TH1F: This allows us to define our histograms.\n",
    "* TLegend: Which lets us put a legend to identify signal from background in the final plot.\n",
    "* TLatex: It is used to put Latex text in our plots.\n",
    "\n",
    "At the end of this analysis, you will be able to get two plot with the normalized missing transverse energy MET in GeV and the normalized number of jets of the signal ($H \\rightarrow WW$) and background (SM production processes of WW dibosons). Here you can find many tools to perform the desired selection of events, how to declarate histograms, variables, read ROOT files and so on."
   ]
  },
  {
   "cell_type": "markdown",
   "id": "b546f93c",
   "metadata": {},
   "source": [
    "The first step is to load some basic libraries of c++:"
   ]
  },
  {
   "cell_type": "code",
   "execution_count": 1,
   "id": "60726a8f",
   "metadata": {},
   "outputs": [],
   "source": [
    "#include <TChain.h>\n",
    "#include <vector>\n",
    "#include <TFile.h>\n",
    "#include <iostream>\n",
    "#include <string>\n",
    "#include <stdio.h>"
   ]
  },
  {
   "cell_type": "markdown",
   "id": "e40ba528",
   "metadata": {},
   "source": [
    "The data we want to use to perform our analysis can be found in [https://atlas-opendata.web.cern.ch/atlas-opendata/samples/2020/2lep/MC](https://atlas-opendata.web.cern.ch/atlas-opendata/samples/2020/2lep/MC) and the name of the root files that we are going to use are called \"mc_345324.ggH125_WW2lep.2lep.root\" (the signal) and \"mc_363492.llvv.2lep.root\" (the background). Thus, we can use TFile to extract the information of signal and background processes:"
   ]
  },
  {
   "cell_type": "code",
   "execution_count": 2,
   "id": "4d819872",
   "metadata": {},
   "outputs": [
    {
     "name": "stdout",
     "output_type": "stream",
     "text": [
      "628685\n"
     ]
    }
   ],
   "source": [
    "TFile *f_sig = TFile::Open(\"https://atlas-opendata.web.cern.ch/atlas-opendata/samples/2020/2lep/MC/mc_345324.ggH125_WW2lep.2lep.root\");\n",
    "TTree *t_sig = (TTree*)f_sig->Get(\"mini\");\n",
    "int n_sig_events = t_sig->GetEntries();\n",
    "cout << n_sig_events << endl;"
   ]
  },
  {
   "cell_type": "code",
   "execution_count": 3,
   "id": "a0afc5c0",
   "metadata": {},
   "outputs": [
    {
     "name": "stdout",
     "output_type": "stream",
     "text": [
      "3409043\n"
     ]
    }
   ],
   "source": [
    "TFile *f_bkg = TFile::Open(\"https://atlas-opendata.web.cern.ch/atlas-opendata/samples/2020/2lep/MC/mc_363492.llvv.2lep.root\");\n",
    "TTree *t_bkg = (TTree*)f_bkg->Get(\"mini\");\n",
    "int n_bkg_events = t_bkg->GetEntries();\n",
    "cout << n_bkg_events << endl;"
   ]
  },
  {
   "cell_type": "markdown",
   "id": "13e9010f",
   "metadata": {},
   "source": [
    "Once we have defined our trees (t_sig and t_bkg), we can create different variables that we will use to perform the our analysis. Some of these variables are integers or floats type. The idea is to save the information of the events of each entry, which is contained our trees, in the new variables we have just created:"
   ]
  },
  {
   "cell_type": "code",
   "execution_count": 4,
   "id": "2048f6a9",
   "metadata": {},
   "outputs": [],
   "source": [
    "UInt_t jet_n_sig = -1;\n",
    "float_t met_et_sig = 0;\n",
    "float sig_weight = 0;\n",
    "\n",
    "t_sig->SetBranchAddress(\"jet_n\", &jet_n_sig);\n",
    "t_sig->SetBranchAddress(\"met_et\", &met_et_sig);\n",
    "t_sig->SetBranchAddress(\"mcWeight\", &sig_weight);"
   ]
  },
  {
   "cell_type": "code",
   "execution_count": 5,
   "id": "d9625a98",
   "metadata": {},
   "outputs": [],
   "source": [
    "UInt_t jet_n_bkg = -1;\n",
    "float_t met_et_bkg = 0;\n",
    "float bkg_weight = 0;\n",
    "\n",
    "t_bkg->SetBranchAddress(\"jet_n\", &jet_n_bkg);\n",
    "t_bkg->SetBranchAddress(\"met_et\", &met_et_bkg);\n",
    "t_bkg->SetBranchAddress(\"mcWeight\", &bkg_weight);"
   ]
  },
  {
   "cell_type": "markdown",
   "id": "a3f729eb",
   "metadata": {},
   "source": [
    "Next, we define the canvas, which allows us to visualize the graphics, and the histograms in which we are going to save the missing transverse energy and the number of jets of each event in the signal and background processes:"
   ]
  },
  {
   "cell_type": "code",
   "execution_count": 6,
   "id": "fd20d093",
   "metadata": {},
   "outputs": [],
   "source": [
    "TCanvas *canvas = new TCanvas();\n",
    "TH1F *hist_sig_met = new TH1F(\"h_sig_met\", \"Normalized Comparison Missing Transverse Energy; Met_et [GeV] ; Events\", 20, 0, 200);\n",
    "TH1F *hist_bkg_met = new TH1F(\"h_bkg_met\", \"Normalized Comparison Missing Transverse Energy; Met_et [GeV] ; Events\", 20, 0, 200);\n",
    "TH1F *hist_sig_jet_n = new TH1F(\"hist_sig_jet_n\",\"Normalized Comparison Number of Jets; Jets_n ; Events\",10,0,10);\n",
    "TH1F *hist_bkg_jet_n = new TH1F(\"hist_bkg_jet_n\",\"Normalized Comparison Number of Jets; Jets_n ; Events\",10,0,10);"
   ]
  },
  {
   "cell_type": "markdown",
   "id": "14889a0a",
   "metadata": {},
   "source": [
    "The next line of the code will make the corresponding analysis of the comparison between signal and background processes. Here we have two for loops in which we fill the histograms of MET and number of jets for signal and background. As signal and background root files have different numbers of events, it is needed to do two loops instead of one. If we want to plot the missing energy in GeV units, we can divide the met_et_sig and met_et_bkg variables per 1000 to go from MeV to GeV:"
   ]
  },
  {
   "cell_type": "code",
   "execution_count": 7,
   "id": "8f4d525c",
   "metadata": {},
   "outputs": [
    {
     "name": "stdout",
     "output_type": "stream",
     "text": [
      "Done!\n"
     ]
    }
   ],
   "source": [
    "int nbytes = 0;\n",
    "\n",
    "for (int ii=0; ii<n_sig_events; ii++)\n",
    "{\n",
    "    nbytes = t_sig->GetEntry(ii);\n",
    "    hist_sig_met->Fill(met_et_sig/1000., sig_weight); // Fill MET in GeV\n",
    "    hist_sig_jet_n->Fill(jet_n_sig, sig_weight);\n",
    "}\n",
    "\n",
    "for (int jj=0; jj<n_bkg_events; jj++)\n",
    "{\n",
    "    nbytes = t_bkg->GetEntry(jj);\n",
    "    hist_bkg_met->Fill(met_et_bkg/1000., bkg_weight); // Fill MET in GeV\n",
    "    hist_bkg_jet_n->Fill(jet_n_bkg, bkg_weight);\n",
    "}\n",
    "\n",
    "cout << \"Done!\" << endl;"
   ]
  },
  {
   "cell_type": "markdown",
   "id": "d2953bf9",
   "metadata": {},
   "source": [
    "Now, the idea is to plot our histograms taking the weight event into account for signal and background. Our first plot is going to be the normalized comparison between signal and background MET:"
   ]
  },
  {
   "cell_type": "code",
   "execution_count": 8,
   "id": "cf81d939",
   "metadata": {},
   "outputs": [
    {
     "data": {
      "image/png": "[encoded data removed]",
      "text/plain": [
       "<IPython.core.display.Image object>"
      ]
     },
     "metadata": {},
     "output_type": "display_data"
    },
    {
     "name": "stderr",
     "output_type": "stream",
     "text": [
      "Info in <TCanvas::Print>: pdf file plots/comparison_MET.pdf has been created\n"
     ]
    }
   ],
   "source": [
    "// We create a legend to identify the signal and background MET histograms in the plot\n",
    "TLegend *leg = new TLegend(0.5, 0.6, 0.85, 0.8); // Position of the legend in the canvas\n",
    "leg->AddEntry(hist_sig_met, \"Signal (H #rightarrow WW)\",\"l\"); \n",
    "leg->AddEntry(hist_bkg_met, \"Background (WW)\",\"l\");\n",
    "\n",
    "hist_sig_met->SetStats(0); //Hide the statistic box placed in the right upper side\n",
    "hist_bkg_met->SetStats(0);\n",
    "\n",
    "hist_sig_met->SetFillStyle(3003);\n",
    "hist_sig_met->SetFillColorAlpha(kRed, 0.35);\n",
    "hist_sig_met->SetLineColor(2);\n",
    "\n",
    "hist_bkg_met->SetFillStyle(3001);\n",
    "hist_bkg_met->SetFillColorAlpha(kBlue, 0.45);\n",
    "hist_bkg_met->SetLineColor(4);\n",
    "\n",
    "hist_sig_met->DrawNormalized(\"H\"); // Draw the normalized histograms in order to perform a better comparison of MET\n",
    "hist_bkg_met->DrawNormalized(\"sameH\"); // Draw the background MET histogram in the same plot of signal MET histogram with \"same\"\n",
    "\n",
    "    \n",
    "TLatex l; // We use TLatex to include text latex in plots\n",
    "l.SetNDC();\n",
    "l.SetTextFont(42); \n",
    "l.SetTextColor(kBlack);\n",
    "l.SetTextSize(0.05);  \n",
    "l.DrawLatex(0.45,0.5,\"ATLAS work in progress\"); // Position of the text in the canvas\n",
    "\n",
    "TLatex o;\n",
    "o.SetNDC();\n",
    "o.SetTextFont(42);\n",
    "o.SetTextColor(kBlack);\n",
    "o.SetTextSize(0.04);\n",
    "double dely = 0.05; \n",
    "o.DrawLatex(0.45,0.5-dely, Form(\"#sqrt{s} = 13 TeV\")); // Position of the text in the canvas\n",
    "o.DrawLatex(0.45,0.45-dely, Form(\"H #rightarrow WW\")); // Position of the text in the canvas\n",
    "\n",
    "leg->SetBorderSize();\n",
    "leg->Draw();\n",
    "canvas->Draw();\n",
    "canvas->Print(\"plots/comparison_MET.pdf\");"
   ]
  },
  {
   "cell_type": "markdown",
   "id": "0a2fb9bf",
   "metadata": {},
   "source": [
    "Finally, we draw the normalized comparison between signal and background number of jets as we did it before with the MET:"
   ]
  },
  {
   "cell_type": "code",
   "execution_count": 9,
   "id": "e09cfec8",
   "metadata": {},
   "outputs": [
    {
     "data": {
      "image/png": "[encoded data removed]",
      "text/plain": [
       "<IPython.core.display.Image object>"
      ]
     },
     "metadata": {},
     "output_type": "display_data"
    },
    {
     "name": "stderr",
     "output_type": "stream",
     "text": [
      "Info in <TCanvas::Print>: pdf file plots/comparison_jets_n.pdf has been created\n"
     ]
    }
   ],
   "source": [
    "// We create a legend to identify the signal and background number of jets histograms in the plot\n",
    "TLegend *leg = new TLegend(0.5, 0.6, 0.85, 0.8); // Position of the legend in the canvas\n",
    "leg->AddEntry(hist_sig_jet_n, \"Signal (H #rightarrow WW)\",\"l\");\n",
    "leg->AddEntry(hist_bkg_jet_n, \"Background (WW)\",\"l\");\n",
    "\n",
    "hist_sig_jet_n->SetStats(0);\n",
    "hist_bkg_jet_n->SetStats(0);\n",
    "\n",
    "hist_sig_jet_n->SetFillStyle(3003);\n",
    "hist_sig_jet_n->SetFillColorAlpha(kRed, 0.35);\n",
    "hist_sig_jet_n->SetLineColor(2);\n",
    "\n",
    "hist_bkg_jet_n->SetFillStyle(3001);\n",
    "hist_bkg_jet_n->SetFillColorAlpha(kBlue, 0.45);\n",
    "hist_bkg_jet_n->SetLineColor(4);\n",
    "\n",
    "hist_sig_jet_n->DrawNormalized(\"H\"); // Draw the normalized histograms in order to perform a better comparison of number of jets\n",
    "\n",
    "hist_bkg_jet_n->DrawNormalized(\"sameH\");\n",
    "\n",
    "TLatex l;\n",
    "l.SetNDC();\n",
    "l.SetTextFont(42);\n",
    "l.SetTextColor(kBlack);\n",
    "l.SetTextSize(0.05);  \n",
    "l.DrawLatex(0.45,0.5,\"ATLAS work in progress\");\n",
    "\n",
    "TLatex o;\n",
    "o.SetNDC();\n",
    "o.SetTextFont(42);\n",
    "o.SetTextColor(kBlack);\n",
    "o.SetTextSize(0.04);\n",
    "double dely = 0.05; \n",
    "o.DrawLatex(0.45,0.5-dely, Form(\"#sqrt{s} = 13 TeV\"));\n",
    "o.DrawLatex(0.45,0.45-dely, Form(\"H #rightarrow WW\"));\n",
    "\n",
    "leg->SetBorderSize();\n",
    "leg->Draw();\n",
    "canvas->Draw();\n",
    "canvas->Print(\"plots/comparison_jets_n.pdf\");"
   ]
  }
 ],
 "metadata": {
  "kernelspec": {
   "display_name": "ROOT C++",
   "language": "c++",
   "name": "root"
  },
  "language_info": {
   "codemirror_mode": "text/x-c++src",
   "file_extension": ".C",
   "mimetype": " text/x-c++src",
   "name": "c++"
  }
 },
 "nbformat": 4,
 "nbformat_minor": 5
}
