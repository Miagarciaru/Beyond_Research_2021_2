{
 "cells": [
  {
   "cell_type": "code",
   "execution_count": 1,
   "id": "5afa1f79",
   "metadata": {},
   "outputs": [],
   "source": [
    "#include <TChain.h>\n",
    "#include <vector>\n",
    "#include <TFile.h>\n",
    "#include <iostream>\n",
    "#include <string>\n",
    "#include <stdio.h>"
   ]
  },
  {
   "cell_type": "code",
   "execution_count": 2,
   "id": "5c7b92cf",
   "metadata": {},
   "outputs": [],
   "source": [
    "TString path = \"https://atlas-opendata.web.cern.ch/atlas-opendata/samples/2020/2lep/\";"
   ]
  },
  {
   "cell_type": "code",
   "execution_count": 3,
   "id": "9df0d207",
   "metadata": {},
   "outputs": [],
   "source": [
    "TChain *data_chain = new TChain(\"mini\");\n",
    "\n",
    "data_chain->AddFile(path+\"Data/data_A.2lep.root\");\n",
    "data_chain->AddFile(path+\"Data/data_B.2lep.root\");\n",
    "data_chain->AddFile(path+\"Data/data_C.2lep.root\");\n",
    "data_chain->AddFile(path+\"Data/data_D.2lep.root\");"
   ]
  },
  {
   "cell_type": "code",
   "execution_count": 4,
   "id": "bfd12617",
   "metadata": {},
   "outputs": [
    {
     "name": "stdout",
     "output_type": "stream",
     "text": [
      "12205790\n"
     ]
    }
   ],
   "source": [
    "int data_entries = (Int_t)data_chain->GetEntries();\n",
    "cout << data_entries << endl;"
   ]
  },
  {
   "cell_type": "code",
   "execution_count": 5,
   "id": "2215a408",
   "metadata": {},
   "outputs": [],
   "source": [
    "TChain *diboson_chain = new TChain(\"mini\");\n",
    "\n",
    "diboson_chain->AddFile(path+\"MC/mc_363356.ZqqZll.2lep.root\");\n",
    "diboson_chain->AddFile(path+\"MC/mc_363358.WqqZll.2lep.root\");\n",
    "diboson_chain->AddFile(path+\"MC/mc_363359.WpqqWmlv.2lep.root\");\n",
    "diboson_chain->AddFile(path+\"MC/mc_363360.WplvWmqq.2lep.root\");\n",
    "diboson_chain->AddFile(path+\"MC/mc_363489.WlvZqq.2lep.root\");\n",
    "diboson_chain->AddFile(path+\"MC/mc_363490.llll.2lep.root\");\n",
    "diboson_chain->AddFile(path+\"MC/mc_363491.lllv.2lep.root\");\n",
    "diboson_chain->AddFile(path+\"MC/mc_363492.llvv.2lep.root\");\n",
    "diboson_chain->AddFile(path+\"MC/mc_363493.lvvv.2lep.root\");"
   ]
  },
  {
   "cell_type": "code",
   "execution_count": 6,
   "id": "2d240fda",
   "metadata": {},
   "outputs": [
    {
     "name": "stdout",
     "output_type": "stream",
     "text": [
      "14254335\n"
     ]
    }
   ],
   "source": [
    "int diboson_entries = (Int_t)diboson_chain->GetEntries();\n",
    "cout << diboson_entries << endl;"
   ]
  },
  {
   "cell_type": "code",
   "execution_count": 7,
   "id": "f04e271a",
   "metadata": {},
   "outputs": [],
   "source": [
    "TChain *single_top_chain = new TChain(\"mini\");\n",
    "\n",
    "single_top_chain->AddFile(path+\"MC/mc_410011.single_top_tchan.2lep.root\");\n",
    "single_top_chain->AddFile(path+\"MC/mc_410012.single_antitop_tchan.2lep.root\");\n",
    "single_top_chain->AddFile(path+\"MC/mc_410025.single_top_schan.2lep.root\");\n",
    "single_top_chain->AddFile(path+\"MC/mc_410026.single_antitop_schan.2lep.root\");\n",
    "single_top_chain->AddFile(path+\"MC/mc_410013.single_top_wtchan.2lep.root\");\n",
    "single_top_chain->AddFile(path+\"MC/mc_410014.single_antitop_wtchan.2lep.root\");"
   ]
  },
  {
   "cell_type": "code",
   "execution_count": 8,
   "id": "e1191127",
   "metadata": {},
   "outputs": [
    {
     "name": "stdout",
     "output_type": "stream",
     "text": [
      "423766\n"
     ]
    }
   ],
   "source": [
    "int single_top_entries = (Int_t)single_top_chain->GetEntries();\n",
    "cout << single_top_entries << endl;"
   ]
  },
  {
   "cell_type": "code",
   "execution_count": 9,
   "id": "1ca0afde",
   "metadata": {},
   "outputs": [],
   "source": [
    "TChain *z_jets_chain = new TChain(\"mini\");\n",
    "\n",
    "z_jets_chain->AddFile(path+\"MC/mc_361106.Zee.2lep.root\");\n",
    "z_jets_chain->AddFile(path+\"MC/mc_361107.Zmumu.2lep.root\");\n",
    "z_jets_chain->AddFile(path+\"MC/mc_361108.Ztautau.2lep.root\");"
   ]
  },
  {
   "cell_type": "code",
   "execution_count": 10,
   "id": "5800c8d9",
   "metadata": {},
   "outputs": [
    {
     "name": "stdout",
     "output_type": "stream",
     "text": [
      "44153520\n"
     ]
    }
   ],
   "source": [
    "int z_jets_entries = (Int_t)z_jets_chain->GetEntries();\n",
    "cout << z_jets_entries << endl;"
   ]
  },
  {
   "cell_type": "code",
   "execution_count": 11,
   "id": "9b1c3274",
   "metadata": {},
   "outputs": [],
   "source": [
    "TChain *ttbar_lep_chain = new TChain(\"mini\");\n",
    "\n",
    "ttbar_lep_chain->AddFile(path+\"MC/mc_410000.ttbar_lep.2lep.root\");"
   ]
  },
  {
   "cell_type": "code",
   "execution_count": 12,
   "id": "6bc0b7b1",
   "metadata": {},
   "outputs": [
    {
     "name": "stdout",
     "output_type": "stream",
     "text": [
      "2910539\n"
     ]
    }
   ],
   "source": [
    "int ttbar_lep_entries = (Int_t)ttbar_lep_chain->GetEntries();\n",
    "cout << ttbar_lep_entries << endl;"
   ]
  },
  {
   "cell_type": "code",
   "execution_count": 13,
   "id": "026d95fb",
   "metadata": {},
   "outputs": [],
   "source": [
    "TChain *w_jets_chain = new TChain(\"mini\");\n",
    "\n",
    "w_jets_chain->AddFile(path+\"MC/mc_361100.Wplusenu.2lep.root\");\n",
    "w_jets_chain->AddFile(path+\"MC/mc_361101.Wplusmunu.2lep.root\");\n",
    "w_jets_chain->AddFile(path+\"MC/mc_361102.Wplustaunu.2lep.root\");\n",
    "w_jets_chain->AddFile(path+\"MC/mc_361103.Wminusenu.2lep.root\");\n",
    "w_jets_chain->AddFile(path+\"MC/mc_361104.Wminusmunu.2lep.root\");\n",
    "w_jets_chain->AddFile(path+\"MC/mc_361105.Wminustaunu.2lep.root\");"
   ]
  },
  {
   "cell_type": "code",
   "execution_count": 14,
   "id": "f9375fdb",
   "metadata": {},
   "outputs": [
    {
     "name": "stdout",
     "output_type": "stream",
     "text": [
      "142069\n"
     ]
    }
   ],
   "source": [
    "int w_jets_entries = (Int_t)w_jets_chain->GetEntries();\n",
    "cout << w_jets_entries << endl;"
   ]
  },
  {
   "cell_type": "code",
   "execution_count": 15,
   "id": "9e459d07",
   "metadata": {},
   "outputs": [],
   "source": [
    "TChain *ggH125_WW_chain = new TChain(\"mini\");\n",
    "\n",
    "ggH125_WW_chain->AddFile(path+\"MC/mc_345324.ggH125_WW2lep.2lep.root\");"
   ]
  },
  {
   "cell_type": "code",
   "execution_count": 16,
   "id": "345e6fd8",
   "metadata": {},
   "outputs": [
    {
     "name": "stdout",
     "output_type": "stream",
     "text": [
      "628685\n"
     ]
    }
   ],
   "source": [
    "int ggH125_WW_entries = (Int_t)ggH125_WW_chain->GetEntries();\n",
    "cout << ggH125_WW_entries << endl;"
   ]
  },
  {
   "cell_type": "code",
   "execution_count": 17,
   "id": "4f39f0e4",
   "metadata": {},
   "outputs": [],
   "source": [
    "TChain *VBFH125_WW_chain = new TChain(\"mini\");\n",
    "\n",
    "VBFH125_WW_chain->AddFile(path+\"MC/mc_345323.VBFH125_WW2lep.2lep.root\");"
   ]
  },
  {
   "cell_type": "code",
   "execution_count": 18,
   "id": "0547c9be",
   "metadata": {},
   "outputs": [
    {
     "name": "stdout",
     "output_type": "stream",
     "text": [
      "425131\n"
     ]
    }
   ],
   "source": [
    "int VBFH125_WW_entries = (Int_t)VBFH125_WW_chain->GetEntries();\n",
    "cout << VBFH125_WW_entries << endl;"
   ]
  },
  {
   "cell_type": "code",
   "execution_count": 19,
   "id": "af483068",
   "metadata": {},
   "outputs": [],
   "source": [
    "Float_t         mcWeight;\n",
    "Float_t         scaleFactor_PILEUP;\n",
    "Float_t         scaleFactor_ELE;\n",
    "Float_t         scaleFactor_MUON;\n",
    "Float_t         scaleFactor_LepTRIGGER;\n",
    "Bool_t          trigE;\n",
    "Bool_t          trigM;\n",
    "UInt_t          lep_n;\n",
    "vector<float>   *lep_pt;\n",
    "vector<float>   *lep_eta;\n",
    "vector<float>   *lep_phi;\n",
    "vector<float>   *lep_E;\n",
    "vector<float>   *lep_z0;\n",
    "vector<int>     *lep_charge;\n",
    "vector<unsigned int> *lep_type;\n",
    "vector<bool>    *lep_isTightID;\n",
    "vector<float>   *lep_ptcone30;\n",
    "vector<float>   *lep_etcone20;\n",
    "vector<float>   *lep_trackd0pvunbiased;\n",
    "vector<float>   *lep_tracksigd0pvunbiased;\n",
    "Float_t         met_et;\n",
    "Float_t         met_phi;\n",
    "UInt_t          jet_n;\n",
    "vector<float>   *jet_pt;\n",
    "vector<float>   *jet_eta;\n",
    "vector<float>   *jet_phi;\n",
    "vector<float>   *jet_E;\n",
    "vector<float>   *jet_jvt;\n",
    "vector<float>   *jet_MV2c10;"
   ]
  },
  {
   "cell_type": "code",
   "execution_count": 20,
   "id": "5d9a081c",
   "metadata": {},
   "outputs": [],
   "source": [
    "void set_branch_address(TString name_sample)\n",
    "{\n",
    "    TChain *name_chain = new TChain();\n",
    "    if(name_sample == \"data\"){\n",
    "        name_chain = data_chain;\n",
    "    }\n",
    "    if(name_sample == \"ggH125_WW\"){\n",
    "        name_chain = ggH125_WW_chain;\n",
    "    } \n",
    "    if(name_sample == \"VBFH125_WW\"){\n",
    "        name_chain = VBFH125_WW_chain;\n",
    "    }\n",
    "    if(name_sample == \"diboson\"){\n",
    "        name_chain = diboson_chain;\n",
    "    }    \n",
    "    if(name_sample == \"z_jets\"){\n",
    "        name_chain = z_jets_chain;\n",
    "    }    \n",
    "    if(name_sample == \"w_jets\"){\n",
    "        name_chain = w_jets_chain;\n",
    "    }\n",
    "    if(name_sample == \"ttbar_lep\"){\n",
    "        name_chain = ttbar_lep_chain;\n",
    "    }    \n",
    "    if(name_sample == \"single_top\"){\n",
    "        name_chain = single_top_chain;\n",
    "    }    \n",
    "    \n",
    "    name_chain->SetBranchAddress(\"trigE\", &trigE); \n",
    "    name_chain->SetBranchAddress(\"trigM\", &trigM); \n",
    "    name_chain->SetBranchAddress(\"lep_isTightID\", &lep_isTightID); \n",
    "    name_chain->SetBranchAddress(\"lep_pt\", &lep_pt); \n",
    "    name_chain->SetBranchAddress(\"lep_eta\", &lep_eta); \n",
    "    name_chain->SetBranchAddress(\"lep_phi\", &lep_phi); \n",
    "    name_chain->SetBranchAddress(\"lep_E\", &lep_E); \n",
    "    name_chain->SetBranchAddress(\"lep_n\", &lep_n); \n",
    "    name_chain->SetBranchAddress(\"lep_type\", &lep_type); \n",
    "    name_chain->SetBranchAddress(\"lep_ptcone30\", &lep_ptcone30); \n",
    "    name_chain->SetBranchAddress(\"lep_etcone20\", &lep_etcone20);\n",
    "    name_chain->SetBranchAddress(\"lep_trackd0pvunbiased\", &lep_trackd0pvunbiased); \n",
    "    name_chain->SetBranchAddress(\"lep_tracksigd0pvunbiased\", &lep_tracksigd0pvunbiased); \n",
    "    name_chain->SetBranchAddress(\"lep_z0\", &lep_z0); \n",
    "    name_chain->SetBranchAddress(\"lep_type\", &lep_type); \n",
    "    name_chain->SetBranchAddress(\"lep_charge\", &lep_charge); \n",
    "    name_chain->SetBranchAddress(\"met_et\", &met_et); \n",
    "    name_chain->SetBranchAddress(\"jet_n\", &jet_n);\n",
    "    name_chain->SetBranchAddress(\"jet_pt\", &jet_pt); \n",
    "    name_chain->SetBranchAddress(\"jet_eta\", &jet_eta);\n",
    "    name_chain->SetBranchAddress(\"jet_jvt\", &jet_jvt); \n",
    "    name_chain->SetBranchAddress(\"jet_MV2c10\", &jet_MV2c10); \n",
    "    \n",
    "    name_chain->SetBranchAddress(\"mcWeight\", &mcWeight); \n",
    "    name_chain->SetBranchAddress(\"scaleFactor_PILEUP\", &scaleFactor_PILEUP); \n",
    "    name_chain->SetBranchAddress(\"scaleFactor_ELE\", &scaleFactor_ELE); \n",
    "    name_chain->SetBranchAddress(\"scaleFactor_MUON\", &scaleFactor_MUON); \n",
    "    name_chain->SetBranchAddress(\"scaleFactor_LepTRIGGER\", &scaleFactor_LepTRIGGER); \n",
    "    \n",
    "}"
   ]
  },
  {
   "cell_type": "code",
   "execution_count": 21,
   "id": "6ba9a189",
   "metadata": {},
   "outputs": [],
   "source": [
    "//data:\n",
    "TH1F *data_hist_mLL = new TH1F(\"data_hist_mLL\", \"Mass of Dilepton System; m_{ll} [GeV];Events / bin\", 30, 0, 170);\n",
    "TH1F *data_hist_ptLL = new TH1F(\"data_hist_ptLL\", \"Transverse Momentum of Dilepton System; p_{T}^{ll} [GeV];Events / bin\", 30, 0, 200);\n",
    "TH1F *data_hist_etmiss = new TH1F(\"data_hist_etmiss\", \"Missing Transverse Momentum;E_{T}^{miss} [GeV];Events / bin\", 20, 0,200);\n",
    "TH1F *data_hist_mt = new TH1F(\"data_hist_mt\", \"Dilepton System Transverse Mass; m_{T} [GeV];Events / bin\", 15, 50, 200);\n",
    "\n",
    "//ggH125_WW and VBFH125_WW (Higgs):\n",
    "TH1F *higgs_hist_mLL = new TH1F(\"higgs_hist_mLL\", \"Mass of Dilepton System; m_{ll} [GeV];Events / bin\", 30, 0, 170);\n",
    "TH1F *higgs_hist_ptLL = new TH1F(\"higgs_hist_ptLL\", \"Transverse Momentum of Dilepton System; p_{T}^{ll} [GeV];Events / bin\", 30, 0, 200);\n",
    "TH1F *higgs_hist_etmiss = new TH1F(\"higgs_hist_etmiss\", \"Missing Transverse Momentum;E_{T}^{miss} [GeV];Events / bin\", 20, 0,200);\n",
    "TH1F *higgs_hist_mt = new TH1F(\"higgs_hist_mt\", \"Dilepton System Transverse Mass; m_{T} [GeV];Events / bin\", 15, 50, 200);\n",
    "\n",
    "//diboson VBFH125_WW\n",
    "TH1F *diboson_hist_mLL = new TH1F(\"diboson_hist_mLL\", \"Mass of Dilepton System; m_{ll} [GeV];Events / bin\", 30, 0, 170);\n",
    "TH1F *diboson_hist_ptLL = new TH1F(\"diboson_hist_ptLL\", \"Transverse Momentum of Dilepton System; p_{T}^{ll} [GeV];Events / bin\", 30, 0, 200);\n",
    "TH1F *diboson_hist_etmiss = new TH1F(\"diboson_hist_etmiss\", \"Missing Transverse Momentum;E_{T}^{miss} [GeV];Events / bin\", 20, 0,200);\n",
    "TH1F *diboson_hist_mt = new TH1F(\"diboson_hist_mt\", \"Dilepton System Transverse Mass; m_{T} [GeV];Events / bin\", 15, 50, 200);\n",
    "\n",
    "//V+jets\n",
    "TH1F *vjets_hist_mLL = new TH1F(\"vjets_hist_mLL\", \"Mass of Dilepton System; m_{ll} [GeV];Events / bin\", 30, 0, 170);\n",
    "TH1F *vjets_hist_ptLL = new TH1F(\"vjets_hist_ptLL\", \"Transverse Momentum of Dilepton System; p_{T}^{ll} [GeV];Events / bin\", 30, 0, 200);\n",
    "TH1F *vjets_hist_etmiss = new TH1F(\"vjets_hist_etmiss\", \"Missing Transverse Momentum;E_{T}^{miss} [GeV];Events / bin\", 20, 0,200);\n",
    "TH1F *vjets_hist_mt = new TH1F(\"vjets_hist_mt\", \"Dilepton System Transverse Mass; m_{T} [GeV];Events / bin\", 15, 50, 200);\n",
    "\n",
    "//ttbar\n",
    "TH1F *ttbar_hist_mLL = new TH1F(\"ttbar_hist_mLL\", \"Mass of Dilepton System; m_{ll} [GeV];Events / bin\", 30, 0, 170);\n",
    "TH1F *ttbar_hist_ptLL = new TH1F(\"ttbar_hist_ptLL\", \"Transverse Momentum of Dilepton System; p_{T}^{ll} [GeV];Events / bin\", 30, 0, 200);\n",
    "TH1F *ttbar_hist_etmiss = new TH1F(\"ttbar_hist_etmiss\", \"Missing Transverse Momentum;E_{T}^{miss} [GeV];Events / bin\", 20, 0,200);\n",
    "TH1F *ttbar_hist_mt = new TH1F(\"ttbar_hist_mt\", \"Dilepton System Transverse Mass; m_{T} [GeV];Events / bin\", 15, 50, 200);\n",
    "\n",
    "//single top\n",
    "TH1F *single_top_hist_mLL = new TH1F(\"single_top_hist_mLL\", \"Mass of Dilepton System; m_{ll} [GeV];Events / bin\", 30, 0, 170);\n",
    "TH1F *single_top_hist_ptLL = new TH1F(\"single_top_hist_ptLL\", \"Transverse Momentum of Dilepton System; p_{T}^{ll} [GeV];Events / bin\", 30, 0, 200);\n",
    "TH1F *single_top_hist_etmiss = new TH1F(\"single_top_hist_etmiss\", \"Missing Transverse Momentum;E_{T}^{miss} [GeV];Events / bin\", 20, 0,200);\n",
    "TH1F *single_top_hist_mt = new TH1F(\"single_top_hist_mt\", \"Dilepton System Transverse Mass; m_{T} [GeV];Events / bin\", 15, 50, 200);\n",
    "\n",
    "//mc samples\n",
    "TH1F *mc_hist_mLL = new TH1F(\"mc_hist_mLL\", \"Mass of Dilepton System; m_{ll} [GeV];Events / bin\", 30, 0, 170);\n",
    "TH1F *mc_hist_ptLL = new TH1F(\"mc_hist_ptLL\", \"Transverse Momentum of Dilepton System; p_{T}^{ll} [GeV];Events / bin\", 30, 0, 200);\n",
    "TH1F *mc_hist_etmiss = new TH1F(\"mc_hist_etmiss\", \"Missing Transverse Momentum;E_{T}^{miss} [GeV];Events / bin\", 20, 0,200);\n",
    "TH1F *mc_hist_mt = new TH1F(\"mc_hist_mt\", \"Dilepton System Transverse Mass; m_{T} [GeV];Events / bin\", 15, 50, 200);"
   ]
  },
  {
   "cell_type": "code",
   "execution_count": 22,
   "id": "e0b19c2c",
   "metadata": {},
   "outputs": [],
   "source": [
    "void fill_histograms(TString name_sample, float weight, float mLL, float ptLL, float met_et, float mt)\n",
    "{\n",
    "    if(name_sample == \"data\"){\n",
    "        data_hist_mLL->Fill(mLL, weight);\n",
    "        data_hist_ptLL->Fill(ptLL, weight); \n",
    "        data_hist_etmiss->Fill(met_et/1000., weight);\n",
    "        data_hist_mt->Fill(mt, weight);\n",
    "    } \n",
    "    if(name_sample == \"ggH125_WW\" || name_sample == \"VBFH125_WW\"){\n",
    "        higgs_hist_mLL->Fill(mLL, weight);\n",
    "        higgs_hist_ptLL->Fill(ptLL, weight); \n",
    "        higgs_hist_etmiss->Fill(met_et/1000., weight);\n",
    "        higgs_hist_mt->Fill(mt, weight);\n",
    "        mc_hist_mLL->Fill(mLL, weight);\n",
    "        mc_hist_ptLL->Fill(ptLL, weight); \n",
    "        mc_hist_etmiss->Fill(met_et/1000., weight);\n",
    "        mc_hist_mt->Fill(mt, weight);\n",
    "    }\n",
    "    if(name_sample == \"diboson\"){\n",
    "        diboson_hist_mLL->Fill(mLL, weight);\n",
    "        diboson_hist_ptLL->Fill(ptLL, weight); \n",
    "        diboson_hist_etmiss->Fill(met_et/1000., weight);\n",
    "        diboson_hist_mt->Fill(mt, weight);\n",
    "        mc_hist_mLL->Fill(mLL, weight);\n",
    "        mc_hist_ptLL->Fill(ptLL, weight); \n",
    "        mc_hist_etmiss->Fill(met_et/1000., weight);\n",
    "        mc_hist_mt->Fill(mt, weight);\n",
    "    }    \n",
    "    if(name_sample == \"z_jets\" || name_sample == \"w_jets\"){\n",
    "        vjets_hist_mLL->Fill(mLL, weight);\n",
    "        vjets_hist_ptLL->Fill(ptLL, weight); \n",
    "        vjets_hist_etmiss->Fill(met_et/1000., weight);\n",
    "        vjets_hist_mt->Fill(mt, weight);\n",
    "        mc_hist_mLL->Fill(mLL, weight);\n",
    "        mc_hist_ptLL->Fill(ptLL, weight); \n",
    "        mc_hist_etmiss->Fill(met_et/1000., weight);\n",
    "        mc_hist_mt->Fill(mt, weight);\n",
    "    }   \n",
    "    if(name_sample == \"ttbar_lep\"){\n",
    "        ttbar_hist_mLL->Fill(mLL, weight);\n",
    "        ttbar_hist_ptLL->Fill(ptLL, weight); \n",
    "        ttbar_hist_etmiss->Fill(met_et/1000., weight);\n",
    "        ttbar_hist_mt->Fill(mt, weight);\n",
    "        mc_hist_mLL->Fill(mLL, weight);\n",
    "        mc_hist_ptLL->Fill(ptLL, weight); \n",
    "        mc_hist_etmiss->Fill(met_et/1000., weight);\n",
    "        mc_hist_mt->Fill(mt, weight);\n",
    "    }    \n",
    "    if(name_sample == \"single_top\"){\n",
    "        single_top_hist_mLL->Fill(mLL, weight);\n",
    "        single_top_hist_ptLL->Fill(ptLL, weight); \n",
    "        single_top_hist_etmiss->Fill(met_et/1000., weight);\n",
    "        single_top_hist_mt->Fill(mt, weight);\n",
    "        mc_hist_mLL->Fill(mLL, weight);\n",
    "        mc_hist_ptLL->Fill(ptLL, weight); \n",
    "        mc_hist_etmiss->Fill(met_et/1000., weight);\n",
    "        mc_hist_mt->Fill(mt, weight);\n",
    "    }    \n",
    "}"
   ]
  },
  {
   "cell_type": "code",
   "execution_count": 23,
   "id": "d90be56b",
   "metadata": {},
   "outputs": [],
   "source": [
    "bool lepton_trigger_cut(bool trigE, bool trigM)\n",
    "{\n",
    "    if(trigE || trigM){ return true;}\n",
    "    return false;\n",
    "}"
   ]
  },
  {
   "cell_type": "code",
   "execution_count": 24,
   "id": "e6544c73",
   "metadata": {},
   "outputs": [],
   "source": [
    "bool good_leptons_n_cut(unsigned int lep_n, vector<bool> lep_isTightID, vector<float> lep_pt, vector<float> lep_eta,\n",
    "                        vector<float> lep_phi, vector<float> lep_E, vector<unsigned int> lep_type, \n",
    "                        vector<float> lep_ptcone30, vector<float> lep_etcone20, vector<float> lep_trackd0pvunbiased, \n",
    "                        vector<float> lep_tracksigd0pvunbiased, vector<float> lep_z0, \n",
    "                        unsigned int &lep_index1, unsigned int &lep_index2)\n",
    "{\n",
    "    // Preselection of good leptons\n",
    "    int goodlep_index[lep_n];\n",
    "    int goodlep_n = 0;\n",
    "    int lep_index =0;\n",
    "      \n",
    "    for(unsigned int ii=0; ii<lep_n; ii++){\n",
    "        \n",
    "        TLorentzVector leptemp = TLorentzVector();  \n",
    "        leptemp.SetPtEtaPhiE(lep_pt[ii]/1000., lep_eta[ii], lep_phi[ii], lep_E[ii]/1000.);\n",
    "        \n",
    "        // Lepton is Tight\n",
    "        if( lep_isTightID[ii] == false ) continue;\n",
    "        // standard lepton isolation requirement => strict isolation\n",
    "        if( lep_pt[ii] <= 15000. ) continue;\n",
    "        if( lep_ptcone30[ii]/lep_pt[ii] >= 0.1 ) continue; \n",
    "        if( lep_etcone20[ii]/lep_pt[ii] >= 0.1 ) continue;\n",
    "        // electron selection\n",
    "        if( lep_type[ii]==11 && TMath::Abs(lep_eta[ii])<2.47 && (TMath::Abs(lep_eta[ii])<1.37 || \n",
    "                                                                 TMath::Abs(lep_eta[ii])>1.52) ){\n",
    "            \n",
    "            if( TMath::Abs(lep_trackd0pvunbiased[ii])/lep_tracksigd0pvunbiased[ii]>=5 ||\n",
    "                TMath::Abs(lep_z0[ii]*TMath::Sin(leptemp.Theta()))>=0.5) continue;    \n",
    "            \n",
    "            goodlep_n++;\n",
    "            goodlep_index[lep_index] = ii;\n",
    "            lep_index++;\n",
    "        }\n",
    "            \n",
    "        // muon selection\n",
    "        if( lep_type[ii]==13 && TMath::Abs(lep_eta[ii])<2.5 ){\n",
    "            \n",
    "            if( TMath::Abs(lep_trackd0pvunbiased[ii])/lep_tracksigd0pvunbiased[ii]>=3 || \n",
    "               TMath::Abs(lep_z0[ii]*TMath::Sin(leptemp.Theta()))>=0.5) continue;\n",
    "            \n",
    "            goodlep_n++;\n",
    "            goodlep_index[lep_index] = ii;\n",
    "            lep_index++;\n",
    "        }\n",
    "    }\n",
    "  \n",
    "    if(goodlep_n!=2){ return false;}\n",
    "    //Exactly two good leptons, leading lepton with pT > 22 GeV and the subleading lepton with pT > 15 GeV\n",
    "    lep_index1 = goodlep_index[0];\n",
    "    lep_index2 = goodlep_index[1];\n",
    "    if(lep_pt[lep_index1]<=22000. || lep_pt[lep_index2]<=15000.){ return false;}\n",
    "    return true;\n",
    "}"
   ]
  },
  {
   "cell_type": "code",
   "execution_count": 25,
   "id": "5a0f8a3a",
   "metadata": {},
   "outputs": [],
   "source": [
    "//two different-flavour leptons\n",
    "bool flavour_leptons_cut(vector<unsigned int> lep_type, unsigned int lep_index1, unsigned int lep_index2)\n",
    "{\n",
    "    if( lep_type[lep_index1] == lep_type[lep_index2]){return false;} //leptons of same flavours return false\n",
    "    return true;\n",
    "}"
   ]
  },
  {
   "cell_type": "code",
   "execution_count": 26,
   "id": "a9da9dbf",
   "metadata": {},
   "outputs": [],
   "source": [
    "//opposite charge leptons\n",
    "bool opposite_charges_cut(vector<int> lep_charge, unsigned int lep_index1, unsigned int lep_index2)\n",
    "{\n",
    "    if( lep_charge[lep_index1]*lep_charge[lep_index2] > 0){ return false;} //Leptons of same charges return false\n",
    "    return true;\n",
    "}"
   ]
  },
  {
   "cell_type": "code",
   "execution_count": 27,
   "id": "716e7c40",
   "metadata": {},
   "outputs": [],
   "source": [
    "void calculation_lepton_variables(vector<float> lep_pt, vector<float> lep_eta, vector<float> lep_phi, vector<float> lep_E,\n",
    "                                  float met_et, float &mLL, float &ptLL, float &dPhi_LL, float &dPhiLLmet, float &mt, \n",
    "                                  unsigned int lep_index1, unsigned int lep_index2)\n",
    "{\n",
    "    // TLorentzVector definitions\n",
    "    TLorentzVector Lepton_1  = TLorentzVector();\n",
    "    TLorentzVector Lepton_2  = TLorentzVector();\n",
    "    TLorentzVector      MeT  = TLorentzVector();\n",
    "\n",
    "    Lepton_1.SetPtEtaPhiE(lep_pt[lep_index1], lep_eta[lep_index1], lep_phi[lep_index1],lep_E[lep_index1]);\n",
    "    Lepton_2.SetPtEtaPhiE(lep_pt[lep_index2], lep_eta[lep_index2], lep_phi[lep_index2],lep_E[lep_index2]);\n",
    "    MeT.SetPtEtaPhiE(met_et, 0, met_phi , met_et);\n",
    " \n",
    "    TLorentzVector Lepton_12 = TLorentzVector();\n",
    "    Lepton_12 = Lepton_1 + Lepton_2;\n",
    "  \n",
    "    mLL = Lepton_12.Mag()/1000.;\n",
    "    ptLL = Lepton_12.Pt()/1000.;\n",
    "  \n",
    "    dPhi_LL = TMath::Abs(lep_phi[lep_index1] - lep_phi[lep_index2]);\n",
    "    dPhi_LL = dPhi_LL < TMath::Pi() ? dPhi_LL : 2*TMath::Pi() - dPhi_LL;\n",
    "  \n",
    "    dPhiLLmet = TMath::Abs( Lepton_12.Phi() - MeT.Phi() );\n",
    "    dPhiLLmet = dPhiLLmet < TMath::Pi() ? dPhiLLmet : 2*TMath::Pi() - dPhiLLmet;\n",
    " \n",
    "    mt = TMath::Sqrt(2*Lepton_12.Pt()*MeT.Et()*(1-cos(Lepton_12.DeltaPhi(MeT))))/1000.;\n",
    "}"
   ]
  },
  {
   "cell_type": "code",
   "execution_count": 28,
   "id": "eb103060",
   "metadata": {},
   "outputs": [],
   "source": [
    "bool selection_goodjets_and_zero_bjets_cut(unsigned int jet_n, vector<float> jet_pt, vector<float> jet_eta,\n",
    "                        vector<float> jet_jvt, vector<float> jet_MV2c10)\n",
    "{\n",
    "    //Preselection of good jets\n",
    "    int goodjet_n = 0;\n",
    "    int goodbjet_n = 0;\n",
    "    int goodjet_index[jet_n];\n",
    "    int jet_index = 0;\n",
    "    int goodbjet_index[jet_n];\n",
    "    int bjet_index = 0;\n",
    "  \n",
    "    for(unsigned int ii=0; ii<jet_n; ii++){\n",
    "        if( jet_pt[ii] <= 20000. || TMath::Abs(jet_eta[ii]) >= 2.5 ) continue;\n",
    "\n",
    "        // JVT cleaning\n",
    "        if ( jet_pt[ii] < 60000. ){\n",
    "            if( TMath::Abs(jet_eta[ii]) < 2.4 && jet_jvt[ii] <= 0.59 ) continue;\n",
    "        }\n",
    "        \n",
    "        // cut on 85% WP\n",
    "        if( jet_MV2c10[ii] > 0.1758475 ){\n",
    "            if(TMath::Abs(jet_eta[ii]) >= 2.5) continue;\n",
    "            goodbjet_n++;\n",
    "            goodbjet_index[bjet_index] = ii;\n",
    "            bjet_index++;\n",
    "        }\n",
    "    \n",
    "        if( jet_pt[ii] > 30000. ){\n",
    "            goodjet_n++;\n",
    "            goodjet_index[jet_index] = ii;\n",
    "            jet_index++;\n",
    "        }\n",
    "    }\n",
    "    \n",
    "    if( goodjet_n>1 || goodbjet_n!=0 ){ return false;}\n",
    "    \n",
    "    return true;\n",
    "}"
   ]
  },
  {
   "cell_type": "code",
   "execution_count": 29,
   "id": "024476a3",
   "metadata": {},
   "outputs": [],
   "source": [
    "// remove low mass meson resonances and DY events; ggF regions\n",
    "bool low_mass_meson_resonances_DY_and_ggF_regions_cut(float met_et, float mLL, float dPhiLLmet, float ptLL, \n",
    "                                                      float dPhi_LL)\n",
    "{\n",
    "    //if( mLL<=10 || met_et<=20000. || dPhiLLmet<=TMath::Pi()/2 || ptLL<=30 || mLL>=55 || dPhi_LL>=1.8){ return false;}\n",
    "    if( mLL<=10 || met_et<=20000.){ return false;}\n",
    "    if( dPhiLLmet<=TMath::Pi()/2 ){ return false;}\n",
    "    if ( ptLL<=30 ){ return false;}\n",
    "    if ( mLL>=55 ){return false;}\n",
    "    if ( dPhi_LL>=1.8 ){return false;} \n",
    "\n",
    "    return true;\n",
    "}"
   ]
  },
  {
   "cell_type": "code",
   "execution_count": 30,
   "id": "8e68a879",
   "metadata": {},
   "outputs": [],
   "source": [
    "void analysis_of_samples(TString name_sample)\n",
    "{\n",
    "    int nbytes = 0;\n",
    "    int pass = 0;\n",
    "    \n",
    "    set_branch_address(name_sample);\n",
    "    int nentries = 0;\n",
    "    TChain *new_chain = new TChain();\n",
    "    float weight = 0;\n",
    "    float fraction = 1.0;\n",
    "\n",
    "    if(name_sample == \"data\"){\n",
    "        new_chain = data_chain;\n",
    "        weight = 1.0; // Make difference between data and MC\n",
    "    }\n",
    "    if(name_sample == \"ggH125_WW\"){\n",
    "        new_chain = ggH125_WW_chain;\n",
    "    }\n",
    "    if(name_sample == \"VBFH125_WW\"){\n",
    "        new_chain = VBFH125_WW_chain;\n",
    "    }\n",
    "    if(name_sample == \"diboson\"){\n",
    "        new_chain = diboson_chain;\n",
    "    }    \n",
    "    if(name_sample == \"z_jets\"){\n",
    "        new_chain = z_jets_chain;\n",
    "    }   \n",
    "    if(name_sample == \"w_jets\"){\n",
    "        new_chain = w_jets_chain;\n",
    "    }\n",
    "    if(name_sample == \"ttbar_lep\"){\n",
    "        new_chain = ttbar_lep_chain;\n",
    "    }    \n",
    "    if(name_sample == \"single_top\"){\n",
    "        new_chain = single_top_chain;\n",
    "    }     \n",
    "    \n",
    "    nentries = (Int_t)new_chain->GetEntries();\n",
    "    cout << \"Processing: \"+name_sample << endl;\n",
    "\n",
    "    for(int ii=0; ii<nentries*fraction; ii++)\n",
    "    {\n",
    "        nbytes = new_chain->GetEntry(ii);\n",
    "\n",
    "        if(name_sample!=\"data\"){\n",
    "            //Scale factors\n",
    "            float scaleFactor = scaleFactor_ELE*scaleFactor_MUON*scaleFactor_LepTRIGGER*scaleFactor_PILEUP;\n",
    "\n",
    "            //MC weight\n",
    "            float m_mcWeight = mcWeight;\n",
    "\n",
    "            // read input option\n",
    "            if(name_sample == \"single\"){ m_mcWeight = (mcWeight/TMath::Abs(mcWeight)); } // set to 1 or -1 for single top MCs\n",
    "\n",
    "            //Total weight\n",
    "            weight = scaleFactor*m_mcWeight;\n",
    "        }\n",
    "    \n",
    "        if(lepton_trigger_cut(trigE, trigM) == false) continue;\n",
    "    \n",
    "        unsigned int lep_index1 = 0;\n",
    "        unsigned int lep_index2 = 0;\n",
    "    \n",
    "        if(good_leptons_n_cut(lep_n, *lep_isTightID, *lep_pt, *lep_eta, *lep_phi, *lep_E, *lep_type, *lep_ptcone30,\n",
    "                              *lep_etcone20, *lep_trackd0pvunbiased, *lep_tracksigd0pvunbiased, \n",
    "                              *lep_z0, lep_index1, lep_index2) == false) continue;\n",
    "    \n",
    "        if(flavour_leptons_cut(*lep_type, lep_index1, lep_index2)==false) continue;\n",
    "    \n",
    "        if(opposite_charges_cut(*lep_charge, lep_index1, lep_index2)==false) continue;\n",
    "\n",
    "        float mLL = 0, ptLL = 0, dPhi_LL = 0, dPhiLLmet = 0, mt = 0; // mases are in GeV, the same for ptLL\n",
    "        calculation_lepton_variables(*lep_pt, *lep_eta, *lep_phi, *lep_E, met_et, mLL, ptLL, dPhi_LL, dPhiLLmet, mt, \n",
    "                                     lep_index1, lep_index2);    \n",
    "    \n",
    "        if(selection_goodjets_and_zero_bjets_cut(jet_n, *jet_pt, *jet_eta, *jet_jvt, *jet_MV2c10)==false) continue;\n",
    "    \n",
    "        if(low_mass_meson_resonances_DY_and_ggF_regions_cut(met_et, mLL, dPhiLLmet, ptLL, dPhi_LL)==false) continue;\n",
    "    \n",
    "        fill_histograms(name_sample, weight, mLL, ptLL, met_et, mt);\n",
    "        pass++;\n",
    "    }\n",
    "\n",
    "    cout << \"nInt: \" << nentries << \"\\t\" << \"nOut: \" << pass << endl;\n",
    "\n",
    "}"
   ]
  },
  {
   "cell_type": "code",
   "execution_count": 31,
   "id": "ae7ddeff",
   "metadata": {},
   "outputs": [],
   "source": [
    "void WW_analysis()\n",
    "{\n",
    "    vector<TString> name_chains = {\"data\", \"ggH125_WW\", \"diboson\", \"z_jets\", \"w_jets\", \"ttbar_lep\", \"single_top\", \"VBFH125_WW\"};\n",
    "\n",
    "    for(int ii=0; ii<name_chains.size(); ii++){\n",
    "    analysis_of_samples(name_chains[ii]);\n",
    "    }\n",
    "}"
   ]
  },
  {
   "cell_type": "code",
   "execution_count": 32,
   "id": "37155b13",
   "metadata": {},
   "outputs": [
    {
     "name": "stdout",
     "output_type": "stream",
     "text": [
      "Processing: data\n",
      "nInt: 12205790\tnOut: 1851\n",
      "Processing: ggH125_WW\n",
      "nInt: 628685\tnOut: 47845\n",
      "Processing: diboson\n",
      "nInt: 14254335\tnOut: 81284\n",
      "Processing: z_jets\n",
      "nInt: 44153520\tnOut: 739\n",
      "Processing: w_jets\n",
      "nInt: 142069\tnOut: 35\n",
      "Processing: ttbar_lep\n",
      "nInt: 2910539\tnOut: 4128\n",
      "Processing: single_top\n",
      "nInt: 423766\tnOut: 1538\n",
      "Processing: VBFH125_WW\n",
      "nInt: 425131\tnOut: 33157\n"
     ]
    }
   ],
   "source": [
    "WW_analysis();"
   ]
  },
  {
   "cell_type": "code",
   "execution_count": 33,
   "id": "27d2487c",
   "metadata": {},
   "outputs": [],
   "source": [
    "TCanvas *canvas = new TCanvas();"
   ]
  },
  {
   "cell_type": "code",
   "execution_count": 34,
   "id": "2ec2b3da",
   "metadata": {},
   "outputs": [],
   "source": [
    "void plot_histogram(TString name_hist)\n",
    "{\n",
    "    TH1F *data_name_hist = new TH1F();\n",
    "    TH1F *mc_name_hist = new TH1F();\n",
    "    \n",
    "    if(name_hist == \"mLL\"){\n",
    "        data_name_hist = data_hist_mLL;\n",
    "        mc_name_hist = mc_hist_mLL;\n",
    "    }\n",
    "    if(name_hist == \"ptLL\"){\n",
    "        data_name_hist = data_hist_ptLL;\n",
    "        mc_name_hist = mc_hist_ptLL;\n",
    "    }\n",
    "    if(name_hist == \"etmiss\"){\n",
    "        data_name_hist = data_hist_etmiss;\n",
    "        mc_name_hist = mc_hist_etmiss;\n",
    "    }\n",
    "    if(name_hist == \"mt\"){\n",
    "        data_name_hist = data_hist_mt;\n",
    "        mc_name_hist = mc_hist_mt;\n",
    "    }\n",
    "    \n",
    "    TLegend *leg = new TLegend(0.6, 0.7, 0.85, 0.8); // Declares a legend to the function fit and his position in canvas\n",
    "    data_name_hist->SetMarkerStyle(20);\n",
    "    data_name_hist->SetMarkerColor(kBlack);\n",
    "    data_name_hist->SetStats(0);\n",
    "    //mc_name_hist->SetFillStyle(3454);\n",
    "    mc_name_hist->SetFillColorAlpha(kBlue, 0.35);\n",
    "    mc_name_hist->SetLineColor(kBlue);\n",
    "    mc_name_hist->SetStats(0);\n",
    "    mc_name_hist->SetLineWidth(2);\n",
    "    data_name_hist->SetMaximum(1.2*data_name_hist->GetMaximum());\n",
    "    data_name_hist->DrawNormalized(\"P\");\n",
    "    mc_name_hist->DrawNormalized(\"sameH\");\n",
    "    \n",
    "    leg->AddEntry(data_name_hist, \"Data\", \"lep\");\n",
    "    leg->AddEntry(mc_name_hist, \"MC samples\", \"l\");\n",
    "    leg->SetBorderSize();\n",
    "    leg->Draw();\n",
    "\n",
    "    TLatex l;\n",
    "    l.SetNDC();\n",
    "    l.SetTextFont(42);\n",
    "    l.SetTextColor(kBlack);\n",
    "    l.SetTextSize(0.04);  \n",
    "    l.DrawLatex(0.55,0.6,\"ATLAS Preliminary Open Data\");\n",
    "\n",
    "    TLatex o;\n",
    "    o.SetNDC();\n",
    "    o.SetTextFont(42);\n",
    "    o.SetTextColor(kBlack);\n",
    "    o.SetTextSize(0.03);\n",
    "    double dely = 0.04; \n",
    "    o.DrawLatex(0.55,0.6-dely, Form(\"#sqrt{s} = 13 TeV, 10 fb^{-1}\"));\n",
    "    o.DrawLatex(0.55,0.57-dely, Form(\"H #rightarrow W W^{*} #rightarrow e #nu #mu #nu\"));\n",
    "    \n",
    "    canvas->Draw();\n",
    "    canvas->Print(name_hist+\"_hist_WWAnalysis.pdf\");\n",
    "}"
   ]
  },
  {
   "cell_type": "code",
   "execution_count": 35,
   "id": "131f0741",
   "metadata": {},
   "outputs": [
    {
     "data": {
      "image/png": "[encoded data removed]",
      "text/plain": [
       "<IPython.core.display.Image object>"
      ]
     },
     "metadata": {},
     "output_type": "display_data"
    },
    {
     "name": "stderr",
     "output_type": "stream",
     "text": [
      "Info in <TCanvas::Print>: pdf file mLL_hist_WWAnalysis.pdf has been created\n"
     ]
    }
   ],
   "source": [
    "plot_histogram(\"mLL\");"
   ]
  },
  {
   "cell_type": "code",
   "execution_count": 36,
   "id": "6bb9473b",
   "metadata": {},
   "outputs": [
    {
     "data": {
      "image/png": "[encoded data removed]",
      "text/plain": [
       "<IPython.core.display.Image object>"
      ]
     },
     "metadata": {},
     "output_type": "display_data"
    },
    {
     "name": "stderr",
     "output_type": "stream",
     "text": [
      "Info in <TCanvas::Print>: pdf file ptLL_hist_WWAnalysis.pdf has been created\n"
     ]
    }
   ],
   "source": [
    "plot_histogram(\"ptLL\");"
   ]
  },
  {
   "cell_type": "code",
   "execution_count": 37,
   "id": "ad7d2790",
   "metadata": {},
   "outputs": [
    {
     "data": {
      "image/png": "[encoded data removed]",
      "text/plain": [
       "<IPython.core.display.Image object>"
      ]
     },
     "metadata": {},
     "output_type": "display_data"
    },
    {
     "name": "stderr",
     "output_type": "stream",
     "text": [
      "Info in <TCanvas::Print>: pdf file etmiss_hist_WWAnalysis.pdf has been created\n"
     ]
    }
   ],
   "source": [
    "plot_histogram(\"etmiss\");"
   ]
  },
  {
   "cell_type": "code",
   "execution_count": 38,
   "id": "80998e89",
   "metadata": {},
   "outputs": [
    {
     "data": {
      "image/png": "[encoded data removed]",
      "text/plain": [
       "<IPython.core.display.Image object>"
      ]
     },
     "metadata": {},
     "output_type": "display_data"
    },
    {
     "name": "stderr",
     "output_type": "stream",
     "text": [
      "Info in <TCanvas::Print>: pdf file mt_hist_WWAnalysis.pdf has been created\n"
     ]
    }
   ],
   "source": [
    "plot_histogram(\"mt\");"
   ]
  }
 ],
 "metadata": {
  "kernelspec": {
   "display_name": "ROOT C++",
   "language": "c++",
   "name": "root"
  },
  "language_info": {
   "codemirror_mode": "text/x-c++src",
   "file_extension": ".C",
   "mimetype": " text/x-c++src",
   "name": "c++"
  }
 },
 "nbformat": 4,
 "nbformat_minor": 5
}
