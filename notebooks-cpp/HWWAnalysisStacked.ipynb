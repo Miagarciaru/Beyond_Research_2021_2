{
 "cells": [
  {
   "cell_type": "markdown",
   "id": "b2db0a81",
   "metadata": {},
   "source": [
    "<CENTER>\n",
    "    <a href=\"http://opendata.atlas.cern/release/2020/documentation/notebooks/intro.html\" class=\"icons\"><img src=\"../images/ATLASOD.gif\" style=\"width:40%\"></a>\n",
    "</CENTER>"
   ]
  },
  {
   "cell_type": "markdown",
   "id": "729f0aee",
   "metadata": {},
   "source": [
    "# <CENTER><h1> Two-lepton final state: the case of SM Higgs boson production in the decay channel $H \\rightarrow WW^{*}$"
   ]
  },
  {
   "cell_type": "markdown",
   "id": "6c2a6890",
   "metadata": {},
   "source": [
    "This notebook provides the analysis of Higgs decaying into two W bosons with two leptons in the final state. The production of Higgs boson comes from gluon-gluon fusion and vector-boson fusion processes and they form our signal. The main source of background comes from:\n",
    "* non-resonat WW diboson production process\n",
    "* $t \\bar{t}$ and single top\n",
    "* non-resonant WZ and ZZ diboson production process\n",
    "* boson Z or W + jets (with the jet misidentified as a lepton)\n",
    "\n",
    "At the end of this analysis, you will be able to get plots with the mass of the two lepton system, the transverse momentum of the two lepton system, the missing transverse energy and the reconstructed mass with all of them having into account the contribution of MC samples (a stacked plot). Here you can find many tools to preform the desired selection of events, how to declarate histograms, variables, read ROOT files and so on. "
   ]
  },
  {
   "cell_type": "markdown",
   "id": "16ed0a0c",
   "metadata": {},
   "source": [
    "The Feynman diagram of our process can be shown below:"
   ]
  },
  {
   "cell_type": "markdown",
   "id": "54473075",
   "metadata": {},
   "source": [
    "$H \\rightarrow WW \\rightarrow e^{-} \\bar{\\nu_{e}} \\mu^{+} \\nu_{\\mu}$ | $H \\rightarrow WW \\rightarrow \\mu^{-} \\bar{\\nu_{\\mu}} e^{+} \\nu_{e}$ |\n",
    ":-------------------------:|:-------------------------:\n",
    "![Graviton 4e](../images/HWWenumunu.png)  |  ![Graviton 4 mu](../images/HWWmunuposnu.png) | "
   ]
  },
  {
   "cell_type": "markdown",
   "id": "831fc0a8",
   "metadata": {},
   "source": [
    "The first step is to load some basic libraries of c++:"
   ]
  },
  {
   "cell_type": "code",
   "execution_count": 1,
   "id": "ee0e84aa",
   "metadata": {},
   "outputs": [],
   "source": [
    "#include <TChain.h>\n",
    "#include <vector>\n",
    "#include <TFile.h>\n",
    "#include <iostream>\n",
    "#include <string>\n",
    "#include <stdio.h>"
   ]
  },
  {
   "cell_type": "markdown",
   "id": "fd773333",
   "metadata": {},
   "source": [
    "The data we want to use to perform our analysis can be found in [folder 2 lep](https://atlas-opendata.web.cern.ch/atlas-opendata/samples/2020/2lep/). Here you will see the data and MC samples that corresponds to 2 leptons in the final state. We also define a variable named lumi, which represents the luminosity and it is equal to 10 $fb^{-1}$. If we want to run the analysis over a fraction of the whole data and MC samples, we can define another variable named fraction, which will be defined equal to 1.0 as default. However, you can change this fraction value and see how this can affect the final result shown in the final plot:"
   ]
  },
  {
   "cell_type": "code",
   "execution_count": 2,
   "id": "6795b435",
   "metadata": {},
   "outputs": [],
   "source": [
    "float lumi = 10.; //fb^{-1}\n",
    "float fraction = 1.0;\n",
    "TString path = \"https://atlas-opendata.web.cern.ch/atlas-opendata/samples/2020/2lep/\";  "
   ]
  },
  {
   "cell_type": "markdown",
   "id": "32a21de0",
   "metadata": {},
   "source": [
    "Next, we define some maps which will represent the main groups of background in our analysis for MC samples. These maps will save the name of each ROOT file used for the analysis and their corresponding scale given by a weight factor. This weight factor is given by considering the efficiency of calorimeters, the sum of all weights for each sample and the cross section for each sample. All of this parameter can be found in the sample.txt file in the same folder of this notebook."
   ]
  },
  {
   "cell_type": "code",
   "execution_count": 3,
   "id": "97d9dc14",
   "metadata": {},
   "outputs": [],
   "source": [
    "std::map<TString, float> db;\n",
    "std::map<TString, float> stop;\n",
    "std::map<TString, float> vj;\n",
    "std::map<TString, float> ttb;\n",
    "std::map<TString, float> h;"
   ]
  },
  {
   "cell_type": "markdown",
   "id": "b508a0c3",
   "metadata": {},
   "source": [
    "Once we have defined the maps, we can start by defining the signal and backgrounds histograms we are going to fill, taking into account the variables of our interest:\n",
    "* mLL: mass of the two lepton system\n",
    "* ptLL: transverse momentum of the two lepton system\n",
    "* etmiss: missing transverse energy \n",
    "* mt: reconstructed mass"
   ]
  },
  {
   "cell_type": "code",
   "execution_count": 4,
   "id": "edf7c9d3",
   "metadata": {},
   "outputs": [],
   "source": [
    "//data:\n",
    "TH1F *data_hist_mLL = new TH1F(\"data_hist_mLL\", \"Mass of Dilepton System; m_{ll} [GeV];Events / bin\", 25, 0, 100);\n",
    "TH1F *data_hist_ptLL = new TH1F(\"data_hist_ptLL\", \"Transverse Momentum of Dilepton System; p_{T}^{ll} [GeV];Events / bin\", 30, 0, 200);\n",
    "TH1F *data_hist_etmiss = new TH1F(\"data_hist_etmiss\", \"Missing Transverse Momentum;E_{T}^{miss} [GeV];Events / bin\", 20, 0,200);\n",
    "TH1F *data_hist_mt = new TH1F(\"data_hist_mt\", \"Dilepton System Transverse Mass; m_{T} [GeV];Events / bin\", 15, 50, 200);\n",
    "\n",
    "//ggH125_WW and VBFH125_WW (Higgs):\n",
    "TH1F *higgs_hist_mLL = new TH1F(\"higgs_hist_mLL\", \"Mass of Dilepton System; m_{ll} [GeV];Events / bin\", 25, 0, 100);\n",
    "TH1F *higgs_hist_ptLL = new TH1F(\"higgs_hist_ptLL\", \"Transverse Momentum of Dilepton System; p_{T}^{ll} [GeV];Events / bin\", 30, 0, 200);\n",
    "TH1F *higgs_hist_etmiss = new TH1F(\"higgs_hist_etmiss\", \"Missing Transverse Momentum;E_{T}^{miss} [GeV];Events / bin\", 20, 0,200);\n",
    "TH1F *higgs_hist_mt = new TH1F(\"higgs_hist_mt\", \"Dilepton System Transverse Mass; m_{T} [GeV];Events / bin\", 15, 50, 200);\n",
    "\n",
    "//diboson VBFH125_WW\n",
    "TH1F *diboson_hist_mLL = new TH1F(\"diboson_hist_mLL\", \"Mass of Dilepton System; m_{ll} [GeV];Events / bin\", 25, 0, 100);\n",
    "TH1F *diboson_hist_ptLL = new TH1F(\"diboson_hist_ptLL\", \"Transverse Momentum of Dilepton System; p_{T}^{ll} [GeV];Events / bin\", 30, 0, 200);\n",
    "TH1F *diboson_hist_etmiss = new TH1F(\"diboson_hist_etmiss\", \"Missing Transverse Momentum;E_{T}^{miss} [GeV];Events / bin\", 20, 0,200);\n",
    "TH1F *diboson_hist_mt = new TH1F(\"diboson_hist_mt\", \"Dilepton System Transverse Mass; m_{T} [GeV];Events / bin\", 15, 50, 200);\n",
    "\n",
    "//V+jets\n",
    "TH1F *vjets_hist_mLL = new TH1F(\"vjets_hist_mLL\", \"Mass of Dilepton System; m_{ll} [GeV];Events / bin\", 25, 0, 100);\n",
    "TH1F *vjets_hist_ptLL = new TH1F(\"vjets_hist_ptLL\", \"Transverse Momentum of Dilepton System; p_{T}^{ll} [GeV];Events / bin\", 30, 0, 200);\n",
    "TH1F *vjets_hist_etmiss = new TH1F(\"vjets_hist_etmiss\", \"Missing Transverse Momentum;E_{T}^{miss} [GeV];Events / bin\", 20, 0,200);\n",
    "TH1F *vjets_hist_mt = new TH1F(\"vjets_hist_mt\", \"Dilepton System Transverse Mass; m_{T} [GeV];Events / bin\", 15, 50, 200);\n",
    "\n",
    "//ttbar\n",
    "TH1F *ttbar_hist_mLL = new TH1F(\"ttbar_hist_mLL\", \"Mass of Dilepton System; m_{ll} [GeV];Events / bin\", 25, 0, 100);\n",
    "TH1F *ttbar_hist_ptLL = new TH1F(\"ttbar_hist_ptLL\", \"Transverse Momentum of Dilepton System; p_{T}^{ll} [GeV];Events / bin\", 30, 0, 200);\n",
    "TH1F *ttbar_hist_etmiss = new TH1F(\"ttbar_hist_etmiss\", \"Missing Transverse Momentum;E_{T}^{miss} [GeV];Events / bin\", 20, 0,200);\n",
    "TH1F *ttbar_hist_mt = new TH1F(\"ttbar_hist_mt\", \"Dilepton System Transverse Mass; m_{T} [GeV];Events / bin\", 15, 50, 200);\n",
    "\n",
    "//single top\n",
    "TH1F *single_top_hist_mLL = new TH1F(\"single_top_hist_mLL\", \"Mass of Dilepton System; m_{ll} [GeV];Events / bin\", 25, 0, 100);\n",
    "TH1F *single_top_hist_ptLL = new TH1F(\"single_top_hist_ptLL\", \"Transverse Momentum of Dilepton System; p_{T}^{ll} [GeV];Events / bin\", 30, 0, 200);\n",
    "TH1F *single_top_hist_etmiss = new TH1F(\"single_top_hist_etmiss\", \"Missing Transverse Momentum;E_{T}^{miss} [GeV];Events / bin\", 20, 0,200);\n",
    "TH1F *single_top_hist_mt = new TH1F(\"single_top_hist_mt\", \"Dilepton System Transverse Mass; m_{T} [GeV];Events / bin\", 15, 50, 200);"
   ]
  },
  {
   "cell_type": "markdown",
   "id": "2d23e4a2",
   "metadata": {},
   "source": [
    "In order to save the information storaged in the ROOT files, we define all variables we are going to use in the next code line: "
   ]
  },
  {
   "cell_type": "code",
   "execution_count": 5,
   "id": "c9337954",
   "metadata": {},
   "outputs": [],
   "source": [
    "Float_t         mcWeight;\n",
    "Float_t         scaleFactor_PILEUP;\n",
    "Float_t         scaleFactor_ELE;\n",
    "Float_t         scaleFactor_MUON;\n",
    "Float_t         scaleFactor_LepTRIGGER;\n",
    "Bool_t          trigE;\n",
    "Bool_t          trigM;\n",
    "UInt_t          lep_n;\n",
    "vector<float>   *lep_pt;\n",
    "vector<float>   *lep_eta;\n",
    "vector<float>   *lep_phi;\n",
    "vector<float>   *lep_E;\n",
    "vector<float>   *lep_z0;\n",
    "vector<int>     *lep_charge;\n",
    "vector<unsigned int> *lep_type;\n",
    "vector<bool>    *lep_isTightID;\n",
    "vector<float>   *lep_ptcone30;\n",
    "vector<float>   *lep_etcone20;\n",
    "vector<float>   *lep_trackd0pvunbiased;\n",
    "vector<float>   *lep_tracksigd0pvunbiased;\n",
    "Float_t         met_et;\n",
    "Float_t         met_phi;\n",
    "UInt_t          jet_n;\n",
    "vector<float>   *jet_pt;\n",
    "vector<float>   *jet_eta;\n",
    "vector<float>   *jet_phi;\n",
    "vector<float>   *jet_E;\n",
    "vector<float>   *jet_jvt;\n",
    "vector<float>   *jet_MV2c10;"
   ]
  },
  {
   "cell_type": "markdown",
   "id": "79420b43",
   "metadata": {},
   "source": [
    "For all samples we use, we have to rewrite the variables defined previously, so we create a function that receives the name of the chain (We mean, the name of the background or the data depending on which sample we are analysing), the name of the sample and their DSID (a number that identifies each MC sample). This function returns a tree with the information of the sample and rewrites the variables we use at the same time. It also reads the information of samples by editing the tuple path, so it is important to separate data and MC samples because they are storaged in different folders into the [folder 2 lep](https://atlas-opendata.web.cern.ch/atlas-opendata/samples/2020/2lep/). It is only needed to consider an extra variable of type TString named prefix in order to divide them:"
   ]
  },
  {
   "cell_type": "code",
   "execution_count": 6,
   "id": "172b1721",
   "metadata": {},
   "outputs": [],
   "source": [
    "TTree* set_branch_address(TString name_chain, TString name_sample, int DSID_id)\n",
    "{\n",
    "    ostringstream DSID;\n",
    "    DSID << DSID_id;\n",
    "    TString sDSID = DSID.str();\n",
    "    \n",
    "    TString prefix, fileString;\n",
    "    \n",
    "    if(name_chain==\"data\"){\n",
    "        prefix = \"Data/\";\n",
    "        \n",
    "    }\n",
    "    else{\n",
    "        prefix = \"MC/mc_\"+sDSID+\".\";\n",
    "    }\n",
    "    \n",
    "    fileString = path+prefix+name_sample+\".2lep.root\";\n",
    "    \n",
    "    TFile *file = TFile::Open(fileString);\n",
    "    TTree *tree = (TTree*) file->Get(\"mini\");\n",
    "    \n",
    "    tree->SetBranchAddress(\"trigE\", &trigE); \n",
    "    tree->SetBranchAddress(\"trigM\", &trigM); \n",
    "    tree->SetBranchAddress(\"lep_isTightID\", &lep_isTightID); \n",
    "    tree->SetBranchAddress(\"lep_pt\", &lep_pt); \n",
    "    tree->SetBranchAddress(\"lep_eta\", &lep_eta); \n",
    "    tree->SetBranchAddress(\"lep_phi\", &lep_phi); \n",
    "    tree->SetBranchAddress(\"lep_E\", &lep_E); \n",
    "    tree->SetBranchAddress(\"lep_n\", &lep_n); \n",
    "    tree->SetBranchAddress(\"lep_type\", &lep_type); \n",
    "    tree->SetBranchAddress(\"lep_ptcone30\", &lep_ptcone30); \n",
    "    tree->SetBranchAddress(\"lep_etcone20\", &lep_etcone20);\n",
    "    tree->SetBranchAddress(\"lep_trackd0pvunbiased\", &lep_trackd0pvunbiased); \n",
    "    tree->SetBranchAddress(\"lep_tracksigd0pvunbiased\", &lep_tracksigd0pvunbiased); \n",
    "    tree->SetBranchAddress(\"lep_z0\", &lep_z0); \n",
    "    tree->SetBranchAddress(\"lep_type\", &lep_type); \n",
    "    tree->SetBranchAddress(\"lep_charge\", &lep_charge); \n",
    "    tree->SetBranchAddress(\"met_et\", &met_et); \n",
    "    tree->SetBranchAddress(\"jet_n\", &jet_n);\n",
    "    tree->SetBranchAddress(\"jet_pt\", &jet_pt); \n",
    "    tree->SetBranchAddress(\"jet_eta\", &jet_eta);\n",
    "    tree->SetBranchAddress(\"jet_jvt\", &jet_jvt); \n",
    "    tree->SetBranchAddress(\"jet_MV2c10\", &jet_MV2c10); \n",
    "    \n",
    "    tree->SetBranchAddress(\"mcWeight\", &mcWeight); \n",
    "    tree->SetBranchAddress(\"scaleFactor_PILEUP\", &scaleFactor_PILEUP); \n",
    "    tree->SetBranchAddress(\"scaleFactor_ELE\", &scaleFactor_ELE); \n",
    "    tree->SetBranchAddress(\"scaleFactor_MUON\", &scaleFactor_MUON); \n",
    "    tree->SetBranchAddress(\"scaleFactor_LepTRIGGER\", &scaleFactor_LepTRIGGER); \n",
    "    \n",
    "    return tree; \n",
    "}"
   ]
  },
  {
   "cell_type": "markdown",
   "id": "d761b3b7",
   "metadata": {},
   "source": [
    "The scaling histogram function will allow us to scale the histograms to compare data and the contribution of MC samples. This function uses the weight of scaling due to efficiency of the calorimeters, the sum of weights for MC and the cross section samples to scale the contributions of all samples. Of course, the data samples are not needed to be scaled, this only apply for MC samples:"
   ]
  },
  {
   "cell_type": "code",
   "execution_count": 7,
   "id": "ba9a6ab1",
   "metadata": {},
   "outputs": [],
   "source": [
    "void scaling_histogram(TString name_chain, TString name_sample, int n_sample, TString name_hist, TH1F *hist_sample)\n",
    "{\n",
    "    if(name_chain==\"data\"){\n",
    "        if(n_sample==0){ \n",
    "            if(name_hist==\"mLL\"){ data_hist_mLL = (TH1F*) hist_sample->Clone();} \n",
    "            if(name_hist==\"ptLL\"){ data_hist_ptLL = (TH1F*) hist_sample->Clone();}\n",
    "            if(name_hist==\"etmiss\"){ data_hist_etmiss = (TH1F*) hist_sample->Clone();}\n",
    "            if(name_hist==\"mt\"){ data_hist_mt = (TH1F*) hist_sample->Clone();}            \n",
    "        }\n",
    "        if(n_sample!=0){ \n",
    "            if(name_hist==\"mLL\"){ data_hist_mLL->Add(hist_sample);}\n",
    "            if(name_hist==\"ptLL\"){ data_hist_ptLL->Add(hist_sample);}\n",
    "            if(name_hist==\"etmiss\"){ data_hist_etmiss->Add(hist_sample);}\n",
    "            if(name_hist==\"mt\"){ data_hist_mt->Add(hist_sample);}        \n",
    "        }\n",
    "    }\n",
    "    \n",
    "    if(name_chain == \"diboson\"){\n",
    "        for(std::map<TString, float>::iterator it = db.begin(); it != db.end(); ++it){\n",
    "            if(name_sample==it->first){\n",
    "                hist_sample->Scale(it->second);\n",
    "                if(n_sample==0){ \n",
    "                    if(name_hist==\"mLL\"){ diboson_hist_mLL = (TH1F*) hist_sample->Clone();} \n",
    "                    if(name_hist==\"ptLL\"){ diboson_hist_ptLL = (TH1F*) hist_sample->Clone();}\n",
    "                    if(name_hist==\"etmiss\"){ diboson_hist_etmiss = (TH1F*) hist_sample->Clone();}\n",
    "                    if(name_hist==\"mt\"){ diboson_hist_mt = (TH1F*) hist_sample->Clone();}\n",
    "                }\n",
    "                if(n_sample!=0){ \n",
    "                    if(name_hist==\"mLL\"){ diboson_hist_mLL->Add(hist_sample);}\n",
    "                    if(name_hist==\"ptLL\"){ diboson_hist_ptLL->Add(hist_sample);}\n",
    "                    if(name_hist==\"etmiss\"){ diboson_hist_etmiss->Add(hist_sample);}\n",
    "                    if(name_hist==\"mt\"){ diboson_hist_mt->Add(hist_sample);}\n",
    "                }\n",
    "            }\n",
    "        }\n",
    "    } \n",
    "    if(name_chain == \"single_top\"){\n",
    "        for(std::map<TString, float>::iterator it = stop.begin(); it != stop.end(); ++it){\n",
    "            if(name_sample==it->first){\n",
    "                hist_sample->Scale(it->second);\n",
    "                if(n_sample==0){ \n",
    "                    if(name_hist==\"mLL\"){ single_top_hist_mLL = (TH1F*) hist_sample->Clone();} \n",
    "                    if(name_hist==\"ptLL\"){ single_top_hist_ptLL = (TH1F*) hist_sample->Clone();}\n",
    "                    if(name_hist==\"etmiss\"){ single_top_hist_etmiss = (TH1F*) hist_sample->Clone();}\n",
    "                    if(name_hist==\"mt\"){ single_top_hist_mt = (TH1F*) hist_sample->Clone();}\n",
    "                }\n",
    "                if(n_sample!=0){ \n",
    "                    if(name_hist==\"mLL\"){ single_top_hist_mLL->Add(hist_sample);}\n",
    "                    if(name_hist==\"ptLL\"){ single_top_hist_ptLL->Add(hist_sample);}\n",
    "                    if(name_hist==\"etmiss\"){ single_top_hist_etmiss->Add(hist_sample);}\n",
    "                    if(name_hist==\"mt\"){ single_top_hist_mt->Add(hist_sample);}\n",
    "                }\n",
    "            }\n",
    "        }\n",
    "    } \n",
    "    if(name_chain == \"vjets\"){\n",
    "        for(std::map<TString, float>::iterator it = vj.begin(); it != vj.end(); ++it){\n",
    "            if(name_sample==it->first){\n",
    "                hist_sample->Scale(it->second);\n",
    "                if(n_sample==0){ \n",
    "                    if(name_hist==\"mLL\"){ vjets_hist_mLL = (TH1F*) hist_sample->Clone();} \n",
    "                    if(name_hist==\"ptLL\"){ vjets_hist_ptLL = (TH1F*) hist_sample->Clone();}\n",
    "                    if(name_hist==\"etmiss\"){ vjets_hist_etmiss = (TH1F*) hist_sample->Clone();}\n",
    "                    if(name_hist==\"mt\"){ vjets_hist_mt = (TH1F*) hist_sample->Clone();}\n",
    "                }\n",
    "                if(n_sample!=0){ \n",
    "                    if(name_hist==\"mLL\"){ vjets_hist_mLL->Add(hist_sample);}\n",
    "                    if(name_hist==\"ptLL\"){ vjets_hist_ptLL->Add(hist_sample);}\n",
    "                    if(name_hist==\"etmiss\"){ vjets_hist_etmiss->Add(hist_sample);}\n",
    "                    if(name_hist==\"mt\"){ vjets_hist_mt->Add(hist_sample);}\n",
    "                }\n",
    "            }\n",
    "        }\n",
    "    }       \n",
    "    if(name_chain == \"ttbar\"){\n",
    "        for(std::map<TString, float>::iterator it = ttb.begin(); it != ttb.end(); ++it){\n",
    "            if(name_sample==it->first){\n",
    "                hist_sample->Scale(it->second);\n",
    "                if(n_sample==0){ \n",
    "                    if(name_hist==\"mLL\"){ ttbar_hist_mLL = (TH1F*) hist_sample->Clone();} \n",
    "                    if(name_hist==\"ptLL\"){ ttbar_hist_ptLL = (TH1F*) hist_sample->Clone();}\n",
    "                    if(name_hist==\"etmiss\"){ ttbar_hist_etmiss = (TH1F*) hist_sample->Clone();}\n",
    "                    if(name_hist==\"mt\"){ ttbar_hist_mt = (TH1F*) hist_sample->Clone();}\n",
    "                }\n",
    "                if(n_sample!=0){ \n",
    "                    if(name_hist==\"mLL\"){ ttbar_hist_mLL->Add(hist_sample);}\n",
    "                    if(name_hist==\"ptLL\"){ ttbar_hist_ptLL->Add(hist_sample);}\n",
    "                    if(name_hist==\"etmiss\"){ ttbar_hist_etmiss->Add(hist_sample);}\n",
    "                    if(name_hist==\"mt\"){ ttbar_hist_mt->Add(hist_sample);}\n",
    "                }\n",
    "            }\n",
    "        }\n",
    "    }\n",
    "    if(name_chain == \"higgs\"){\n",
    "        for(std::map<TString, float>::iterator it = h.begin(); it != h.end(); ++it){\n",
    "            if(name_sample==it->first){\n",
    "                hist_sample->Scale(it->second);\n",
    "                if(n_sample==0){ \n",
    "                    if(name_hist==\"mLL\"){ higgs_hist_mLL = (TH1F*) hist_sample->Clone();} \n",
    "                    if(name_hist==\"ptLL\"){ higgs_hist_ptLL = (TH1F*) hist_sample->Clone();}\n",
    "                    if(name_hist==\"etmiss\"){ higgs_hist_etmiss = (TH1F*) hist_sample->Clone();}\n",
    "                    if(name_hist==\"mt\"){ higgs_hist_mt = (TH1F*) hist_sample->Clone();}\n",
    "                }\n",
    "                if(n_sample!=0){ \n",
    "                    if(name_hist==\"mLL\"){ higgs_hist_mLL->Add(hist_sample);}\n",
    "                    if(name_hist==\"ptLL\"){ higgs_hist_ptLL->Add(hist_sample);}\n",
    "                    if(name_hist==\"etmiss\"){ higgs_hist_etmiss->Add(hist_sample);}\n",
    "                    if(name_hist==\"mt\"){ higgs_hist_mt->Add(hist_sample);}\n",
    "                }\n",
    "            }\n",
    "        }\n",
    "    }\n",
    "}"
   ]
  },
  {
   "cell_type": "markdown",
   "id": "6aa3a4f2",
   "metadata": {},
   "source": [
    "Now, we define a function that computes the factor weight due to the information in the samples.txt file. Altough this proccess was done manually, you could edit it in order to read information for the sample.txt automatically by using the library fstream. We didn't use it in order to save time for the analysis. If you need to add samples, you will have to look for their information in the samples.txt file. "
   ]
  },
  {
   "cell_type": "code",
   "execution_count": 8,
   "id": "e43489b8",
   "metadata": {},
   "outputs": [],
   "source": [
    "void get_xsec_weight()\n",
    "{\n",
    "    // sample - xsec - red_eff - sumw - nevt; look for the sample.txt if you add a sample to the analysis\n",
    "    float xsec=0, red_eff=0, sumw=0; \n",
    "        \n",
    "    //diboson\n",
    "    \n",
    "    //ZqqZll\t\t2.20355112\t\t1\t\t3439266.11559\t\t5317000\n",
    "    xsec=2.20355112, red_eff=1.0, sumw=3439266.11559;\n",
    "    db[\"ZqqZll\"] = lumi*1000*xsec/(red_eff*sumw); \n",
    "    \n",
    "    //WqqZll\t\t3.4328\t\t1\t\t241438.72705\t\t5124000\n",
    "    xsec=3.4328, red_eff=1.0, sumw=241438.72705;\n",
    "    db[\"WqqZll\"] = lumi*1000*xsec/(red_eff*sumw); \n",
    "         \n",
    "    //WpqqWmlv\t\t24.708\t\t1\t\t998250.783475\t\t6673000\n",
    "    xsec=24.708, red_eff=1.0, sumw=998250.783475;\n",
    "    db[\"WpqqWmlv\"] = lumi*1000*xsec/(red_eff*sumw);\n",
    "    \n",
    "    //WplvWmqq\t\t24.724\t\t1\t\t1069526.41899\t\t7115000\n",
    "    xsec=24.724, red_eff=1.0, sumw=1069526.41899;\n",
    "    db[\"WplvWmqq\"] = lumi*1000*xsec/(red_eff*sumw);\n",
    "    \n",
    "    //WlvZqq\t\t11.42\t\t1\t\t1111991.15979\t\t7100000\n",
    "    xsec=11.42, red_eff=1.0, sumw=1111991.15979;\n",
    "    db[\"WlvZqq\"] = lumi*1000*xsec/(red_eff*sumw);\n",
    "    \n",
    "    //llll\t\t1.2578\t\t1\t\t7538705.8077\t\t17825300\n",
    "    xsec=1.2578, red_eff=1.0, sumw=7538705.8077;\n",
    "    db[\"llll\"] = lumi*1000*xsec/(red_eff*sumw);    \n",
    "    \n",
    "    //lllv\t\t4.6049\t\t1\t\t5441475.00407\t\t15772084\n",
    "    xsec=4.6049, red_eff=1.0, sumw=5441475.00407;\n",
    "    db[\"lllv\"] = lumi*1000*xsec/(red_eff*sumw);\n",
    "\n",
    "    //llvv\t\t12.466\t\t1\t\t5039259.9696\t\t14803000\n",
    "    xsec=12.466, red_eff=1.0, sumw=5039259.9696;\n",
    "    db[\"llvv\"] = lumi*1000*xsec/(red_eff*sumw);\n",
    "    \n",
    "    //lvvv\t\t3.2286\t\t1\t\t1727991.07441\t\t5922600\n",
    "    xsec=3.2286, red_eff=1.0, sumw=1727991.07441;\n",
    "    db[\"lvvv\"] = lumi*1000*xsec/(red_eff*sumw);\n",
    "    \n",
    "    //Single top\n",
    "    \n",
    "    //single_top_tchan\t\t44.152\t\t1\t\t0.218165148808\t\t4986200\n",
    "    xsec=44.152, red_eff=1.0, sumw=0.218165148808;\n",
    "    stop[\"single_top_tchan\"] = lumi*1000*xsec/(red_eff*sumw);\n",
    "    \n",
    "    //single_antitop_tchan\t\t26.276\t\t1\t\t0.128694693283\t\t4989800\n",
    "    xsec=26.276, red_eff=1.0, sumw=0.128694693283;\n",
    "    stop[\"single_antitop_tchan\"] = lumi*1000*xsec/(red_eff*sumw);\n",
    "    \n",
    "    //single_top_schan\t\t2.06121\t\t1\t\t0.00204856751068\t\t997800\n",
    "    xsec=2.06121, red_eff=1.0, sumw=0.00204856751068;\n",
    "    stop[\"single_top_schan\"] = lumi*1000*xsec/(red_eff*sumw);\n",
    "    \n",
    "    //single_antitop_schan\t\t1.288662\t\t1\t\t0.00125651986173\t\t995400\n",
    "    xsec=1.288662, red_eff=1.0, sumw=0.00125651986173;\n",
    "    stop[\"single_antitop_schan\"] = lumi*1000*xsec/(red_eff*sumw);\n",
    "    \n",
    "    //single_top_wtchan\t\t35.845486\t\t1\t\t4865800\t\t4985800\n",
    "    xsec=35.845486, red_eff=1.0, sumw=4865800;\n",
    "    stop[\"single_top_wtchan\"] = lumi*1000*xsec/(red_eff*sumw);\n",
    "    \n",
    "    //single_antitop_wtchan\t\t35.824406\t\t1\t\t4945600\t\t4985600\n",
    "    xsec=35.824406, red_eff=1.0, sumw=4945600;\n",
    "    stop[\"single_antitop_wtchan\"] = lumi*1000*xsec/(red_eff*sumw);\n",
    "    \n",
    "    //v jets\n",
    "\n",
    "    //Zee\t\t1950.5295\t\t1\t\t150277594200\t\t79045597\n",
    "    xsec=1950.5295, red_eff=1.0, sumw=150277594200;\n",
    "    vj[\"Zee\"] = lumi*1000*xsec/(red_eff*sumw);\n",
    "    \n",
    "    //Zmumu\t\t1950.6321\t\t1\t\t147334691090\t\t77497800\n",
    "    xsec=1950.6321, red_eff=1.0, sumw=147334691090;\n",
    "    vj[\"Zmumu\"] = lumi*1000*xsec/(red_eff*sumw);\n",
    "    \n",
    "    //Ztautau\t\t1950.6321\t\t1\t\t56171652547.3\t\t29546000\n",
    "    xsec=1950.6321, red_eff=1.0, sumw=56171652547.3;\n",
    "    vj[\"Ztautau\"] = lumi*1000*xsec/(red_eff*sumw);\n",
    "     \n",
    "    //Wplusenu\t\t11500.4632\t\t1\t\t473389396815\t\t41870000\n",
    "    xsec=11500.4632, red_eff=1.0, sumw=473389396815;\n",
    "    vj[\"Wplusenu\"] = lumi*1000*xsec/(red_eff*sumw);    \n",
    "    \n",
    "    //Wplusmunu\t\t11500.4632\t\t1\t\t446507925520\t\t39493600\n",
    "    xsec=11500.4632, red_eff=1.0, sumw=446507925520;\n",
    "    vj[\"Wplusmunu\"] = lumi*1000*xsec/(red_eff*sumw);\n",
    "    \n",
    "    //Wplustaunu\t\t11500.4632\t\t1\t\t670928468875\t\t59343600\n",
    "    xsec=11500.4632, red_eff=1.0, sumw=670928468875;\n",
    "    vj[\"Wplustaunu\"] = lumi*1000*xsec/(red_eff*sumw);\n",
    "    \n",
    "    //Wminusenu\t\t8579.63498\t\t1\t\t247538642447\t\t29886000\n",
    "    xsec=8579.63498, red_eff=1.0, sumw=247538642447;\n",
    "    vj[\"Wminusenu\"] = lumi*1000*xsec/(red_eff*sumw);\n",
    "    \n",
    "    //Wminusmunu\t\t8579.63498\t\t1\t\t264338188182\t\t31915400\n",
    "    xsec=8579.63498, red_eff=1.0, sumw=264338188182;\n",
    "    vj[\"Wminusmunu\"] = lumi*1000*xsec/(red_eff*sumw);\n",
    "    \n",
    "    //Wminustaunu\t\t8579.63498\t\t1\t\t165195850954\t\t19945400\n",
    "    xsec=8579.63498, red_eff=1.0, sumw=165195850954;\n",
    "    vj[\"Wminustaunu\"] = lumi*1000*xsec/(red_eff*sumw);\n",
    "    \n",
    "    //ttbar_lep\n",
    "    \n",
    "    //ttbar_lep\t\t452.693559\t\t1\t\t49386600\t\t49386600\n",
    "    xsec=452.693559, red_eff=1.0, sumw=49386600;\n",
    "    ttb[\"ttbar_lep\"] = lumi*1000*xsec/(red_eff*sumw);   \n",
    "    \n",
    "    //ggH125_WW\n",
    "\n",
    "    //ggH125_WW2lep\t\t0.1481173588\t\t1\t\t55832659.6908\t\t1972000\n",
    "    xsec=0.1481173588, red_eff=1.0, sumw=55832659.6908;\n",
    "    h[\"ggH125_WW2lep\"] = lumi*1000*xsec/(red_eff*sumw);\n",
    "    \n",
    "    //VBFH125_WW\n",
    "    \n",
    "    //VBFH125_WW2lep\t\t0.02020229148\t\t1\t\t4389990.08913\t\t1175000\n",
    "    xsec=0.02020229148, red_eff=1.0, sumw=4389990.08913;\n",
    "    h[\"VBFH125_WW2lep\"] = lumi*1000*xsec/(red_eff*sumw);\n",
    "\n",
    "}"
   ]
  },
  {
   "cell_type": "markdown",
   "id": "5eb505b2",
   "metadata": {},
   "source": [
    "## Changing a cut"
   ]
  },
  {
   "cell_type": "markdown",
   "id": "1c2c7706",
   "metadata": {},
   "source": [
    "Finally, we are going to apply the corresponding cuts of our analysis. For this reason, we create an individual function for each cut. This would allow us to see the effect of applying each cut over the samples files by separated if we wanted. Of course, we could create only one function that contains all cuts but it wouldn't allow us to see the effects of applying every cut by separated, it would shown us the final events after all cuts so the idea is to keep them separated."
   ]
  },
  {
   "cell_type": "markdown",
   "id": "86aa6628",
   "metadata": {},
   "source": [
    "### Lepton trigger cut"
   ]
  },
  {
   "cell_type": "markdown",
   "id": "2a8e79d1",
   "metadata": {},
   "source": [
    "This cut needs the trigE and trigM variables. We want to choose events that have a either trigE or trigM bool variables equal to True. This requirement tells us that at least, either an electron or muon has been identified in the event."
   ]
  },
  {
   "cell_type": "code",
   "execution_count": 9,
   "id": "b80d5d85",
   "metadata": {},
   "outputs": [],
   "source": [
    "bool lepton_trigger_cut(bool trigE, bool trigM)\n",
    "{\n",
    "    if(trigE || trigM){ return true;}\n",
    "    return false;\n",
    "}"
   ]
  },
  {
   "cell_type": "markdown",
   "id": "18f25d5a",
   "metadata": {},
   "source": [
    "### Good leptons number cut"
   ]
  },
  {
   "cell_type": "markdown",
   "id": "2fa9f51e",
   "metadata": {},
   "source": [
    "This cut needs the lepton number, if the lepton is Tight ID, the pT, $\\eta$, $\\phi$, type, ptcone30, etcone30, trackd0pvunbiased, tracksigd0pvunbiased and z0 of each lepton in the event. We want to choose events that have only two good leptons according to:\n",
    "\n",
    "* Lepton is tight ID\n",
    "* Lepton pT>15GeV\n",
    "* Isolated lepton (lep_ptcone30/lep_pt and lep_etcone20/lep_pt less than 0.1)\n",
    "* If the lepton is an electron, $|\\eta|<2.4$ and $1.37<|\\eta|$ or $|\\eta|>1.52$\n",
    "* If the lepton is a muon, $|\\eta|<2.5$\n",
    "\n",
    "If the event doesn't fulfill this requirement, the event is droped. At the end, we assign the index of the good leptons to two variables that are passed by reference, which are lep_index1 and lep_index_2 and they will be used after."
   ]
  },
  {
   "cell_type": "code",
   "execution_count": 10,
   "id": "c2d998df",
   "metadata": {},
   "outputs": [],
   "source": [
    "bool good_leptons_n_cut(unsigned int lep_n, vector<bool> lep_isTightID, vector<float> lep_pt, vector<float> lep_eta,\n",
    "                        vector<float> lep_phi, vector<float> lep_E, vector<unsigned int> lep_type, \n",
    "                        vector<float> lep_ptcone30, vector<float> lep_etcone20, vector<float> lep_trackd0pvunbiased, \n",
    "                        vector<float> lep_tracksigd0pvunbiased, vector<float> lep_z0, \n",
    "                        unsigned int &lep_index1, unsigned int &lep_index2)\n",
    "{\n",
    "    // Preselection of good leptons\n",
    "    int goodlep_index[lep_n];\n",
    "    int goodlep_n = 0;\n",
    "    int lep_index =0;\n",
    "      \n",
    "    for(unsigned int ii=0; ii<lep_n; ii++){\n",
    "        \n",
    "        TLorentzVector leptemp = TLorentzVector();  \n",
    "        leptemp.SetPtEtaPhiE(lep_pt[ii]/1000., lep_eta[ii], lep_phi[ii], lep_E[ii]/1000.);\n",
    "        \n",
    "        // Lepton is Tight\n",
    "        if( lep_isTightID[ii] == false ) continue;\n",
    "        // standard lepton isolation requirement => strict isolation\n",
    "        if( lep_pt[ii] <= 15000. ) continue;\n",
    "        if( lep_ptcone30[ii]/lep_pt[ii] >= 0.1 ) continue; \n",
    "        if( lep_etcone20[ii]/lep_pt[ii] >= 0.1 ) continue;\n",
    "        // electron selection\n",
    "        if( lep_type[ii]==11 && TMath::Abs(lep_eta[ii])<2.47 && (TMath::Abs(lep_eta[ii])<1.37 || \n",
    "                                                                 TMath::Abs(lep_eta[ii])>1.52) ){\n",
    "            \n",
    "            if( TMath::Abs(lep_trackd0pvunbiased[ii])/lep_tracksigd0pvunbiased[ii]>=5 ||\n",
    "                TMath::Abs(lep_z0[ii]*TMath::Sin(leptemp.Theta()))>=0.5) continue;    \n",
    "            \n",
    "            goodlep_n++;\n",
    "            goodlep_index[lep_index] = ii;\n",
    "            lep_index++;\n",
    "        }\n",
    "            \n",
    "        // muon selection\n",
    "        if( lep_type[ii]==13 && TMath::Abs(lep_eta[ii])<2.5 ){\n",
    "            \n",
    "            if( TMath::Abs(lep_trackd0pvunbiased[ii])/lep_tracksigd0pvunbiased[ii]>=3 || \n",
    "               TMath::Abs(lep_z0[ii]*TMath::Sin(leptemp.Theta()))>=0.5) continue;\n",
    "            \n",
    "            goodlep_n++;\n",
    "            goodlep_index[lep_index] = ii;\n",
    "            lep_index++;\n",
    "        }\n",
    "    }\n",
    "  \n",
    "    if(goodlep_n!=2){ return false;}\n",
    "    //Exactly two good leptons, leading lepton with pT > 22 GeV and the subleading lepton with pT > 15 GeV\n",
    "    lep_index1 = goodlep_index[0];\n",
    "    lep_index2 = goodlep_index[1];\n",
    "    if(lep_pt[lep_index1]<=22000. || lep_pt[lep_index2]<=15000.){ return false;}\n",
    "    return true;\n",
    "}"
   ]
  },
  {
   "cell_type": "markdown",
   "id": "0e28d0cd",
   "metadata": {},
   "source": [
    "### Flavour leptons cut"
   ]
  },
  {
   "cell_type": "markdown",
   "id": "54ca451f",
   "metadata": {},
   "source": [
    "Because we want one W boson to decay into an electron and neutrino, and the second one to decay into a muon and neutrino, we require that both leptons have different flavour in the final state for all events. If the event doesn't fulfill this requirement, the event is droped."
   ]
  },
  {
   "cell_type": "code",
   "execution_count": 11,
   "id": "527f0619",
   "metadata": {},
   "outputs": [],
   "source": [
    "//two different-flavour leptons\n",
    "bool flavour_leptons_cut(vector<unsigned int> lep_type, unsigned int lep_index1, unsigned int lep_index2)\n",
    "{\n",
    "    if( lep_type[lep_index1] == lep_type[lep_index2]){return false;} //leptons of same flavours return false\n",
    "    return true;\n",
    "}"
   ]
  },
  {
   "cell_type": "markdown",
   "id": "7b68d2f6",
   "metadata": {},
   "source": [
    "### Opposite charge leptons cut"
   ]
  },
  {
   "cell_type": "markdown",
   "id": "124908c0",
   "metadata": {},
   "source": [
    "This cut select events in which the two good leptons has opposite charges. The reason behind this requirement is that the two W bosons has opposite charges and leptons from the decays of these W bosons have to have different charges in order to keep the neutrality of charge. "
   ]
  },
  {
   "cell_type": "code",
   "execution_count": 12,
   "id": "70f811d5",
   "metadata": {},
   "outputs": [],
   "source": [
    "//opposite charge leptons\n",
    "bool opposite_charges_cut(vector<int> lep_charge, unsigned int lep_index1, unsigned int lep_index2)\n",
    "{\n",
    "    if( lep_charge[lep_index1]*lep_charge[lep_index2] > 0){ return false;} //Leptons of same charges return false\n",
    "    return true;\n",
    "}"
   ]
  },
  {
   "cell_type": "markdown",
   "id": "9c505e3d",
   "metadata": {},
   "source": [
    "### Number of good jets and bjets cut"
   ]
  },
  {
   "cell_type": "markdown",
   "id": "75cbd6fc",
   "metadata": {},
   "source": [
    "Basically, we wouldn't have jets in our final state because de two W bosons would decay into pair of leptons and neutrinos. However, this cut requires that events have at most one jet with $pT > 30 GeV$ and none bjets with $pT > 20 GeV$. In any case the accepted jets has to be in the range for $|\\eta|<2.5$ and pass the JVT cleaning. This is done because we don't want to exclude many events from our analysis and we want to consider them to keep a higher statistic. "
   ]
  },
  {
   "cell_type": "code",
   "execution_count": 13,
   "id": "a4e553c0",
   "metadata": {},
   "outputs": [],
   "source": [
    "bool selection_goodjets_and_zero_bjets_cut(unsigned int jet_n, vector<float> jet_pt, vector<float> jet_eta,\n",
    "                        vector<float> jet_jvt, vector<float> jet_MV2c10)\n",
    "{\n",
    "    //Preselection of good jets\n",
    "    int goodjet_n = 0;\n",
    "    int goodbjet_n = 0;\n",
    "    int goodjet_index[jet_n];\n",
    "    int jet_index = 0;\n",
    "    int goodbjet_index[jet_n];\n",
    "    int bjet_index = 0;\n",
    "  \n",
    "    for(unsigned int ii=0; ii<jet_n; ii++){\n",
    "        if( jet_pt[ii] <= 20000. || TMath::Abs(jet_eta[ii]) >= 2.5 ) continue;\n",
    "\n",
    "        // JVT cleaning\n",
    "        if ( jet_pt[ii] < 60000. ){\n",
    "            if( TMath::Abs(jet_eta[ii]) < 2.4 && jet_jvt[ii] <= 0.59 ) continue;\n",
    "        }\n",
    "        \n",
    "        // cut on 85% WP\n",
    "        if( jet_MV2c10[ii] > 0.1758475 ){\n",
    "            if(TMath::Abs(jet_eta[ii]) >= 2.5) continue;\n",
    "            goodbjet_n++;\n",
    "            goodbjet_index[bjet_index] = ii;\n",
    "            bjet_index++;\n",
    "        }\n",
    "    \n",
    "        if( jet_pt[ii] > 30000. ){\n",
    "            goodjet_n++;\n",
    "            goodjet_index[jet_index] = ii;\n",
    "            jet_index++;\n",
    "        }\n",
    "    }\n",
    "    \n",
    "    if( goodjet_n>1 || goodbjet_n!=0 ){ return false;}\n",
    "    \n",
    "    return true;\n",
    "}"
   ]
  },
  {
   "cell_type": "markdown",
   "id": "ae8825dc",
   "metadata": {},
   "source": [
    "### Low mass meson resonances and DY events; ggF regions cut"
   ]
  },
  {
   "cell_type": "markdown",
   "id": "e0198ff0",
   "metadata": {},
   "source": [
    "Finally, our last cut is applied to:\n",
    "\n",
    "* The mass of the two lepton system: $10 GeV < m_{ll} < 55 GeV $\n",
    "* Transverse momentum of the dilepton system: $p_{T}^{ll} > 30 GeV$\n",
    "* Azimuthal angle between the two leptons: $\\Delta \\phi (l, l) < 1.8$\n",
    "* Azimuthal angle between $E_{T}^{miss}$ and the dilepton system: $\\Delta \\phi (ll, E_{T}^{miss}) > \\pi / 2$\n"
   ]
  },
  {
   "cell_type": "code",
   "execution_count": 14,
   "id": "1a50580d",
   "metadata": {},
   "outputs": [],
   "source": [
    "// remove low mass meson resonances and DY events; ggF regions\n",
    "bool low_mass_meson_resonances_DY_and_ggF_regions_cut(float met_et, float mLL, float dPhiLLmet, float ptLL, \n",
    "                                                      float dPhi_LL)\n",
    "{\n",
    "    if( mLL<=10 || met_et<=20000.){ return false;}\n",
    "    if( dPhiLLmet<=TMath::Pi()/2 ){ return false;}\n",
    "    if( ptLL<=30 ){ return false;}\n",
    "    if( mLL>=55 ){return false;}\n",
    "    if( dPhi_LL>=1.8 ){return false;} \n",
    "\n",
    "    return true;\n",
    "}"
   ]
  },
  {
   "cell_type": "markdown",
   "id": "58b0b265",
   "metadata": {},
   "source": [
    "## Applying a cut"
   ]
  },
  {
   "cell_type": "markdown",
   "id": "31bef1cf",
   "metadata": {},
   "source": [
    "The following function computes the main variables that we are going to plot. This function requires the pT, $|\\eta|$, $|\\phi|$ and energy of both good leptons, and the missing transverse energy and also receives some variables by reference in roder to modify them (such as the $m_{ll}$, $p_{T}^{ll}$, $\\Delta \\phi (l, l)$, $\\Delta \\phi (ll, E_{T}^{miss})$ and the $m_{T}$)."
   ]
  },
  {
   "cell_type": "code",
   "execution_count": 15,
   "id": "52048029",
   "metadata": {},
   "outputs": [],
   "source": [
    "void calculation_lepton_variables(vector<float> lep_pt, vector<float> lep_eta, vector<float> lep_phi, vector<float> lep_E,\n",
    "                                  float met_et, float &mLL, float &ptLL, float &dPhi_LL, float &dPhiLLmet, float &mt, \n",
    "                                  unsigned int lep_index1, unsigned int lep_index2)\n",
    "{\n",
    "    // TLorentzVector definitions\n",
    "    TLorentzVector Lepton_1  = TLorentzVector();\n",
    "    TLorentzVector Lepton_2  = TLorentzVector();\n",
    "    TLorentzVector      MeT  = TLorentzVector();\n",
    "\n",
    "    Lepton_1.SetPtEtaPhiE(lep_pt[lep_index1], lep_eta[lep_index1], lep_phi[lep_index1],lep_E[lep_index1]);\n",
    "    Lepton_2.SetPtEtaPhiE(lep_pt[lep_index2], lep_eta[lep_index2], lep_phi[lep_index2],lep_E[lep_index2]);\n",
    "    MeT.SetPtEtaPhiE(met_et, 0, met_phi , met_et);\n",
    " \n",
    "    TLorentzVector Lepton_12 = TLorentzVector();\n",
    "    Lepton_12 = Lepton_1 + Lepton_2;\n",
    "  \n",
    "    mLL = Lepton_12.Mag()/1000.;\n",
    "    ptLL = Lepton_12.Pt()/1000.;\n",
    "  \n",
    "    dPhi_LL = TMath::Abs(lep_phi[lep_index1] - lep_phi[lep_index2]);\n",
    "    dPhi_LL = dPhi_LL < TMath::Pi() ? dPhi_LL : 2*TMath::Pi() - dPhi_LL;\n",
    "  \n",
    "    dPhiLLmet = TMath::Abs( Lepton_12.Phi() - MeT.Phi() );\n",
    "    dPhiLLmet = dPhiLLmet < TMath::Pi() ? dPhiLLmet : 2*TMath::Pi() - dPhiLLmet;\n",
    " \n",
    "    mt = TMath::Sqrt(2*Lepton_12.Pt()*MeT.Et()*(1-cos(Lepton_12.DeltaPhi(MeT))))/1000.;\n",
    "}"
   ]
  },
  {
   "cell_type": "markdown",
   "id": "eb766782",
   "metadata": {},
   "source": [
    "Now, we are going to create a function that performs the event selection for each sample. This function is named \"analysis of samples\" and requires a name chain (if the sample belongs to data or a main group of background in MC samples), the name sample, its DSID and a number of sample among all samples in its chain of files. This function creates a local histogram, fill it with the computed mass and scaling it with the factor weight saved in the maps, and finally adding it to globals histograms that will be stacked in the final plot."
   ]
  },
  {
   "cell_type": "code",
   "execution_count": 16,
   "id": "9a2d92de",
   "metadata": {},
   "outputs": [],
   "source": [
    "void analysis_of_samples(TString name_chain, TString name_sample, int DSID_id, int n_sample)\n",
    "{\n",
    "    int nbytes = 0;\n",
    "    int pass = 0;\n",
    "    \n",
    "    TH1F *hist_sample_mLL = new TH1F(\"hist_sample_mLL\", \"Mass of Dilepton System; m_{ll} [GeV];Events / bin\", 25, 0, 100);\n",
    "    TH1F *hist_sample_ptLL = new TH1F(\"hist_sample_ptLL\", \"Transverse Momentum of Dilepton System; p_{T}^{ll} [GeV];Events / bin\", 30, 0, 200);\n",
    "    TH1F *hist_sample_etmiss = new TH1F(\"hist_sample_etmiss\", \"Missing Transverse Momentum;E_{T}^{miss} [GeV];Events / bin\", 20, 0,200);\n",
    "    TH1F *hist_sample_mt = new TH1F(\"hist_sample_mt\", \"Dilepton System Transverse Mass; m_{T} [GeV];Events / bin\", 15, 50, 200);\n",
    "    \n",
    "    TTree *tree = new TTree(); \n",
    "    tree = set_branch_address(name_chain, name_sample, DSID_id);\n",
    "    int nentries = 0;\n",
    "    float weight = 0;\n",
    "\n",
    "    if(name_chain == \"data\"){ weight = 1.0; }\n",
    " \n",
    "    nentries = (Int_t)tree->GetEntries();\n",
    "    cout << \"\\t\" << \"Processing: \"+name_sample << endl;\n",
    "\n",
    "    for(int ii=0; ii<nentries*fraction; ii++)\n",
    "    {\n",
    "        nbytes = tree->GetEntry(ii);\n",
    "        \n",
    "        if(name_chain!=\"data\"){\n",
    "            //Scale factors\n",
    "            float scaleFactor = scaleFactor_ELE*scaleFactor_MUON*scaleFactor_LepTRIGGER*scaleFactor_PILEUP;\n",
    "\n",
    "            //MC weight\n",
    "            float m_mcWeight = mcWeight;\n",
    "\n",
    "            // read input option\n",
    "            if(name_sample == \"single\"){ m_mcWeight = (mcWeight/TMath::Abs(mcWeight)); } // set to 1 or -1 for single top MCs\n",
    "\n",
    "            //Total weight\n",
    "            weight = scaleFactor*m_mcWeight;\n",
    "        }\n",
    "        \n",
    "        if(lepton_trigger_cut(trigE, trigM) == false) continue;\n",
    "    \n",
    "        unsigned int lep_index1 = 0;\n",
    "        unsigned int lep_index2 = 0;\n",
    "    \n",
    "        if(good_leptons_n_cut(lep_n, *lep_isTightID, *lep_pt, *lep_eta, *lep_phi, *lep_E, *lep_type, *lep_ptcone30,\n",
    "                              *lep_etcone20, *lep_trackd0pvunbiased, *lep_tracksigd0pvunbiased, \n",
    "                              *lep_z0, lep_index1, lep_index2) == false) continue;\n",
    "    \n",
    "        if(flavour_leptons_cut(*lep_type, lep_index1, lep_index2)==false) continue;\n",
    "    \n",
    "        if(opposite_charges_cut(*lep_charge, lep_index1, lep_index2)==false) continue;\n",
    "\n",
    "        float mLL = 0, ptLL = 0, dPhi_LL = 0, dPhiLLmet = 0, mt = 0; // mases are in GeV, the same for ptLL\n",
    "        calculation_lepton_variables(*lep_pt, *lep_eta, *lep_phi, *lep_E, met_et, mLL, ptLL, dPhi_LL, dPhiLLmet, mt, \n",
    "                                     lep_index1, lep_index2);    \n",
    "    \n",
    "        if(selection_goodjets_and_zero_bjets_cut(jet_n, *jet_pt, *jet_eta, *jet_jvt, *jet_MV2c10)==false) continue;\n",
    "    \n",
    "        if(low_mass_meson_resonances_DY_and_ggF_regions_cut(met_et, mLL, dPhiLLmet, ptLL, dPhi_LL)==false) continue;\n",
    "     \n",
    "        hist_sample_mLL->Fill(mLL, weight);\n",
    "        hist_sample_ptLL->Fill(ptLL, weight);\n",
    "        hist_sample_etmiss->Fill(met_et/1000., weight);\n",
    "        hist_sample_mt->Fill(mt, weight);\n",
    "        \n",
    "        pass++;\n",
    "    }\n",
    "    \n",
    "    scaling_histogram(name_chain, name_sample, n_sample, \"mLL\", hist_sample_mLL);\n",
    "    scaling_histogram(name_chain, name_sample, n_sample, \"ptLL\", hist_sample_ptLL);\n",
    "    scaling_histogram(name_chain, name_sample, n_sample, \"etmiss\", hist_sample_etmiss);\n",
    "    scaling_histogram(name_chain, name_sample, n_sample, \"mt\", hist_sample_mt);\n",
    "    \n",
    "    cout << \"\\t\" << \"nInt: \" << nentries << \"\\t\" << \"nOut: \" << pass << endl;\n",
    "\n",
    "}"
   ]
  },
  {
   "cell_type": "markdown",
   "id": "da783eb8",
   "metadata": {},
   "source": [
    "Now, we are going to make a for loop for each group of samples (data and background groups of MC samples) and we will use the \"analysis of samples\" function to apply all cuts for all samples. In this function we can see all samples that are going to be used in the analysis and to what group they belong. If you want to add more samples, consider modify this function too."
   ]
  },
  {
   "cell_type": "code",
   "execution_count": 17,
   "id": "6f7b04e2",
   "metadata": {},
   "outputs": [],
   "source": [
    "void HWW_analysis()\n",
    "{   \n",
    "    get_xsec_weight();\n",
    "    vector<TString> data_samples = {\"data_A\", \"data_B\", \"data_C\", \"data_D\"};\n",
    "\n",
    "    vector<TString> diboson_samples = {\"ZqqZll\", \"WqqZll\", \"WpqqWmlv\", \"WplvWmqq\", \"WlvZqq\", \"llll\", \"lllv\", \"llvv\", \"lvvv\"};\n",
    "    vector<int> diboson_DSID = {363356, 363358, 363359, 363360, 363489, 363490, 363491, 363492, 363493};\n",
    "    \n",
    "    vector<TString> single_top_samples = {\"single_top_tchan\", \"single_antitop_tchan\", \"single_top_schan\", \n",
    "                                          \"single_antitop_schan\", \"single_top_wtchan\", \"single_antitop_wtchan\"};\n",
    "    vector<int> single_top_DSID = {410011, 410012, 410025, 410026, 410013, 410014};\n",
    "\n",
    "    vector<TString> vjets_samples = {\"Zee\", \"Zmumu\", \"Ztautau\", \"Wplusenu\", \"Wplusmunu\", \"Wplustaunu\", \"Wminusenu\", \n",
    "                                     \"Wminusmunu\", \"Wminustaunu\"};\n",
    "    vector<int> vjets_DSID = {361106, 361107, 361108, 361100, 361101, 361102, 361103, 361104, 361105};\n",
    "\n",
    "    vector<TString> ttbar_samples = {\"ttbar_lep\"};\n",
    "    vector<int> ttbar_DSID = {410000};\n",
    "\n",
    "    vector<TString> higgs_samples = {\"ggH125_WW2lep\", \"VBFH125_WW2lep\"};\n",
    "    vector<int> higgs_DSID = {345324, 345323};\n",
    "    \n",
    "    for(int ii=0; ii<data_samples.size(); ii++){\n",
    "        if(ii==0){ cout << \"Processing data samples: \" << endl; }\n",
    "        analysis_of_samples(\"data\", data_samples[ii], 0, ii); //Data samples don´t have DSID\n",
    "    }\n",
    "    \n",
    "    for(int ii=0; ii<diboson_samples.size(); ii++){\n",
    "        if(ii==0){ cout << \"Processing diboson samples: \" << endl; }\n",
    "        analysis_of_samples(\"diboson\", diboson_samples[ii], diboson_DSID[ii], ii); \n",
    "    }\n",
    "\n",
    "    for(int ii=0; ii<single_top_samples.size(); ii++){\n",
    "        if(ii==0){ cout << \"Processing single_top samples: \" << endl; }\n",
    "        analysis_of_samples(\"single_top\", single_top_samples[ii], single_top_DSID[ii], ii); \n",
    "    }\n",
    "    \n",
    "    for(int ii=0; ii<vjets_samples.size(); ii++){\n",
    "        if(ii==0){ cout << \"Processing vjets samples: \" << endl; }\n",
    "        analysis_of_samples(\"vjets\", vjets_samples[ii], vjets_DSID[ii], ii);\n",
    "    }\n",
    "    \n",
    "    for(int ii=0; ii<ttbar_samples.size(); ii++){\n",
    "        if(ii==0){ cout << \"Processing ttbar samples: \" << endl; }\n",
    "        analysis_of_samples(\"ttbar\", ttbar_samples[ii], ttbar_DSID[ii], ii); \n",
    "    }\n",
    "    \n",
    "    for(int ii=0; ii<higgs_samples.size(); ii++){\n",
    "        if(ii==0){ cout << \"Processing higgs samples: \" << endl; }\n",
    "        analysis_of_samples(\"higgs\", higgs_samples[ii], higgs_DSID[ii], ii); \n",
    "    }\n",
    "}"
   ]
  },
  {
   "cell_type": "markdown",
   "id": "70b9055b",
   "metadata": {},
   "source": [
    "Run the next line if you want to star the analysis:"
   ]
  },
  {
   "cell_type": "code",
   "execution_count": 18,
   "id": "2dc35f44",
   "metadata": {},
   "outputs": [
    {
     "name": "stdout",
     "output_type": "stream",
     "text": [
      "Processing data samples: \n",
      "\tProcessing: data_A\n",
      "\tnInt: 668152\tnOut: 106\n",
      "\tProcessing: data_B\n",
      "\tnInt: 2459370\tnOut: 387\n",
      "\tProcessing: data_C\n",
      "\tnInt: 3587872\tnOut: 562\n",
      "\tProcessing: data_D\n",
      "\tnInt: 5490396\tnOut: 796\n",
      "Processing diboson samples: \n",
      "\tProcessing: ZqqZll\n",
      "\tnInt: 1403146\tnOut: 227\n",
      "\tProcessing: WqqZll\n",
      "\tnInt: 1316619\tnOut: 225\n",
      "\tProcessing: WpqqWmlv\n",
      "\tnInt: 13375\tnOut: 7\n",
      "\tProcessing: WplvWmqq\n",
      "\tnInt: 14245\tnOut: 9\n",
      "\tProcessing: WlvZqq\n",
      "\tnInt: 28199\tnOut: 4\n",
      "\tProcessing: llll\n",
      "\tnInt: 4266124\tnOut: 6932\n",
      "\tProcessing: lllv\n",
      "\tnInt: 3791795\tnOut: 14415\n",
      "\tProcessing: llvv\n",
      "\tnInt: 3409043\tnOut: 59462\n",
      "\tProcessing: lvvv\n",
      "\tnInt: 11789\tnOut: 3\n",
      "Processing single_top samples: \n",
      "\tProcessing: single_top_tchan\n",
      "\tnInt: 36846\tnOut: 12\n",
      "\tProcessing: single_antitop_tchan\n",
      "\tnInt: 38933\tnOut: 12\n",
      "\tProcessing: single_top_schan\n",
      "\tnInt: 7086\tnOut: 1\n",
      "\tProcessing: single_antitop_schan\n",
      "\tnInt: 7513\tnOut: 1\n",
      "\tProcessing: single_top_wtchan\n",
      "\tnInt: 165554\tnOut: 756\n",
      "\tProcessing: single_antitop_wtchan\n",
      "\tnInt: 167834\tnOut: 756\n",
      "Processing vjets samples: \n",
      "\tProcessing: Zee\n",
      "\tnInt: 21848524\tnOut: 14\n",
      "\tProcessing: Zmumu\n",
      "\tnInt: 22122816\tnOut: 50\n",
      "\tProcessing: Ztautau\n",
      "\tnInt: 182180\tnOut: 675\n",
      "\tProcessing: Wplusenu\n",
      "\tnInt: 41502\tnOut: 8\n",
      "\tProcessing: Wplusmunu\n",
      "\tnInt: 35184\tnOut: 11\n",
      "\tProcessing: Wplustaunu\n",
      "\tnInt: 1774\tnOut: 1\n",
      "\tProcessing: Wminusenu\n",
      "\tnInt: 31893\tnOut: 6\n",
      "\tProcessing: Wminusmunu\n",
      "\tnInt: 30307\tnOut: 9\n",
      "\tProcessing: Wminustaunu\n",
      "\tnInt: 1409\tnOut: 0\n",
      "Processing ttbar samples: \n",
      "\tProcessing: ttbar_lep\n",
      "\tnInt: 2910539\tnOut: 4128\n",
      "Processing higgs samples: \n",
      "\tProcessing: ggH125_WW2lep\n",
      "\tnInt: 628685\tnOut: 47845\n",
      "\tProcessing: VBFH125_WW2lep\n",
      "\tnInt: 425131\tnOut: 33157\n"
     ]
    },
    {
     "name": "stderr",
     "output_type": "stream",
     "text": [
      "Warning in <TDavixFile::Append>: Replacing existing TH1: hist_sample_mLL (Potential memory leak).\n",
      "Warning in <TDavixFile::Append>: Replacing existing TH1: hist_sample_ptLL (Potential memory leak).\n",
      "Warning in <TDavixFile::Append>: Replacing existing TH1: hist_sample_etmiss (Potential memory leak).\n",
      "Warning in <TDavixFile::Append>: Replacing existing TH1: hist_sample_mt (Potential memory leak).\n",
      "Warning in <TDavixFile::Append>: Replacing existing TH1: hist_sample_mLL (Potential memory leak).\n",
      "Warning in <TDavixFile::Append>: Replacing existing TH1: hist_sample_ptLL (Potential memory leak).\n",
      "Warning in <TDavixFile::Append>: Replacing existing TH1: hist_sample_etmiss (Potential memory leak).\n",
      "Warning in <TDavixFile::Append>: Replacing existing TH1: hist_sample_mt (Potential memory leak).\n",
      "Warning in <TDavixFile::Append>: Replacing existing TH1: hist_sample_mLL (Potential memory leak).\n",
      "Warning in <TDavixFile::Append>: Replacing existing TH1: hist_sample_ptLL (Potential memory leak).\n",
      "Warning in <TDavixFile::Append>: Replacing existing TH1: hist_sample_etmiss (Potential memory leak).\n",
      "Warning in <TDavixFile::Append>: Replacing existing TH1: hist_sample_mt (Potential memory leak).\n",
      "Warning in <TDavixFile::Append>: Replacing existing TH1: hist_sample_mLL (Potential memory leak).\n",
      "Warning in <TDavixFile::Append>: Replacing existing TH1: hist_sample_ptLL (Potential memory leak).\n",
      "Warning in <TDavixFile::Append>: Replacing existing TH1: hist_sample_etmiss (Potential memory leak).\n",
      "Warning in <TDavixFile::Append>: Replacing existing TH1: hist_sample_mt (Potential memory leak).\n",
      "Warning in <TDavixFile::Append>: Replacing existing TH1: hist_sample_mLL (Potential memory leak).\n",
      "Warning in <TDavixFile::Append>: Replacing existing TH1: hist_sample_ptLL (Potential memory leak).\n",
      "Warning in <TDavixFile::Append>: Replacing existing TH1: hist_sample_etmiss (Potential memory leak).\n",
      "Warning in <TDavixFile::Append>: Replacing existing TH1: hist_sample_mt (Potential memory leak).\n",
      "Warning in <TDavixFile::Append>: Replacing existing TH1: hist_sample_mLL (Potential memory leak).\n",
      "Warning in <TDavixFile::Append>: Replacing existing TH1: hist_sample_ptLL (Potential memory leak).\n",
      "Warning in <TDavixFile::Append>: Replacing existing TH1: hist_sample_etmiss (Potential memory leak).\n",
      "Warning in <TDavixFile::Append>: Replacing existing TH1: hist_sample_mt (Potential memory leak).\n"
     ]
    }
   ],
   "source": [
    "HWW_analysis();"
   ]
  },
  {
   "cell_type": "markdown",
   "id": "2c7c8d6a",
   "metadata": {},
   "source": [
    "Finally, we create a function that are going to plot the final results. This function show us how to create legends, how to assign markers to data, stack the MC backgrounds contributions, put Latex text in the graph, print the canvas and save the final plot in a pdf file. Consider this tools if you want to beautify your plots in others analysis."
   ]
  },
  {
   "cell_type": "code",
   "execution_count": 19,
   "id": "d4f57da0",
   "metadata": {},
   "outputs": [],
   "source": [
    "void plot_histogram_stacked(TString name_hist)\n",
    "{   \n",
    "    TString title;\n",
    "    TString title_xaxis;\n",
    "    TString head_title;\n",
    "    \n",
    "    TLegend *leg = new TLegend(0.6, 0.47, 0.85, 0.82); // Declares a legend to the function fit and his position in canvas\n",
    "    \n",
    "    TH1F *data_hist_name = new TH1F();\n",
    "    TH1F *diboson_hist_name = new TH1F();\n",
    "    TH1F *single_top_hist_name = new TH1F();\n",
    "    TH1F *vjets_hist_name = new TH1F();\n",
    "    TH1F *ttbar_hist_name = new TH1F();\n",
    "    TH1F *higgs_hist_name = new TH1F();\n",
    "    \n",
    "    if(name_hist == \"mLL\"){\n",
    "        title = \"Mass of the two lepton system; \"; \n",
    "        title_xaxis = \"mLL [GeV]; \";\n",
    "        data_hist_name = data_hist_mLL;\n",
    "        diboson_hist_name = diboson_hist_mLL;\n",
    "        single_top_hist_name = single_top_hist_mLL;\n",
    "        vjets_hist_name = vjets_hist_mLL;\n",
    "        ttbar_hist_name = ttbar_hist_mLL;\n",
    "        higgs_hist_name = higgs_hist_mLL;\n",
    "    }\n",
    "    if(name_hist == \"ptLL\"){\n",
    "        title = \"Transverse Energy of the two lepton system; \"; \n",
    "        title_xaxis = \"ptLL [GeV]; \";\n",
    "        data_hist_name = data_hist_ptLL;\n",
    "        diboson_hist_name = diboson_hist_ptLL;\n",
    "        single_top_hist_name = single_top_hist_ptLL;\n",
    "        vjets_hist_name = vjets_hist_ptLL;\n",
    "        ttbar_hist_name = ttbar_hist_ptLL;\n",
    "        higgs_hist_name = higgs_hist_ptLL;\n",
    "    }\n",
    "    if(name_hist == \"etmiss\"){\n",
    "        title = \"Missing Energy Transverse; \"; \n",
    "        title_xaxis = \"MET [GeV]; \";       \n",
    "        data_hist_name = data_hist_etmiss;\n",
    "        diboson_hist_name = diboson_hist_etmiss;\n",
    "        single_top_hist_name = single_top_hist_etmiss;\n",
    "        vjets_hist_name = vjets_hist_etmiss;\n",
    "        ttbar_hist_name = ttbar_hist_etmiss;\n",
    "        higgs_hist_name = higgs_hist_etmiss;\n",
    "    }\n",
    "    if(name_hist == \"mt\"){\n",
    "        title = \"Transverse mass; \"; \n",
    "        title_xaxis = \"mt [GeV]; \"; \n",
    "        data_hist_name = data_hist_mt;\n",
    "        diboson_hist_name = diboson_hist_mt;\n",
    "        single_top_hist_name = single_top_hist_mt;\n",
    "        vjets_hist_name = vjets_hist_mt;\n",
    "        ttbar_hist_name = ttbar_hist_mt;\n",
    "        higgs_hist_name = higgs_hist_mt;\n",
    "    }      \n",
    "    \n",
    "    head_title = title+title_xaxis+\"Events\";\n",
    "    THStack* hstack = new THStack(\"hs\", head_title);\n",
    "    \n",
    "    data_hist_name->SetMarkerStyle(20);\n",
    "    data_hist_name->SetMarkerColor(kBlack);\n",
    "    data_hist_name->SetStats(0);\n",
    "       \n",
    "    diboson_hist_name->SetFillColor(kMagenta+1);\n",
    "    single_top_hist_name->SetFillColor(kCyan);\n",
    "    vjets_hist_name->SetFillColor(kGreen-4);\n",
    "    ttbar_hist_name->SetFillColor(kOrange);\n",
    "    higgs_hist_name->SetFillColor(kRed);\n",
    "    \n",
    "    hstack->Add(single_top_hist_name);\n",
    "    hstack->Add(ttbar_hist_name);\n",
    "    hstack->Add(vjets_hist_name);\n",
    "    hstack->Add(diboson_hist_name);\n",
    "    hstack->Add(higgs_hist_name);\n",
    "    hstack->SetMaximum(2.5*hstack->GetMaximum());\n",
    "    //hstack->SetMinimum(0);\n",
    "    // statistical error histogram\n",
    "    TH1F *h_err = (TH1F*) higgs_hist_name->Clone();\n",
    "    h_err->Add(diboson_hist_name);\n",
    "    h_err->Add(vjets_hist_name);\n",
    "    h_err->Add(ttbar_hist_name);\n",
    "    h_err->Add(single_top_hist_name);\n",
    "  \n",
    "    h_err->SetFillStyle(3004);\n",
    "    h_err->SetFillColor(kBlack);\n",
    "    h_err->SetLineColor(0);\n",
    "    h_err->SetMarkerStyle(1);\n",
    "\n",
    "    ///// Plotting\n",
    "    TCanvas *can = new TCanvas(\"can\",\"\", 600, 600);\n",
    "\n",
    "    hstack->Draw(\"hist\");\n",
    "    h_err->Draw(\"e2same\");\n",
    "    data_hist_name->Draw(\"epsame\");\n",
    "\n",
    "    leg->AddEntry(data_hist_name, \"Data\", \"lep\");\n",
    "    leg->AddEntry(higgs_hist_name,\"Higgs\",\"f\");\n",
    "    leg->AddEntry(diboson_hist_name,\"Diboson\",\"f\");\n",
    "    leg->AddEntry(vjets_hist_name,\"V+jets\",\"f\");\n",
    "    leg->AddEntry(ttbar_hist_name,\"t#bar{t}\",\"f\");\n",
    "    leg->AddEntry(single_top_hist_name,\"Single top\",\"f\");\n",
    "    leg->AddEntry(h_err,\"MC stat. uncertainty\",\"f\");\n",
    "    \n",
    "    leg->SetBorderSize();\n",
    "    leg->Draw();\n",
    "    \n",
    "    TLatex l;\n",
    "    l.SetNDC();\n",
    "    l.SetTextFont(42);\n",
    "    l.SetTextColor(kBlack);\n",
    "    l.SetTextSize(0.035);  \n",
    "    l.DrawLatex(0.15,0.8,Form(\"ATLAS Preliminary Open Data\"));\n",
    "\n",
    "    TLatex o;\n",
    "    o.SetNDC();\n",
    "    o.SetTextFont(42);\n",
    "    o.SetTextColor(kBlack);\n",
    "    o.SetTextSize(0.03);\n",
    "    double dely = 0.04; \n",
    "    o.DrawLatex(0.15,0.8-dely, Form(\"#sqrt{s} = 13 TeV, 10 fb^{-1}\"));\n",
    "    o.DrawLatex(0.15,0.76-dely, Form(\"G #rightarrow Z Z^{*} #rightarrow l^{+} l^{-} l^{+} l^{-}\"));   \n",
    "    \n",
    "    TString plotname = \"plots/HWW_Analysis_\"+name_hist+\".pdf\";\n",
    "    can->Draw();\n",
    "    can->Print(plotname);\n",
    "}"
   ]
  },
  {
   "cell_type": "markdown",
   "id": "35c607ff",
   "metadata": {},
   "source": [
    "Run the following code lines if you want to see the final plots:"
   ]
  },
  {
   "cell_type": "code",
   "execution_count": 20,
   "id": "f2599ec6",
   "metadata": {},
   "outputs": [
    {
     "data": {
      "image/png": "[encoded data removed]",
      "text/plain": [
       "<IPython.core.display.Image object>"
      ]
     },
     "metadata": {},
     "output_type": "display_data"
    },
    {
     "name": "stderr",
     "output_type": "stream",
     "text": [
      "Info in <TCanvas::Print>: pdf file plots/HWW_Analysis_mLL.pdf has been created\n"
     ]
    }
   ],
   "source": [
    "plot_histogram_stacked(\"mLL\");"
   ]
  },
  {
   "cell_type": "code",
   "execution_count": 21,
   "id": "0e6dfa72",
   "metadata": {},
   "outputs": [
    {
     "data": {
      "image/png": "[encoded data removed]",
      "text/plain": [
       "<IPython.core.display.Image object>"
      ]
     },
     "metadata": {},
     "output_type": "display_data"
    },
    {
     "name": "stderr",
     "output_type": "stream",
     "text": [
      "Warning in <TCanvas::Constructor>: Deleting canvas with same name: can\n",
      "Info in <TCanvas::Print>: pdf file plots/HWW_Analysis_ptLL.pdf has been created\n"
     ]
    }
   ],
   "source": [
    "plot_histogram_stacked(\"ptLL\");"
   ]
  },
  {
   "cell_type": "code",
   "execution_count": 22,
   "id": "4d5bb012",
   "metadata": {},
   "outputs": [
    {
     "data": {
      "image/png": "[encoded data removed]",
      "text/plain": [
       "<IPython.core.display.Image object>"
      ]
     },
     "metadata": {},
     "output_type": "display_data"
    },
    {
     "name": "stderr",
     "output_type": "stream",
     "text": [
      "Warning in <TCanvas::Constructor>: Deleting canvas with same name: can\n",
      "Info in <TCanvas::Print>: pdf file plots/HWW_Analysis_etmiss.pdf has been created\n"
     ]
    }
   ],
   "source": [
    "plot_histogram_stacked(\"etmiss\");"
   ]
  },
  {
   "cell_type": "code",
   "execution_count": 23,
   "id": "11b2ee36",
   "metadata": {},
   "outputs": [
    {
     "data": {
      "image/png": "[encoded data removed]",
      "text/plain": [
       "<IPython.core.display.Image object>"
      ]
     },
     "metadata": {},
     "output_type": "display_data"
    },
    {
     "name": "stderr",
     "output_type": "stream",
     "text": [
      "Warning in <TCanvas::Constructor>: Deleting canvas with same name: can\n",
      "Info in <TCanvas::Print>: pdf file plots/HWW_Analysis_mt.pdf has been created\n"
     ]
    }
   ],
   "source": [
    "plot_histogram_stacked(\"mt\");"
   ]
  }
 ],
 "metadata": {
  "kernelspec": {
   "display_name": "ROOT C++",
   "language": "c++",
   "name": "root"
  },
  "language_info": {
   "codemirror_mode": "text/x-c++src",
   "file_extension": ".C",
   "mimetype": " text/x-c++src",
   "name": "c++"
  }
 },
 "nbformat": 4,
 "nbformat_minor": 5
}
