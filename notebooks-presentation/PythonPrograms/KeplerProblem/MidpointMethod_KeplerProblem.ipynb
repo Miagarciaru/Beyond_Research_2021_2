{
 "cells": [
  {
   "cell_type": "code",
   "execution_count": 1,
   "id": "8cd0ea9e",
   "metadata": {},
   "outputs": [],
   "source": [
    "import numpy as np # for numerical calculations such as histogramming\n",
    "import matplotlib.pyplot as plt# for plotting"
   ]
  },
  {
   "cell_type": "code",
   "execution_count": 2,
   "id": "5e4e5c80",
   "metadata": {},
   "outputs": [],
   "source": [
    "N = 2 # Dimensions\n",
    "h = 0.0005\n",
    "e = 0.6\n",
    "PI = np.pi"
   ]
  },
  {
   "cell_type": "code",
   "execution_count": 3,
   "id": "05a57f26",
   "metadata": {},
   "outputs": [],
   "source": [
    "def function (t, q, ii):\n",
    "    f = -q[ii]/np.power(q[0]*q[0] + q[1]*q[1], 1.5)\n",
    "    return f"
   ]
  },
  {
   "cell_type": "code",
   "execution_count": 4,
   "id": "3e4ca4be",
   "metadata": {},
   "outputs": [],
   "source": [
    "def Midpoint (t, h, q, p):\n",
    "    qn = [0]*N\n",
    "    qm = [0]*N\n",
    "    pm = [0]*N\n",
    "    \n",
    "    ii = 0\n",
    "    for ii in range (0, N):\n",
    "        pm[ii] = p[ii] + (h/2.0)*function(t, q, ii) # Punto medio p\n",
    "        qn[ii] = q[ii] + h*pm[ii]\n",
    "        qm[ii] = (q[ii] + qn[ii])/2.0 # Punto medio q\n",
    "        \n",
    "    jj = 0\n",
    "    for jj in range (0, N):\n",
    "        p[jj] = p[jj] + h*function(t + h/2.0, qm, jj)\n",
    "    \n",
    "    kk = 0\n",
    "    # Actualización nuevos valores q\n",
    "    for kk in range (0, N):\n",
    "        q[kk] = qn[kk]"
   ]
  },
  {
   "cell_type": "code",
   "execution_count": 7,
   "id": "a4364435",
   "metadata": {},
   "outputs": [],
   "source": [
    "q = [1.0-e, 0]\n",
    "p = [0, np.sqrt((1.0 + e)/(1.0 - e))]\n",
    "\n",
    "x = []\n",
    "y = []\n",
    "\n",
    "t = 0\n",
    "while t <= 200*PI:\n",
    "    # Energía Total\n",
    "    H = (1.0/2.0)*(p[0]*p[0] + p[1]*p[1]) - 1.0/np.sqrt(q[0]*q[0] + q[1]*q[1])\n",
    "    # Momento Angular\n",
    "    L = q[0]*p[1] - q[1]*p[0]\n",
    "    #print(q[0], q[1], H, L)\n",
    "    x.append(q[0])\n",
    "    y.append(q[1])\n",
    "    Midpoint(t, h, q, p)\n",
    "    t += h"
   ]
  },
  {
   "cell_type": "code",
   "execution_count": 8,
   "id": "7b99c741",
   "metadata": {},
   "outputs": [
    {
     "data": {
      "text/plain": [
       "<matplotlib.legend.Legend at 0x7f5eec587eb0>"
      ]
     },
     "execution_count": 8,
     "metadata": {},
     "output_type": "execute_result"
    },
    {
     "data": {
      "image/png": "[encoded data removed]",
      "text/plain": [
       "<Figure size 432x288 with 1 Axes>"
      ]
     },
     "metadata": {
      "needs_background": "light"
     },
     "output_type": "display_data"
    }
   ],
   "source": [
    "plt.plot(x, y, label = 'Trajectory')\n",
    "plt.xlabel('q_[0]')\n",
    "plt.ylabel('q_[1]')\n",
    "plt.title(\"Midpoint Method\")\n",
    "plt.legend()"
   ]
  },
  {
   "cell_type": "code",
   "execution_count": null,
   "id": "659d0706",
   "metadata": {},
   "outputs": [],
   "source": []
  }
 ],
 "metadata": {
  "kernelspec": {
   "display_name": "Python 3",
   "language": "python",
   "name": "python3"
  },
  "language_info": {
   "codemirror_mode": {
    "name": "ipython",
    "version": 3
   },
   "file_extension": ".py",
   "mimetype": "text/x-python",
   "name": "python",
   "nbconvert_exporter": "python",
   "pygments_lexer": "ipython3",
   "version": "3.9.6"
  }
 },
 "nbformat": 4,
 "nbformat_minor": 5
}
