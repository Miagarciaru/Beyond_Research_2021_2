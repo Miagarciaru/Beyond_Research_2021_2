{
 "cells": [
  {
   "cell_type": "markdown",
   "id": "b0460143",
   "metadata": {},
   "source": [
    "# Conditional and Booleans"
   ]
  },
  {
   "cell_type": "markdown",
   "id": "c58a1621",
   "metadata": {},
   "source": [
    "The structure of a conditional if is as follow:"
   ]
  },
  {
   "cell_type": "code",
   "execution_count": 1,
   "id": "9877ffec",
   "metadata": {},
   "outputs": [
    {
     "name": "stdout",
     "output_type": "stream",
     "text": [
      "The conditional was true\n"
     ]
    }
   ],
   "source": [
    "if True:\n",
    "    print('The conditional was true')"
   ]
  },
  {
   "cell_type": "markdown",
   "id": "563cbb9a",
   "metadata": {},
   "source": [
    "What would happen if we change True by False? It would not print anything else:"
   ]
  },
  {
   "cell_type": "code",
   "execution_count": 2,
   "id": "17995e14",
   "metadata": {},
   "outputs": [],
   "source": [
    "if False:\n",
    "    print('The conditional was True')"
   ]
  },
  {
   "cell_type": "markdown",
   "id": "e92d7b64",
   "metadata": {},
   "source": [
    "However, It is more common that we want to compare if something is true or false, like a variable or a string with a determine value. In this case, we can define a variable called \"language\" and a value \"python\" as an example. Now, we want to know if language is equal to python: "
   ]
  },
  {
   "cell_type": "code",
   "execution_count": 3,
   "id": "26171b96",
   "metadata": {},
   "outputs": [
    {
     "name": "stdout",
     "output_type": "stream",
     "text": [
      "Conditional was true\n"
     ]
    }
   ],
   "source": [
    "language = 'Python'\n",
    "\n",
    "if language == 'Python':\n",
    "    print('Conditional was true')"
   ]
  },
  {
   "cell_type": "markdown",
   "id": "4f2f6aa9",
   "metadata": {},
   "source": [
    "Some common symbols to make comparison and enlisted here:\n",
    "Equal == ,\n",
    "Not Equal !=,\n",
    "Greater than >,\n",
    "Less than <,\n",
    "Greater or Equal >=,\n",
    "Less or Equal <=,\n",
    "Object Identity is."
   ]
  },
  {
   "cell_type": "markdown",
   "id": "8d6ad6a4",
   "metadata": {},
   "source": [
    "Now, we can add an else statement as follow:"
   ]
  },
  {
   "cell_type": "code",
   "execution_count": 4,
   "id": "afc3ac22",
   "metadata": {},
   "outputs": [
    {
     "name": "stdout",
     "output_type": "stream",
     "text": [
      "Not match\n"
     ]
    }
   ],
   "source": [
    "language = 'C++'\n",
    "\n",
    "if language == 'Python':\n",
    "    print('Language is Python')\n",
    "else:\n",
    "    print('Not match')"
   ]
  },
  {
   "cell_type": "markdown",
   "id": "83b6c8a7",
   "metadata": {},
   "source": [
    "A conditional that requires to verify if a variable language is equal to any of two values, like Python or Java, can be implemented using elif:"
   ]
  },
  {
   "cell_type": "code",
   "execution_count": 5,
   "id": "ae2a5fe5",
   "metadata": {},
   "outputs": [
    {
     "name": "stdout",
     "output_type": "stream",
     "text": [
      "Language is Java\n"
     ]
    }
   ],
   "source": [
    "language = 'Java'\n",
    "\n",
    "if language == 'Python':\n",
    "    print('Language is Python')\n",
    "elif language == 'Java':\n",
    "    print('Language is Java')\n",
    "else:\n",
    "    print('Not match')"
   ]
  },
  {
   "cell_type": "markdown",
   "id": "ae6f3682",
   "metadata": {},
   "source": [
    "Some programming languages have a switch case, like C++, but Python doesn't have it because it is enough to use a multiple elif in case we want to verify multiples cases."
   ]
  },
  {
   "cell_type": "code",
   "execution_count": 6,
   "id": "e085fc36",
   "metadata": {},
   "outputs": [
    {
     "name": "stdout",
     "output_type": "stream",
     "text": [
      "Language is JavaScript\n"
     ]
    }
   ],
   "source": [
    "language = 'JavaScript'\n",
    "\n",
    "if language == 'Python':\n",
    "    print('Language is Python')\n",
    "elif language == 'Java':\n",
    "    print('Language is Java')\n",
    "elif language == 'JavaScript':\n",
    "    print('Language is JavaScript')\n",
    "else:\n",
    "    print('Not match')"
   ]
  },
  {
   "cell_type": "markdown",
   "id": "fcefa29d",
   "metadata": {},
   "source": [
    "There are also some boolean operation like: and, or, not:"
   ]
  },
  {
   "cell_type": "code",
   "execution_count": 7,
   "id": "4dd38845",
   "metadata": {},
   "outputs": [
    {
     "name": "stdout",
     "output_type": "stream",
     "text": [
      "Bad Credentials\n"
     ]
    }
   ],
   "source": [
    "user = 'Admin'\n",
    "logged_in = False\n",
    "\n",
    "if user == 'Admin' and logged_in:\n",
    "    print('Admin page')\n",
    "else:\n",
    "    print('Bad Credentials')"
   ]
  },
  {
   "cell_type": "code",
   "execution_count": 8,
   "id": "5ea5b6b0",
   "metadata": {},
   "outputs": [
    {
     "name": "stdout",
     "output_type": "stream",
     "text": [
      "Admin page\n"
     ]
    }
   ],
   "source": [
    "user = 'Admin'\n",
    "logged_in = True\n",
    "\n",
    "if user == 'Admin' and logged_in:\n",
    "    print('Admin page')\n",
    "else:\n",
    "    print('Bad Credentials')"
   ]
  },
  {
   "cell_type": "markdown",
   "id": "14eec972",
   "metadata": {},
   "source": [
    "Lets check a code that involves the operator not:"
   ]
  },
  {
   "cell_type": "code",
   "execution_count": 9,
   "id": "015bd59d",
   "metadata": {},
   "outputs": [
    {
     "name": "stdout",
     "output_type": "stream",
     "text": [
      "Please Log In\n"
     ]
    }
   ],
   "source": [
    "user = 'Admin'\n",
    "logged_in = False\n",
    "\n",
    "if not logged_in:\n",
    "    print('Please Log In')\n",
    "else:\n",
    "    print('Welcome')"
   ]
  },
  {
   "cell_type": "markdown",
   "id": "c916b942",
   "metadata": {},
   "source": [
    "Now, we can compare the operators == and is:\n",
    "In the first case, the symbol == compare if two variables are equal in values, but not in the memory as do the symbol is:"
   ]
  },
  {
   "cell_type": "code",
   "execution_count": 10,
   "id": "779f4f71",
   "metadata": {},
   "outputs": [
    {
     "name": "stdout",
     "output_type": "stream",
     "text": [
      "140333836294528\n",
      "140333836294912\n",
      "True\n",
      "False\n"
     ]
    }
   ],
   "source": [
    "a = [1,2,3]\n",
    "b = [1,2,3]\n",
    "\n",
    "print(id(a))\n",
    "print(id(b))\n",
    "print(a == b)\n",
    "print (a is b)"
   ]
  },
  {
   "cell_type": "markdown",
   "id": "2ff886d2",
   "metadata": {},
   "source": [
    "As you can see in the previous code, we define two list which contain the same elements and these list a and b are equal in values. However, the id in memory in both cases are diferent. That is the reason why the code prints True althogh a and b are not the same object (in memory)."
   ]
  },
  {
   "cell_type": "code",
   "execution_count": 11,
   "id": "9f40ea6c",
   "metadata": {},
   "outputs": [
    {
     "name": "stdout",
     "output_type": "stream",
     "text": [
      "140333836360576\n",
      "140333836360576\n",
      "True\n",
      "True\n"
     ]
    }
   ],
   "source": [
    "a = [1,2,3]\n",
    "b = a\n",
    "\n",
    "print(id(a))\n",
    "print(id(b))\n",
    "print(a == b)\n",
    "print(a is b)"
   ]
  },
  {
   "cell_type": "markdown",
   "id": "99a83a47",
   "metadata": {},
   "source": [
    "In the previous code we have already fixed our problem, because we do equal b to a in the second code line and you can verify that both has the same value and the same location memory."
   ]
  },
  {
   "cell_type": "markdown",
   "id": "9a634fa3",
   "metadata": {},
   "source": [
    "# Loops"
   ]
  },
  {
   "cell_type": "markdown",
   "id": "96bb83d4",
   "metadata": {},
   "source": [
    "If we want to do a loop, a useful tool is to use a for:"
   ]
  },
  {
   "cell_type": "code",
   "execution_count": 12,
   "id": "4e616f18",
   "metadata": {},
   "outputs": [
    {
     "name": "stdout",
     "output_type": "stream",
     "text": [
      "1\n",
      "2\n",
      "3\n",
      "4\n",
      "5\n",
      "6\n"
     ]
    }
   ],
   "source": [
    "nums = [1,2,3,4,5,6]\n",
    "\n",
    "for num in nums:\n",
    "    print(num)"
   ]
  },
  {
   "cell_type": "markdown",
   "id": "ac87199e",
   "metadata": {},
   "source": [
    "Sometimes is useful to break out a loop, in which case is used the break command:"
   ]
  },
  {
   "cell_type": "code",
   "execution_count": 13,
   "id": "94638a56",
   "metadata": {},
   "outputs": [
    {
     "name": "stdout",
     "output_type": "stream",
     "text": [
      "1\n",
      "2\n",
      "Founded\n"
     ]
    }
   ],
   "source": [
    "nums = [1,2,3,4,5,6]\n",
    "\n",
    "for num in nums:\n",
    "    if num == 3:\n",
    "        print('Founded')\n",
    "        break\n",
    "    print(num)"
   ]
  },
  {
   "cell_type": "code",
   "execution_count": 14,
   "id": "aa3f6f14",
   "metadata": {},
   "outputs": [
    {
     "name": "stdout",
     "output_type": "stream",
     "text": [
      "1\n",
      "2\n",
      "3\n",
      "Founded\n"
     ]
    }
   ],
   "source": [
    "nums = [1,2,3,4,5,6]\n",
    "\n",
    "for num in nums:\n",
    "    print(num)\n",
    "    if num == 3:\n",
    "        print('Founded')\n",
    "        break"
   ]
  },
  {
   "cell_type": "markdown",
   "id": "ec61eda4",
   "metadata": {},
   "source": [
    "We can also use the statement continue in order to don't break out the loop but print the message Founded:"
   ]
  },
  {
   "cell_type": "code",
   "execution_count": 15,
   "id": "b7ec5079",
   "metadata": {},
   "outputs": [
    {
     "name": "stdout",
     "output_type": "stream",
     "text": [
      "1\n",
      "2\n",
      "Founded\n",
      "4\n",
      "5\n",
      "6\n"
     ]
    }
   ],
   "source": [
    "nums = [1,2,3,4,5,6]\n",
    "\n",
    "for num in nums:\n",
    "    if num == 3:\n",
    "        print('Founded')\n",
    "        continue\n",
    "    print(num)"
   ]
  },
  {
   "cell_type": "markdown",
   "id": "b32f83cd",
   "metadata": {},
   "source": [
    "A loop into a loop is easily specify by using to for as follow:"
   ]
  },
  {
   "cell_type": "code",
   "execution_count": 16,
   "id": "0abaac4a",
   "metadata": {},
   "outputs": [
    {
     "name": "stdout",
     "output_type": "stream",
     "text": [
      "1 a\n",
      "1 b\n",
      "1 c\n",
      "2 a\n",
      "2 b\n",
      "2 c\n",
      "3 a\n",
      "3 b\n",
      "3 c\n",
      "4 a\n",
      "4 b\n",
      "4 c\n",
      "5 a\n",
      "5 b\n",
      "5 c\n",
      "6 a\n",
      "6 b\n",
      "6 c\n"
     ]
    }
   ],
   "source": [
    "nums = [1,2,3,4,5,6]\n",
    "\n",
    "for num in nums:\n",
    "    for letter in 'abc':\n",
    "        print(num, letter)"
   ]
  },
  {
   "cell_type": "markdown",
   "id": "01b1c8d3",
   "metadata": {},
   "source": [
    "If we want to make a loop that is repeated a certain times, you can use the statement in range:"
   ]
  },
  {
   "cell_type": "code",
   "execution_count": 17,
   "id": "d3f9254a",
   "metadata": {},
   "outputs": [
    {
     "name": "stdout",
     "output_type": "stream",
     "text": [
      "0\n",
      "1\n",
      "2\n",
      "3\n",
      "4\n",
      "5\n",
      "6\n",
      "7\n",
      "8\n",
      "9\n"
     ]
    }
   ],
   "source": [
    "for i in range (10):\n",
    "    print(i)"
   ]
  },
  {
   "cell_type": "markdown",
   "id": "9b37f89a",
   "metadata": {},
   "source": [
    "In the previous code, the starting number was 0 and it doesn't consider the last number in the bracket (10). If we want to change the starting and final number, we can type something like that:"
   ]
  },
  {
   "cell_type": "code",
   "execution_count": 18,
   "id": "0e719386",
   "metadata": {},
   "outputs": [
    {
     "name": "stdout",
     "output_type": "stream",
     "text": [
      "1\n",
      "2\n",
      "3\n",
      "4\n",
      "5\n",
      "6\n",
      "7\n",
      "8\n",
      "9\n",
      "10\n"
     ]
    }
   ],
   "source": [
    "for i in range (1, 11):\n",
    "    print(i)"
   ]
  },
  {
   "cell_type": "markdown",
   "id": "e6baa4ee",
   "metadata": {},
   "source": [
    "Considering that the last number is not taking into account! in range (1, 11) prints the numbers 1 to 10 without consider the number 11."
   ]
  },
  {
   "cell_type": "markdown",
   "id": "075d2fd3",
   "metadata": {},
   "source": [
    "The same result can be obtained using while instead of for:"
   ]
  },
  {
   "cell_type": "code",
   "execution_count": 19,
   "id": "c67aa6ce",
   "metadata": {},
   "outputs": [
    {
     "name": "stdout",
     "output_type": "stream",
     "text": [
      "1\n",
      "2\n",
      "3\n",
      "4\n",
      "5\n",
      "6\n",
      "7\n",
      "8\n",
      "9\n",
      "10\n"
     ]
    }
   ],
   "source": [
    "x = 1\n",
    "\n",
    "while x <= 10:\n",
    "    print(x)\n",
    "    x += 1"
   ]
  },
  {
   "cell_type": "markdown",
   "id": "ab7715ab",
   "metadata": {},
   "source": [
    "Of course, as the same case using loop for, we can use the statement break into a while:"
   ]
  },
  {
   "cell_type": "code",
   "execution_count": 20,
   "id": "e93cf4b3",
   "metadata": {},
   "outputs": [
    {
     "name": "stdout",
     "output_type": "stream",
     "text": [
      "1\n",
      "2\n",
      "3\n",
      "4\n"
     ]
    }
   ],
   "source": [
    "x = 1\n",
    "\n",
    "while x <= 10:\n",
    "    if x == 5:\n",
    "        break\n",
    "    print(x)\n",
    "    x += 1"
   ]
  },
  {
   "cell_type": "code",
   "execution_count": null,
   "id": "6ef31192",
   "metadata": {},
   "outputs": [],
   "source": []
  }
 ],
 "metadata": {
  "kernelspec": {
   "display_name": "Python 3",
   "language": "python",
   "name": "python3"
  },
  "language_info": {
   "codemirror_mode": {
    "name": "ipython",
    "version": 3
   },
   "file_extension": ".py",
   "mimetype": "text/x-python",
   "name": "python",
   "nbconvert_exporter": "python",
   "pygments_lexer": "ipython3",
   "version": "3.9.6"
  }
 },
 "nbformat": 4,
 "nbformat_minor": 5
}
