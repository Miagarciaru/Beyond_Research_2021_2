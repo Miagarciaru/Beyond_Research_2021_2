{
 "cells": [
  {
   "cell_type": "code",
   "execution_count": 1,
   "id": "b9d32bdb",
   "metadata": {},
   "outputs": [],
   "source": [
    "#include <TChain.h>\n",
    "#include <vector>\n",
    "#include <TFile.h>\n",
    "#include <iostream>\n",
    "#include <string>\n",
    "#include <stdio.h>"
   ]
  },
  {
   "cell_type": "code",
   "execution_count": 3,
   "id": "e777db20",
   "metadata": {},
   "outputs": [],
   "source": [
    "float lumi = 10; // fb-1 data_A+B+C+D\n",
    "TString path = \"https://atlas-opendata.web.cern.ch/atlas-opendata/samples/2020/4lep/\";\n",
    "\n",
    "TChain *data = new TChain();\n",
    "data->AddFile(path + \"Data/data_A.4lep.root\");\n",
    "data->AddFile(path + \"Data/data_B.4lep.root\");\n",
    "data->AddFile(path + \"Data/data_C.4lep.root\");\n",
    "data->AddFile(path + \"Data/data_D.4lep.root\");\n",
    "\n",
    "TChain *background_Zttbar = new TChain();\n",
    "background_Zttbar->AddFile(path + \"MC/mc_361106.Zee.4lep.root\");\n",
    "background_Zttbar->AddFile(path + \"MC/mc_361107.Zmumu.4lep.root\");\n",
    "background_Zttbar->AddFile(path + \"MC/mc_410000.ttbar_lep.4lep.root\");\n",
    "\n",
    "TChain *background_ZZ = new TChain();\n",
    "background_ZZ->AddFile(path + \"MC/mc_363490.llll.4lep.root\");\n",
    "\n",
    "TChain *signal_m_H_125GeV = new TChain();\n",
    "signal_m_H_125GeV->AddFile(path + \"MC/mc_345060.ggH125_ZZ4lep.4lep.root\");\n",
    "signal_m_H_125GeV->AddFile(path + \"MC/mc_344235.VBFH125_ZZ4lep.4lep.root\");\n",
    "signal_m_H_125GeV->AddFile(path + \"MC/mc_341964.WH125_ZZ4lep.4lep.root\");\n",
    "signal_m_H_125GeV->AddFile(path + \"MC/mc_341947.ZH125_ZZ4lep.4lep.root\");"
   ]
  },
  {
   "cell_type": "code",
   "execution_count": 6,
   "id": "66383935",
   "metadata": {},
   "outputs": [],
   "source": [
    "// define function to calculate weight of MC event\n",
    "float calc_weight(float xsec_weight, float mcWeight, float scaleFactor_PILEUP, float scaleFactor_ELE, \n",
    "                  float scaleFactor_MUON, float scaleFactor_LepTRIGGER)\n",
    "{\n",
    "    return xsec_weight*mcWeight*scaleFactor_PILEUP*scaleFactor_ELE*scaleFactor_MUON*scaleFactor_LepTRIGGER;\n",
    "}\n",
    "/*\n",
    "def calc_weight(xsec_weight, mcWeight, scaleFactor_PILEUP,\n",
    "                scaleFactor_ELE, scaleFactor_MUON, \n",
    "                scaleFactor_LepTRIGGER ):\n",
    "    return xsec_weight*mcWeight*scaleFactor_PILEUP*scaleFactor_ELE*scaleFactor_MUON*scaleFactor_LepTRIGGER\n",
    "*/"
   ]
  },
  {
   "cell_type": "code",
   "execution_count": null,
   "id": "1bb3cea5",
   "metadata": {},
   "outputs": [],
   "source": [
    "// define function to get cross-section weight\n",
    "float get_x_sec_weight(TChain *sample)\n",
    "{\n",
    "    \n",
    "    \n",
    "}\n",
    "\n",
    "/*\n",
    "def get_xsec_weight(sample):\n",
    "    info = infofile.infos[sample] # open infofile\n",
    "    xsec_weight = (lumi*1000*info[\"xsec\"])/(info[\"sumw\"]*info[\"red_eff\"]) #*1000 to go from fb-1 to pb-1\n",
    "    return xsec_weight # return cross-section weight\n",
    "*/"
   ]
  }
 ],
 "metadata": {
  "kernelspec": {
   "display_name": "ROOT C++",
   "language": "c++",
   "name": "root"
  },
  "language_info": {
   "codemirror_mode": "text/x-c++src",
   "file_extension": ".C",
   "mimetype": " text/x-c++src",
   "name": "c++"
  }
 },
 "nbformat": 4,
 "nbformat_minor": 5
}
