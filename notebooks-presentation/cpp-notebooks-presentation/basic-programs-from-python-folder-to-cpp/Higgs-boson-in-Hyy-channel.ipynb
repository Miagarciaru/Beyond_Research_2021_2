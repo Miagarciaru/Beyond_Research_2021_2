{
 "cells": [
  {
   "cell_type": "markdown",
   "id": "f2cf072a",
   "metadata": {},
   "source": [
    "<CENTER><h1>Searching for the Higgs boson in the H&#8594;&gamma;&gamma; channel</h1></CENTER>\n",
    "\n",
    "## C++ notebook example"
   ]
  },
  {
   "cell_type": "code",
   "execution_count": 1,
   "id": "646a426e",
   "metadata": {},
   "outputs": [],
   "source": [
    "#include <TChain.h>\n",
    "#include <vector>\n",
    "#include <TFile.h>\n",
    "#include <iostream>\n",
    "#include <string>\n",
    "#include <stdio.h>"
   ]
  },
  {
   "cell_type": "code",
   "execution_count": 2,
   "id": "a124813c",
   "metadata": {},
   "outputs": [],
   "source": [
    "TString path = \"https://atlas-opendata.web.cern.ch/atlas-opendata/samples/2020/GamGam/\";"
   ]
  },
  {
   "cell_type": "code",
   "execution_count": 3,
   "id": "3927b1f0",
   "metadata": {},
   "outputs": [],
   "source": [
    "TChain *file = new TChain(\"mini\");\n",
    "\n",
    "file->AddFile(path+\"Data/data_A.GamGam.root\");\n",
    "file->AddFile(path+\"Data/data_B.GamGam.root\");\n",
    "file->AddFile(path+\"Data/data_C.GamGam.root\");\n",
    "file->AddFile(path+\"Data/data_D.GamGam.root\");"
   ]
  },
  {
   "cell_type": "code",
   "execution_count": 4,
   "id": "a5047af0",
   "metadata": {},
   "outputs": [],
   "source": [
    "TCanvas *canvas = new TCanvas();"
   ]
  },
  {
   "cell_type": "code",
   "execution_count": 5,
   "id": "8ae60c7f",
   "metadata": {},
   "outputs": [
    {
     "name": "stdout",
     "output_type": "stream",
     "text": [
      "7798424\n"
     ]
    }
   ],
   "source": [
    "//TTree *tree = (TTree*) file->Get(\"mini\");\n",
    "int nentries = (Int_t)file->GetEntries();\n",
    "cout << nentries << endl;"
   ]
  },
  {
   "cell_type": "code",
   "execution_count": 6,
   "id": "5187e9db",
   "metadata": {},
   "outputs": [],
   "source": [
    "UInt_t  photon_n = -1;  //number of preselected photons\n",
    "\n",
    "vector<float>   *photon_pt;  //transverse momentum of the photon\n",
    "vector<float>   *photon_eta = 0;  //pseudorapidity of the photon\n",
    "vector<float>   *photon_phi = 0;  //azimuthal angle of the photon\n",
    "vector<float>   *photon_E   = 0;  //energy of the photon\n",
    "vector<bool>    *photon_isTightID = 0;\n",
    "\n",
    "Bool_t          TrigP = 0;\n",
    "vector<float>   *photon_ptcone30 = 0;\n",
    "vector<float>   *photon_etcone20 = 0;"
   ]
  },
  {
   "cell_type": "code",
   "execution_count": 7,
   "id": "de6586e2",
   "metadata": {},
   "outputs": [],
   "source": [
    "file->SetBranchAddress(\"photon_pt\",        &photon_pt);  \n",
    "file->SetBranchAddress(\"photon_n\",         &photon_n);  \n",
    "file->SetBranchAddress(\"photon_eta\",       &photon_eta);\n",
    "file->SetBranchAddress(\"photon_phi\",       &photon_phi);\n",
    "file->SetBranchAddress(\"photon_E\",         &photon_E);\n",
    "file->SetBranchAddress(\"photon_isTightID\", &photon_isTightID);\n",
    "file->SetBranchAddress(\"trigP\",            &TrigP);\n",
    "file->SetBranchAddress(\"photon_ptcone30\",  &photon_ptcone30);\n",
    "file->SetBranchAddress(\"photon_etcone20\",  &photon_etcone20);"
   ]
  },
  {
   "cell_type": "code",
   "execution_count": 8,
   "id": "43d9c444",
   "metadata": {},
   "outputs": [],
   "source": [
    "TH1F *hist = new TH1F(\"h_M_Hyy\",\"Diphoton invariant mass ; Invariant Mass m_{yy} [GeV] ; Events\",30,105,160);"
   ]
  },
  {
   "cell_type": "code",
   "execution_count": 9,
   "id": "a838e34a",
   "metadata": {},
   "outputs": [],
   "source": [
    "TLorentzVector Photon_1 = TLorentzVector();\n",
    "TLorentzVector Photon_2 = TLorentzVector();\n",
    "\n",
    "int nbytes = 0;\n",
    "\n",
    "for (int ii=0; ii<nentries; ii++)\n",
    "{\n",
    "    nbytes = file->GetEntry(ii);\n",
    "    if(TrigP)\n",
    "    {\n",
    "        vector <int> goodphoton_index = {0, 0, 0, 0, 0};\n",
    "        int goodphoton_n = 0;\n",
    "        int photon_index = 0;\n",
    "        \n",
    "        for (unsigned jj=0; jj<photon_n; jj++)\n",
    "        {\n",
    "            if(photon_isTightID->at(jj))\n",
    "            {\n",
    "                if((photon_pt->at(jj) > 25000) && (TMath::Abs(photon_eta->at(jj)) < 2.37) && ((TMath::Abs(photon_eta->at(jj)) < 1.37) || (TMath::Abs(photon_eta->at(jj)) > 1.52)))\n",
    "                {\n",
    "                    goodphoton_n += 1;\n",
    "                    goodphoton_index[photon_index] = jj;\n",
    "                    photon_index += 1;\n",
    "                    //end Pt and eta pre-selection\n",
    "                // end on request of quality of the photon\n",
    "             // end looping photons in the current event\n",
    "                }    \n",
    "            }\n",
    "        }\n",
    "        \n",
    "        // Using the two selected photons\n",
    "        if(goodphoton_n == 2)\n",
    "        {\n",
    "            int goodphoton1_index = goodphoton_index[0];\n",
    "            int goodphoton2_index = goodphoton_index[1];\n",
    "            // Getting couple of photons with good isolation \n",
    "            if((photon_ptcone30->at(goodphoton1_index)/photon_pt->at(goodphoton1_index) < 0.065) && (photon_etcone20->at(goodphoton1_index)/photon_pt->at(goodphoton1_index) < 0.065))\n",
    "            {\n",
    "                if((photon_ptcone30->at(goodphoton2_index)/photon_pt->at(goodphoton2_index) < 0.065) && (photon_etcone20->at(goodphoton2_index)/photon_pt->at(goodphoton2_index) < 0.065))\n",
    "                {\n",
    "                    Photon_1.SetPtEtaPhiE(photon_pt->at(goodphoton1_index)/1000.0, photon_eta->at(goodphoton1_index), photon_phi->at(goodphoton1_index), photon_E->at(goodphoton1_index)/1000.0);\n",
    "                    Photon_2.SetPtEtaPhiE(photon_pt->at(goodphoton2_index)/1000.0, photon_eta->at(goodphoton2_index), photon_phi->at(goodphoton2_index), photon_E->at(goodphoton2_index)/1000.0);\n",
    "                    // Adding the two TLorentz vectors\n",
    "                    TLorentzVector Photon_12 = TLorentzVector();\n",
    "                    Photon_12 = Photon_1 + Photon_2;\n",
    "                    // Filling with the mass of the gamma-gamma system\n",
    "                    hist->Fill(Photon_12.M());\n",
    "                }\n",
    "            }\n",
    "        }\n",
    "    }\n",
    "}"
   ]
  },
  {
   "cell_type": "code",
   "execution_count": 10,
   "id": "0f547732",
   "metadata": {},
   "outputs": [],
   "source": [
    "hist->SetFillStyle(3001);\n",
    "hist->SetFillColorAlpha(kBlue, 0.5);\n",
    "hist->Draw();"
   ]
  },
  {
   "cell_type": "code",
   "execution_count": 11,
   "id": "bf502881",
   "metadata": {},
   "outputs": [
    {
     "data": {
      "image/png": "[encoded data removed]",
      "text/plain": [
       "<IPython.core.display.Image object>"
      ]
     },
     "metadata": {},
     "output_type": "display_data"
    }
   ],
   "source": [
    "TLatex l;\n",
    "l.SetNDC();\n",
    "l.SetTextFont(42);\n",
    "l.SetTextColor(kBlack);\n",
    "l.SetTextSize(0.045);  \n",
    "l.DrawLatex(0.50,0.6,\"ATLAS Preliminary Open Data\");\n",
    "\n",
    "TLatex o;\n",
    "o.SetNDC();\n",
    "o.SetTextFont(42);\n",
    "o.SetTextColor(kBlack);\n",
    "o.SetTextSize(0.03);\n",
    "double dely = 0.04; \n",
    "o.DrawLatex(0.50,0.6-dely, Form(\"#sqrt{s} = 13 TeV\"));\n",
    "o.DrawLatex(0.50,0.57-dely, Form(\"H #rightarrow #gamma #gamma\"));\n",
    "\n",
    "canvas->Draw();"
   ]
  },
  {
   "cell_type": "code",
   "execution_count": 12,
   "id": "73057119",
   "metadata": {},
   "outputs": [
    {
     "data": {
      "image/png": "[encoded data removed]",
      "text/plain": [
       "<IPython.core.display.Image object>"
      ]
     },
     "metadata": {},
     "output_type": "display_data"
    }
   ],
   "source": [
    "hist->Draw(\"E3\");\n",
    "l.DrawLatex(0.50,0.6,\"ATLAS Preliminary Open Data\");\n",
    "o.DrawLatex(0.50,0.6-dely, Form(\"#sqrt{s} = 13 TeV\"));\n",
    "o.DrawLatex(0.50,0.57-dely, Form(\"H #rightarrow #gamma #gamma\"));\n",
    "canvas->SetLogy();\n",
    "canvas->Draw();"
   ]
  }
 ],
 "metadata": {
  "kernelspec": {
   "display_name": "ROOT C++",
   "language": "c++",
   "name": "root"
  },
  "language_info": {
   "codemirror_mode": "text/x-c++src",
   "file_extension": ".C",
   "mimetype": " text/x-c++src",
   "name": "c++"
  }
 },
 "nbformat": 4,
 "nbformat_minor": 5
}
